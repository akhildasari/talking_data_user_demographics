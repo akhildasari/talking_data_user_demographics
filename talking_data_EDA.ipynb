{
 "cells": [
  {
   "cell_type": "code",
   "execution_count": 18,
   "metadata": {
    "executionInfo": {
     "elapsed": 1795,
     "status": "ok",
     "timestamp": 1602076365505,
     "user": {
      "displayName": "Akhil Dasari",
      "photoUrl": "https://lh3.googleusercontent.com/a-/AOh14Gj_ontPNLUzNXQEYqVaJl7UqW3a6Wbio0rfKXn9fg=s64",
      "userId": "06830476918003228496"
     },
     "user_tz": -330
    },
    "id": "FtQpHTmDAfbW"
   },
   "outputs": [],
   "source": [
    "import pandas as pd\n",
    "import numpy as np\n",
    "import matplotlib.pyplot as plt\n",
    "import seaborn as sns"
   ]
  },
  {
   "cell_type": "code",
   "execution_count": 2,
   "metadata": {
    "id": "CBtXU2VyAfba"
   },
   "outputs": [],
   "source": [
    "app_labels=pd.read_csv(\"data/app_labels.csv\")\n",
    "app_events=pd.read_csv(\"data/app_events.csv\")\n",
    "events=pd.read_csv(\"data/events.csv\")\n",
    "gender_age_test=pd.read_csv(\"data/gender_age_test.csv\")\n",
    "gender_age_train=pd.read_csv(\"data/gender_age_train.csv\")\n",
    "label_categories=pd.read_csv(\"data/label_categories.csv\")\n",
    "phone_data=pd.read_csv(\"data/phone_brand_device_model.csv\")\n"
   ]
  },
  {
   "cell_type": "markdown",
   "metadata": {},
   "source": [
    "-- "
   ]
  },
  {
   "cell_type": "markdown",
   "metadata": {
    "id": "yCOGGYt7Afbd"
   },
   "source": [
    "<h3>Gender,age and group Analysis:<h3>"
   ]
  },
  {
   "cell_type": "code",
   "execution_count": null,
   "metadata": {
    "id": "3Kvs0z6KAfbe",
    "outputId": "ecc00cb4-4c91-47c8-a054-4ea249ed7d0e"
   },
   "outputs": [
    {
     "data": {
      "text/html": [
       "<div>\n",
       "<style scoped>\n",
       "    .dataframe tbody tr th:only-of-type {\n",
       "        vertical-align: middle;\n",
       "    }\n",
       "\n",
       "    .dataframe tbody tr th {\n",
       "        vertical-align: top;\n",
       "    }\n",
       "\n",
       "    .dataframe thead th {\n",
       "        text-align: right;\n",
       "    }\n",
       "</style>\n",
       "<table border=\"1\" class=\"dataframe\">\n",
       "  <thead>\n",
       "    <tr style=\"text-align: right;\">\n",
       "      <th></th>\n",
       "      <th>device_id</th>\n",
       "    </tr>\n",
       "  </thead>\n",
       "  <tbody>\n",
       "    <tr>\n",
       "      <th>0</th>\n",
       "      <td>1002079943728939269</td>\n",
       "    </tr>\n",
       "    <tr>\n",
       "      <th>1</th>\n",
       "      <td>-1547860181818787117</td>\n",
       "    </tr>\n",
       "    <tr>\n",
       "      <th>2</th>\n",
       "      <td>7374582448058474277</td>\n",
       "    </tr>\n",
       "    <tr>\n",
       "      <th>3</th>\n",
       "      <td>-6220210354783429585</td>\n",
       "    </tr>\n",
       "    <tr>\n",
       "      <th>4</th>\n",
       "      <td>-5893464122623104785</td>\n",
       "    </tr>\n",
       "  </tbody>\n",
       "</table>\n",
       "</div>"
      ],
      "text/plain": [
       "             device_id\n",
       "0  1002079943728939269\n",
       "1 -1547860181818787117\n",
       "2  7374582448058474277\n",
       "3 -6220210354783429585\n",
       "4 -5893464122623104785"
      ]
     },
     "execution_count": 3,
     "metadata": {
      "tags": []
     },
     "output_type": "execute_result"
    }
   ],
   "source": [
    "gender_age_test.head()"
   ]
  },
  {
   "cell_type": "code",
   "execution_count": null,
   "metadata": {
    "id": "3sLPn-vzAfbi",
    "outputId": "234e6a08-e36c-4291-b7b1-3ebf25d2e1d9"
   },
   "outputs": [
    {
     "data": {
      "text/plain": [
       "Text(0, 0.5, 'total people in Group')"
      ]
     },
     "execution_count": 4,
     "metadata": {
      "tags": []
     },
     "output_type": "execute_result"
    },
    {
     "data": {
      "image/png": "[encoded data removed]",
      "text/plain": [
       "<Figure size 432x288 with 1 Axes>"
      ]
     },
     "metadata": {
      "needs_background": "light",
      "tags": []
     },
     "output_type": "display_data"
    }
   ],
   "source": [
    "gender_age_train['group'].value_counts().plot.bar()\n",
    "plt.title('Group Counts Plot')\n",
    "plt.xlabel('Group')\n",
    "plt.ylabel('total people in Group')"
   ]
  },
  {
   "cell_type": "markdown",
   "metadata": {
    "id": "cA6UthmDAfbl"
   },
   "source": [
    "<li>There are totally 12 groups,where male users are more than female users</li>\n",
    "<li>Male age range -> 22-39+</li>\n",
    "<li>Female age range -> 23-43+</li>\n",
    "<li>Age wise we have more data in females and count wise male data is more.</li>"
   ]
  },
  {
   "cell_type": "code",
   "execution_count": null,
   "metadata": {
    "id": "g7TUfehIAfbm",
    "outputId": "f9cbdf31-f27c-43cb-9872-63d11be526ee"
   },
   "outputs": [
    {
     "name": "stdout",
     "output_type": "stream",
     "text": [
      "percentage of female:35.824234710965236%\n",
      "percentage of male:64.17576528903477%\n"
     ]
    },
    {
     "data": {
      "image/png": "[encoded data removed]",
      "text/plain": [
       "<Figure size 432x288 with 1 Axes>"
      ]
     },
     "metadata": {
      "needs_background": "light",
      "tags": []
     },
     "output_type": "display_data"
    }
   ],
   "source": [
    "gender_age_train['gender'].value_counts().plot.bar()\n",
    "plt.title('Gender Counts Plot')\n",
    "plt.xlabel('gender')\n",
    "plt.ylabel('total count of gender')\n",
    "\n",
    "gender_counts=gender_age_train['gender'].value_counts()\n",
    "total=gender_counts[0]+gender_counts[1]\n",
    "print(\"percentage of female:{0}%\".format((gender_counts[1]/total)*100))\n",
    "print(\"percentage of male:{0}%\".format((gender_counts[0]/total)*100))"
   ]
  },
  {
   "cell_type": "code",
   "execution_count": null,
   "metadata": {
    "id": "RUnfYpohAfbp",
    "outputId": "d31784fd-bac3-4b0d-8adc-8f8a06536bd0"
   },
   "outputs": [
    {
     "name": "stderr",
     "output_type": "stream",
     "text": [
      "/usr/local/lib/python3.5/site-packages/scipy/stats/stats.py:1713: FutureWarning: Using a non-tuple sequence for multidimensional indexing is deprecated; use `arr[tuple(seq)]` instead of `arr[seq]`. In the future this will be interpreted as an array index, `arr[np.array(seq)]`, which will result either in an error or a different result.\n",
      "  return np.add.reduce(sorted[indexer] * weights, axis=axis) / sumval\n"
     ]
    },
    {
     "data": {
      "text/plain": [
       "Text(0.5, 1.0, 'distPlot-gender vs age')"
      ]
     },
     "execution_count": 6,
     "metadata": {
      "tags": []
     },
     "output_type": "execute_result"
    },
    {
     "data": {
      "image/png": "[encoded data removed]",
      "text/plain": [
       "<Figure size 764.625x720 with 1 Axes>"
      ]
     },
     "metadata": {
      "needs_background": "light",
      "tags": []
     },
     "output_type": "display_data"
    }
   ],
   "source": [
    "sns.FacetGrid(gender_age_train,hue=\"gender\", height=10) \\\n",
    "   .map(sns.distplot, \"age\") \\\n",
    "   .add_legend();\n",
    "plt.title(\"distPlot-gender vs age\")\n",
    "\n",
    "\n"
   ]
  },
  {
   "cell_type": "code",
   "execution_count": null,
   "metadata": {
    "id": "-R4ByQlgAfbv",
    "outputId": "56a42086-f79c-42de-d6c3-ef1c6ad015ef"
   },
   "outputs": [
    {
     "data": {
      "text/plain": [
       "Text(0.5, 1.0, 'BoxPlot-Male age')"
      ]
     },
     "execution_count": 7,
     "metadata": {
      "tags": []
     },
     "output_type": "execute_result"
    },
    {
     "data": {
      "image/png": "[encoded data removed]",
      "text/plain": [
       "<Figure size 432x288 with 1 Axes>"
      ]
     },
     "metadata": {
      "needs_background": "light",
      "tags": []
     },
     "output_type": "display_data"
    }
   ],
   "source": [
    "df=gender_age_train[ (gender_age_train['gender']=='M') ]\n",
    "sns.boxplot(x='age', data=df)\n",
    "plt.title(\"BoxPlot-Male age\")\n",
    "\n",
    "\n"
   ]
  },
  {
   "cell_type": "code",
   "execution_count": null,
   "metadata": {
    "id": "ZbisA1KxAfbz",
    "outputId": "2015b16d-e5e6-4e66-f3c4-45145132edab"
   },
   "outputs": [
    {
     "data": {
      "text/plain": [
       "Text(0.5, 1.0, 'BoxPlot-Female age')"
      ]
     },
     "execution_count": 8,
     "metadata": {
      "tags": []
     },
     "output_type": "execute_result"
    },
    {
     "data": {
      "image/png": "[encoded data removed]",
      "text/plain": [
       "<Figure size 432x288 with 1 Axes>"
      ]
     },
     "metadata": {
      "needs_background": "light",
      "tags": []
     },
     "output_type": "display_data"
    }
   ],
   "source": [
    "df=gender_age_train[ (gender_age_train['gender']=='F') ]\n",
    "sns.boxplot(x='age', data=df)\n",
    "plt.title(\"BoxPlot-Female age\")\n"
   ]
  },
  {
   "cell_type": "code",
   "execution_count": null,
   "metadata": {
    "id": "rgVdCqUqAfb2",
    "outputId": "c9723b9d-6899-476d-8bd0-6af84e988686"
   },
   "outputs": [
    {
     "name": "stdout",
     "output_type": "stream",
     "text": [
      "\n",
      "Medians:\n",
      "29.0\n",
      "29.0\n",
      "\n",
      "Quantiles:\n",
      "[ 1. 25. 29. 35. 90.]\n",
      "[10. 25. 29. 37. 96.]\n",
      "\n",
      "90th Percentiles:\n",
      "44.0\n",
      "47.0\n",
      "\n",
      "Median Absolute Deviation\n",
      "7.41301109252801\n",
      "7.41301109252801\n"
     ]
    }
   ],
   "source": [
    "#Median, Quantiles, Percentiles, IQR.\n",
    "import numpy as np\n",
    "\n",
    "df_m=gender_age_train[ (gender_age_train['gender']=='M') ]\n",
    "df_f=gender_age_train[ (gender_age_train['gender']=='F') ]\n",
    "\n",
    "print(\"\\nMedians:\")\n",
    "print(np.median(df_m['age']))\n",
    "print(np.median(df_f['age']))\n",
    "\n",
    "\n",
    "print(\"\\nQuantiles:\")\n",
    "print(np.percentile(df_m['age'],np.arange(0, 101, 25)))\n",
    "print(np.percentile(df_f['age'],np.arange(0, 101, 25)))\n",
    "\n",
    "print(\"\\n90th Percentiles:\")\n",
    "print(np.percentile(df_m['age'],90))\n",
    "print(np.percentile(df_f['age'],90))\n",
    "\n",
    "import statsmodels\n",
    "from statsmodels import robust\n",
    "print (\"\\nMedian Absolute Deviation\")\n",
    "print(robust.mad(df_m['age']))\n",
    "print(robust.mad(df_f['age']))\n",
    "\n"
   ]
  },
  {
   "cell_type": "markdown",
   "metadata": {
    "id": "2lGlcOauAfb5"
   },
   "source": [
    "<h5>Observation:</h5>\n",
    "<li>25 and 75 Percentile Age values for Both Male and Female are similar</li>\n",
    "<li>MAD is same for both Male and female</li>\n",
    "<li>Evn though the count of male is higher than female ,the distribution of data in both is similar.</li>"
   ]
  },
  {
   "cell_type": "code",
   "execution_count": null,
   "metadata": {
    "id": "IezCa7ApAfb5",
    "outputId": "51c7d97c-1f23-40bd-d431-2f4fe259891d"
   },
   "outputs": [
    {
     "name": "stdout",
     "output_type": "stream",
     "text": [
      "(112071, 1)\n"
     ]
    },
    {
     "data": {
      "text/html": [
       "<div>\n",
       "<style scoped>\n",
       "    .dataframe tbody tr th:only-of-type {\n",
       "        vertical-align: middle;\n",
       "    }\n",
       "\n",
       "    .dataframe tbody tr th {\n",
       "        vertical-align: top;\n",
       "    }\n",
       "\n",
       "    .dataframe thead th {\n",
       "        text-align: right;\n",
       "    }\n",
       "</style>\n",
       "<table border=\"1\" class=\"dataframe\">\n",
       "  <thead>\n",
       "    <tr style=\"text-align: right;\">\n",
       "      <th></th>\n",
       "      <th>device_id</th>\n",
       "    </tr>\n",
       "  </thead>\n",
       "  <tbody>\n",
       "    <tr>\n",
       "      <th>0</th>\n",
       "      <td>1002079943728939269</td>\n",
       "    </tr>\n",
       "    <tr>\n",
       "      <th>1</th>\n",
       "      <td>-1547860181818787117</td>\n",
       "    </tr>\n",
       "    <tr>\n",
       "      <th>2</th>\n",
       "      <td>7374582448058474277</td>\n",
       "    </tr>\n",
       "    <tr>\n",
       "      <th>3</th>\n",
       "      <td>-6220210354783429585</td>\n",
       "    </tr>\n",
       "    <tr>\n",
       "      <th>4</th>\n",
       "      <td>-5893464122623104785</td>\n",
       "    </tr>\n",
       "  </tbody>\n",
       "</table>\n",
       "</div>"
      ],
      "text/plain": [
       "             device_id\n",
       "0  1002079943728939269\n",
       "1 -1547860181818787117\n",
       "2  7374582448058474277\n",
       "3 -6220210354783429585\n",
       "4 -5893464122623104785"
      ]
     },
     "execution_count": 10,
     "metadata": {
      "tags": []
     },
     "output_type": "execute_result"
    }
   ],
   "source": [
    "print(gender_age_test.shape)\n",
    "gender_age_test.head()"
   ]
  },
  {
   "cell_type": "markdown",
   "metadata": {
    "id": "Vi1yH9QKAfb8"
   },
   "source": [
    "<h5>Observation:</h5>\n",
    "<li>gender_age_test contains only device ids and has 112071 rows of data.</li>"
   ]
  },
  {
   "cell_type": "markdown",
   "metadata": {
    "id": "Lftv-MZDAfb9"
   },
   "source": [
    "<h3>Event,app events and labels analysis:<h3>"
   ]
  },
  {
   "cell_type": "code",
   "execution_count": null,
   "metadata": {
    "id": "MBXFrlb1Afb9",
    "outputId": "2e6daa75-280c-4dab-ee25-795cfd7a8c9f"
   },
   "outputs": [
    {
     "data": {
      "text/plain": [
       "(3252950,)"
      ]
     },
     "execution_count": 11,
     "metadata": {
      "tags": []
     },
     "output_type": "execute_result"
    }
   ],
   "source": [
    "events['device_id'].shape"
   ]
  },
  {
   "cell_type": "code",
   "execution_count": null,
   "metadata": {
    "id": "usLzEWDqAfcA",
    "outputId": "fabf909a-ecaf-4b95-cb9a-432e90d1089f"
   },
   "outputs": [
    {
     "name": "stdout",
     "output_type": "stream",
     "text": [
      "Event Start:  2016-04-30 23:52:24\n",
      "Event End:  2016-05-08 00:00:08\n"
     ]
    }
   ],
   "source": [
    "event_timestamps=events['timestamp'].values\n",
    "print(\"Event Start: \",np.min(event_timestamps))\n",
    "print(\"Event End: \",np.max(event_timestamps))"
   ]
  },
  {
   "cell_type": "code",
   "execution_count": null,
   "metadata": {
    "id": "0XexuMoLAfcD",
    "outputId": "ce91211f-9a6a-4926-9692-77443753fb04"
   },
   "outputs": [
    {
     "data": {
      "text/plain": [
       "0           0\n",
       "1           0\n",
       "2           0\n",
       "3           0\n",
       "4           0\n",
       "           ..\n",
       "3252945    23\n",
       "3252946    23\n",
       "3252947    23\n",
       "3252948    23\n",
       "3252949    23\n",
       "Name: hour, Length: 3252950, dtype: int64"
      ]
     },
     "execution_count": 36,
     "metadata": {
      "tags": []
     },
     "output_type": "execute_result"
    }
   ],
   "source": [
    "events['hour']=events['timestamp'].map(lambda x:pd.to_datetime(x).hour)\n",
    "events['hour']"
   ]
  },
  {
   "cell_type": "code",
   "execution_count": null,
   "metadata": {
    "id": "tOSuS6yxAfcG",
    "outputId": "3a797b01-7f4b-487d-81e7-07ef6aa27de7"
   },
   "outputs": [
    {
     "data": {
      "text/plain": [
       "0          Y\n",
       "1          Y\n",
       "2          Y\n",
       "3          Y\n",
       "4          Y\n",
       "          ..\n",
       "3252945    Y\n",
       "3252946    Y\n",
       "3252947    Y\n",
       "3252948    Y\n",
       "3252949    Y\n",
       "Name: night_active, Length: 3252950, dtype: object"
      ]
     },
     "execution_count": 56,
     "metadata": {
      "tags": []
     },
     "output_type": "execute_result"
    }
   ],
   "source": [
    "events['night_active'] = [\"Y\" if (x>=23) or (x<=3) else \"N\" for x in events['hour']] \n",
    "\n",
    "'''for i,j in enumerate(events['hour']):\n",
    "    if (i>23)|(i<3):\n",
    "        events['night_active'][j]='Y'\n",
    "    else:\n",
    "        events['night_active'][j]='N'        \n",
    "    \n",
    "'''\n",
    "events['night_active']"
   ]
  },
  {
   "cell_type": "code",
   "execution_count": null,
   "metadata": {
    "id": "4AdP-yr2AfcJ"
   },
   "outputs": [],
   "source": [
    "events_merged=gender_age_train.merge(events, left_on='device_id', right_on='device_id',how='inner')\n"
   ]
  },
  {
   "cell_type": "code",
   "execution_count": null,
   "metadata": {
    "id": "lTGal4lyAfcL",
    "outputId": "8ab4fed5-e300-4bf6-8557-8e830e5ef51e"
   },
   "outputs": [
    {
     "data": {
      "text/plain": [
       "Text(0.5, 1.0, 'CountPlot-Status vs nodes')"
      ]
     },
     "execution_count": 58,
     "metadata": {
      "tags": []
     },
     "output_type": "execute_result"
    },
    {
     "data": {
      "image/png": "[encoded data removed]",
      "text/plain": [
       "<Figure size 789.25x720 with 1 Axes>"
      ]
     },
     "metadata": {
      "needs_background": "light",
      "tags": []
     },
     "output_type": "display_data"
    }
   ],
   "source": [
    "sns.FacetGrid(events_merged,hue=\"night_active\", size=10,) \\\n",
    "   .map(sns.countplot, \"group\") \\\n",
    "   .add_legend()  \n",
    "plt.title(\"CountPlot-Status vs nodes\")\n",
    "\n",
    " \n"
   ]
  },
  {
   "cell_type": "markdown",
   "metadata": {
    "id": "rU6OrMZtAfcN"
   },
   "source": [
    "<h5>Observation</h5>\n",
    "<li>M32-38 has significant number of people who spent the phone between 11PM and 3AM.\n",
    "<li>And comparitively Males use the phone at night more than women."
   ]
  },
  {
   "cell_type": "markdown",
   "metadata": {
    "id": "XvYUMJ5LAfcO"
   },
   "source": [
    "<h5>Observation</h5>\n",
    "<li>Data is from 30th April 11.52PM to 8th April 12AM 2016</li>"
   ]
  },
  {
   "cell_type": "code",
   "execution_count": null,
   "metadata": {
    "id": "_EMJtXvlAfcO"
   },
   "outputs": [],
   "source": [
    "import math as m\n",
    "\n",
    "events_merged=gender_age_train.merge(events, left_on='device_id', right_on='device_id',how='left')\n",
    "events_merged['Events_Flag'] = [\"N\" if m.isnan(x) else \"Y\" for x in events_merged['event_id']] \n"
   ]
  },
  {
   "cell_type": "code",
   "execution_count": null,
   "metadata": {
    "id": "d3dwOpFKAfcR",
    "outputId": "67e8ebb0-7d67-45d7-8066-e312695e9f0a"
   },
   "outputs": [
    {
     "data": {
      "image/png": "[encoded data removed]",
      "text/plain": [
       "<Figure size 432x288 with 1 Axes>"
      ]
     },
     "metadata": {
      "tags": []
     },
     "output_type": "display_data"
    }
   ],
   "source": [
    "events_merged=events_merged.groupby([\"device_id\",\"Events_Flag\"])[\"device_id\"].count().reset_index(name=\"count\")\n",
    "\n",
    "count=events_merged['Events_Flag'].value_counts()\n",
    "label=['Has Events','No Events']\n",
    "plt.pie(count, labels = label,autopct='%1.2f%%')\n",
    "plt.title(\"Events pie chart\")\n",
    "plt.show()"
   ]
  },
  {
   "cell_type": "markdown",
   "metadata": {
    "id": "7enFWCq3AfcU"
   },
   "source": [
    "<h5>Observation:</h5>\n",
    "<li>Majority(68.77%) of Train data has events</li>"
   ]
  },
  {
   "cell_type": "code",
   "execution_count": null,
   "metadata": {
    "id": "5Vv6gA7IAfcU",
    "outputId": "b9a69738-4ac1-482f-af25-55369a243f6f"
   },
   "outputs": [
    {
     "data": {
      "image/png": "[encoded data removed]",
      "text/plain": [
       "<Figure size 432x288 with 1 Axes>"
      ]
     },
     "metadata": {
      "tags": []
     },
     "output_type": "display_data"
    }
   ],
   "source": [
    "import math as m\n",
    "\n",
    "events_merged_test=events.merge(gender_age_test, left_on='device_id', right_on='device_id',how='right')\n",
    "events_merged_test['Events_Flag'] = [\"N\" if m.isnan(x) else \"Y\" for x in events_merged_test['event_id']] \n",
    "\n",
    "events_merged_test=events_merged_test.groupby([\"device_id\",\"Events_Flag\"])[\"device_id\"].count().reset_index(name=\"count\")\n",
    "\n",
    "count=events_merged_test['Events_Flag'].value_counts()\n",
    "label=['Has Events','No Events']\n",
    "plt.pie(count, labels = label,autopct='%1.2f%%')\n",
    "plt.title(\"Events pie chart\")\n",
    "\n",
    "plt.show()\n",
    "\n"
   ]
  },
  {
   "cell_type": "markdown",
   "metadata": {
    "id": "_Z41X5DKAfcX"
   },
   "source": [
    "<h5>Observation:</h5>\n",
    "<li>Majority(68.60%) of Test data has events</li>"
   ]
  },
  {
   "cell_type": "code",
   "execution_count": null,
   "metadata": {
    "id": "YsopYK8QAfcX",
    "outputId": "a731c64d-6a51-40b6-bf58-7ddf16eeedcc"
   },
   "outputs": [
    {
     "data": {
      "text/html": [
       "<div>\n",
       "<style scoped>\n",
       "    .dataframe tbody tr th:only-of-type {\n",
       "        vertical-align: middle;\n",
       "    }\n",
       "\n",
       "    .dataframe tbody tr th {\n",
       "        vertical-align: top;\n",
       "    }\n",
       "\n",
       "    .dataframe thead th {\n",
       "        text-align: right;\n",
       "    }\n",
       "</style>\n",
       "<table border=\"1\" class=\"dataframe\">\n",
       "  <thead>\n",
       "    <tr style=\"text-align: right;\">\n",
       "      <th></th>\n",
       "      <th>device_id</th>\n",
       "      <th>Events_Flag</th>\n",
       "      <th>count</th>\n",
       "    </tr>\n",
       "  </thead>\n",
       "  <tbody>\n",
       "    <tr>\n",
       "      <th>0</th>\n",
       "      <td>-9223067244542181226</td>\n",
       "      <td>N</td>\n",
       "      <td>1</td>\n",
       "    </tr>\n",
       "    <tr>\n",
       "      <th>1</th>\n",
       "      <td>-9222956879900151005</td>\n",
       "      <td>Y</td>\n",
       "      <td>65</td>\n",
       "    </tr>\n",
       "    <tr>\n",
       "      <th>2</th>\n",
       "      <td>-9222754701995937853</td>\n",
       "      <td>N</td>\n",
       "      <td>1</td>\n",
       "    </tr>\n",
       "    <tr>\n",
       "      <th>3</th>\n",
       "      <td>-9222352239947207574</td>\n",
       "      <td>N</td>\n",
       "      <td>1</td>\n",
       "    </tr>\n",
       "    <tr>\n",
       "      <th>4</th>\n",
       "      <td>-9222173362545970626</td>\n",
       "      <td>N</td>\n",
       "      <td>1</td>\n",
       "    </tr>\n",
       "    <tr>\n",
       "      <th>...</th>\n",
       "      <td>...</td>\n",
       "      <td>...</td>\n",
       "      <td>...</td>\n",
       "    </tr>\n",
       "    <tr>\n",
       "      <th>74640</th>\n",
       "      <td>9220914901466458680</td>\n",
       "      <td>Y</td>\n",
       "      <td>44</td>\n",
       "    </tr>\n",
       "    <tr>\n",
       "      <th>74641</th>\n",
       "      <td>9221152396628736959</td>\n",
       "      <td>N</td>\n",
       "      <td>1</td>\n",
       "    </tr>\n",
       "    <tr>\n",
       "      <th>74642</th>\n",
       "      <td>9221608286127666096</td>\n",
       "      <td>N</td>\n",
       "      <td>1</td>\n",
       "    </tr>\n",
       "    <tr>\n",
       "      <th>74643</th>\n",
       "      <td>9221843411551060582</td>\n",
       "      <td>N</td>\n",
       "      <td>1</td>\n",
       "    </tr>\n",
       "    <tr>\n",
       "      <th>74644</th>\n",
       "      <td>9222849349208140841</td>\n",
       "      <td>N</td>\n",
       "      <td>1</td>\n",
       "    </tr>\n",
       "  </tbody>\n",
       "</table>\n",
       "<p>74645 rows × 3 columns</p>\n",
       "</div>"
      ],
      "text/plain": [
       "                 device_id Events_Flag  count\n",
       "0     -9223067244542181226           N      1\n",
       "1     -9222956879900151005           Y     65\n",
       "2     -9222754701995937853           N      1\n",
       "3     -9222352239947207574           N      1\n",
       "4     -9222173362545970626           N      1\n",
       "...                    ...         ...    ...\n",
       "74640  9220914901466458680           Y     44\n",
       "74641  9221152396628736959           N      1\n",
       "74642  9221608286127666096           N      1\n",
       "74643  9221843411551060582           N      1\n",
       "74644  9222849349208140841           N      1\n",
       "\n",
       "[74645 rows x 3 columns]"
      ]
     },
     "execution_count": 16,
     "metadata": {
      "tags": []
     },
     "output_type": "execute_result"
    }
   ],
   "source": [
    "events_merged"
   ]
  },
  {
   "cell_type": "code",
   "execution_count": null,
   "metadata": {
    "id": "wQoieKd-Afca"
   },
   "outputs": [],
   "source": [
    "events_merged=gender_age_train.merge(events, left_on='device_id', right_on='device_id',how='left')\n"
   ]
  },
  {
   "cell_type": "code",
   "execution_count": null,
   "metadata": {
    "id": "NukZ4U1HAfcc",
    "outputId": "d107672b-b6cb-4ba1-fc4a-cb4d2122e9c4"
   },
   "outputs": [
    {
     "data": {
      "text/html": [
       "<div>\n",
       "<style scoped>\n",
       "    .dataframe tbody tr th:only-of-type {\n",
       "        vertical-align: middle;\n",
       "    }\n",
       "\n",
       "    .dataframe tbody tr th {\n",
       "        vertical-align: top;\n",
       "    }\n",
       "\n",
       "    .dataframe thead th {\n",
       "        text-align: right;\n",
       "    }\n",
       "</style>\n",
       "<table border=\"1\" class=\"dataframe\">\n",
       "  <thead>\n",
       "    <tr style=\"text-align: right;\">\n",
       "      <th></th>\n",
       "      <th>device_id</th>\n",
       "      <th>group</th>\n",
       "      <th>count</th>\n",
       "    </tr>\n",
       "  </thead>\n",
       "  <tbody>\n",
       "    <tr>\n",
       "      <th>0</th>\n",
       "      <td>-9223067244542181226</td>\n",
       "      <td>M23-26</td>\n",
       "      <td>1</td>\n",
       "    </tr>\n",
       "    <tr>\n",
       "      <th>1</th>\n",
       "      <td>-9222956879900151005</td>\n",
       "      <td>M32-38</td>\n",
       "      <td>65</td>\n",
       "    </tr>\n",
       "    <tr>\n",
       "      <th>2</th>\n",
       "      <td>-9222754701995937853</td>\n",
       "      <td>M29-31</td>\n",
       "      <td>1</td>\n",
       "    </tr>\n",
       "    <tr>\n",
       "      <th>3</th>\n",
       "      <td>-9222352239947207574</td>\n",
       "      <td>M23-26</td>\n",
       "      <td>1</td>\n",
       "    </tr>\n",
       "    <tr>\n",
       "      <th>4</th>\n",
       "      <td>-9222173362545970626</td>\n",
       "      <td>F43+</td>\n",
       "      <td>1</td>\n",
       "    </tr>\n",
       "  </tbody>\n",
       "</table>\n",
       "</div>"
      ],
      "text/plain": [
       "             device_id   group  count\n",
       "0 -9223067244542181226  M23-26      1\n",
       "1 -9222956879900151005  M32-38     65\n",
       "2 -9222754701995937853  M29-31      1\n",
       "3 -9222352239947207574  M23-26      1\n",
       "4 -9222173362545970626    F43+      1"
      ]
     },
     "execution_count": 18,
     "metadata": {
      "tags": []
     },
     "output_type": "execute_result"
    }
   ],
   "source": [
    "#events_merged['device_id'].value_counts()\n",
    "df_age=events_merged.groupby([\"device_id\",\"group\"])[\"device_id\"].count().reset_index(name=\"count\")\n",
    "df_age.head()\n"
   ]
  },
  {
   "cell_type": "code",
   "execution_count": null,
   "metadata": {
    "id": "TI4haARcAfce",
    "outputId": "c908a9bf-d761-44fa-cbdb-53fdffff4b54"
   },
   "outputs": [
    {
     "data": {
      "text/html": [
       "<div>\n",
       "<style scoped>\n",
       "    .dataframe tbody tr th:only-of-type {\n",
       "        vertical-align: middle;\n",
       "    }\n",
       "\n",
       "    .dataframe tbody tr th {\n",
       "        vertical-align: top;\n",
       "    }\n",
       "\n",
       "    .dataframe thead th {\n",
       "        text-align: right;\n",
       "    }\n",
       "</style>\n",
       "<table border=\"1\" class=\"dataframe\">\n",
       "  <thead>\n",
       "    <tr style=\"text-align: right;\">\n",
       "      <th></th>\n",
       "      <th>device_id</th>\n",
       "      <th>gender</th>\n",
       "      <th>count</th>\n",
       "    </tr>\n",
       "  </thead>\n",
       "  <tbody>\n",
       "    <tr>\n",
       "      <th>0</th>\n",
       "      <td>-9223067244542181226</td>\n",
       "      <td>M</td>\n",
       "      <td>1</td>\n",
       "    </tr>\n",
       "    <tr>\n",
       "      <th>1</th>\n",
       "      <td>-9222956879900151005</td>\n",
       "      <td>M</td>\n",
       "      <td>65</td>\n",
       "    </tr>\n",
       "    <tr>\n",
       "      <th>2</th>\n",
       "      <td>-9222754701995937853</td>\n",
       "      <td>M</td>\n",
       "      <td>1</td>\n",
       "    </tr>\n",
       "    <tr>\n",
       "      <th>3</th>\n",
       "      <td>-9222352239947207574</td>\n",
       "      <td>M</td>\n",
       "      <td>1</td>\n",
       "    </tr>\n",
       "    <tr>\n",
       "      <th>4</th>\n",
       "      <td>-9222173362545970626</td>\n",
       "      <td>F</td>\n",
       "      <td>1</td>\n",
       "    </tr>\n",
       "  </tbody>\n",
       "</table>\n",
       "</div>"
      ],
      "text/plain": [
       "             device_id gender  count\n",
       "0 -9223067244542181226      M      1\n",
       "1 -9222956879900151005      M     65\n",
       "2 -9222754701995937853      M      1\n",
       "3 -9222352239947207574      M      1\n",
       "4 -9222173362545970626      F      1"
      ]
     },
     "execution_count": 19,
     "metadata": {
      "tags": []
     },
     "output_type": "execute_result"
    }
   ],
   "source": [
    "#events_merged['device_id'].value_counts()\n",
    "df_gender=events_merged.groupby([\"device_id\",\"gender\"])[\"device_id\"].count().reset_index(name=\"count\")\n",
    "df_gender.head()"
   ]
  },
  {
   "cell_type": "markdown",
   "metadata": {
    "id": "kGfX6Y-rAfch"
   },
   "source": [
    "<h5>Observations:</h5>\n",
    "<li>Assuming more the count of events means more the user is using the device.But from above two cells we can say that there is no relationship between age and gender of user and the amount of time user is using the device. </li>"
   ]
  },
  {
   "cell_type": "code",
   "execution_count": null,
   "metadata": {
    "id": "QSKribUUAfch",
    "outputId": "e3d26494-0dc6-4705-b0c8-dc143e951fd7"
   },
   "outputs": [
    {
     "data": {
      "text/plain": [
       "0.00      968711\n",
       "1.00       76362\n",
       "104.00     27977\n",
       "116.39     14751\n",
       "116.33      6721\n",
       "Name: longitude, dtype: int64"
      ]
     },
     "execution_count": 20,
     "metadata": {
      "tags": []
     },
     "output_type": "execute_result"
    }
   ],
   "source": [
    "df_long=events[\"longitude\"].value_counts()\n",
    "df_long.head()"
   ]
  },
  {
   "cell_type": "code",
   "execution_count": null,
   "metadata": {
    "id": "08pLlfPGAfcl",
    "outputId": "e57bfba5-e19b-4846-d2c8-76d8ea1b52d9"
   },
   "outputs": [
    {
     "data": {
      "text/plain": [
       "count    3.252950e+06\n",
       "mean     7.796192e+01\n",
       "std      5.405801e+01\n",
       "min     -1.800000e+02\n",
       "25%      0.000000e+00\n",
       "50%      1.129500e+02\n",
       "75%      1.172100e+02\n",
       "max      1.747600e+02\n",
       "Name: longitude, dtype: float64"
      ]
     },
     "execution_count": 21,
     "metadata": {
      "tags": []
     },
     "output_type": "execute_result"
    }
   ],
   "source": [
    "events['longitude'].describe()\n"
   ]
  },
  {
   "cell_type": "code",
   "execution_count": null,
   "metadata": {
    "id": "sZcQStKUAfco",
    "outputId": "08e2a0d9-acac-431a-846c-9d17158c7deb"
   },
   "outputs": [
    {
     "data": {
      "text/plain": [
       "0.00     968955\n",
       "1.00      76375\n",
       "30.00     28466\n",
       "39.91     19289\n",
       "34.74      6964\n",
       "Name: latitude, dtype: int64"
      ]
     },
     "execution_count": 22,
     "metadata": {
      "tags": []
     },
     "output_type": "execute_result"
    }
   ],
   "source": [
    "df_lat=events[\"latitude\"].value_counts()\n",
    "df_lat.head()"
   ]
  },
  {
   "cell_type": "code",
   "execution_count": null,
   "metadata": {
    "id": "9LwpQfw_Afcq",
    "outputId": "a3989d88-cdda-43a7-aa1d-3df276d63235"
   },
   "outputs": [
    {
     "data": {
      "text/plain": [
       "count    3.252950e+06\n",
       "mean     2.162949e+01\n",
       "std      1.569697e+01\n",
       "min     -3.843000e+01\n",
       "25%      0.000000e+00\n",
       "50%      2.802000e+01\n",
       "75%      3.407000e+01\n",
       "max      5.994000e+01\n",
       "Name: latitude, dtype: float64"
      ]
     },
     "execution_count": 23,
     "metadata": {
      "tags": []
     },
     "output_type": "execute_result"
    }
   ],
   "source": [
    "events['latitude'].describe()\n"
   ]
  },
  {
   "cell_type": "code",
   "execution_count": null,
   "metadata": {
    "id": "S2CyuuNdAfcs",
    "outputId": "676db312-70d9-4d3c-b016-dc4cdb593f79"
   },
   "outputs": [
    {
     "data": {
      "text/html": [
       "<div>\n",
       "<style scoped>\n",
       "    .dataframe tbody tr th:only-of-type {\n",
       "        vertical-align: middle;\n",
       "    }\n",
       "\n",
       "    .dataframe tbody tr th {\n",
       "        vertical-align: top;\n",
       "    }\n",
       "\n",
       "    .dataframe thead th {\n",
       "        text-align: right;\n",
       "    }\n",
       "</style>\n",
       "<table border=\"1\" class=\"dataframe\">\n",
       "  <thead>\n",
       "    <tr style=\"text-align: right;\">\n",
       "      <th></th>\n",
       "      <th>longitude</th>\n",
       "      <th>latitude</th>\n",
       "      <th>count</th>\n",
       "    </tr>\n",
       "  </thead>\n",
       "  <tbody>\n",
       "    <tr>\n",
       "      <th>0</th>\n",
       "      <td>-180.00</td>\n",
       "      <td>0.00</td>\n",
       "      <td>144</td>\n",
       "    </tr>\n",
       "    <tr>\n",
       "      <th>1</th>\n",
       "      <td>-155.99</td>\n",
       "      <td>19.82</td>\n",
       "      <td>26</td>\n",
       "    </tr>\n",
       "    <tr>\n",
       "      <th>2</th>\n",
       "      <td>-122.32</td>\n",
       "      <td>47.64</td>\n",
       "      <td>1</td>\n",
       "    </tr>\n",
       "    <tr>\n",
       "      <th>3</th>\n",
       "      <td>-101.76</td>\n",
       "      <td>38.28</td>\n",
       "      <td>84</td>\n",
       "    </tr>\n",
       "    <tr>\n",
       "      <th>4</th>\n",
       "      <td>-101.76</td>\n",
       "      <td>44.85</td>\n",
       "      <td>7</td>\n",
       "    </tr>\n",
       "    <tr>\n",
       "      <th>...</th>\n",
       "      <td>...</td>\n",
       "      <td>...</td>\n",
       "      <td>...</td>\n",
       "    </tr>\n",
       "    <tr>\n",
       "      <th>32916</th>\n",
       "      <td>134.30</td>\n",
       "      <td>48.36</td>\n",
       "      <td>24</td>\n",
       "    </tr>\n",
       "    <tr>\n",
       "      <th>32917</th>\n",
       "      <td>134.30</td>\n",
       "      <td>48.37</td>\n",
       "      <td>1</td>\n",
       "    </tr>\n",
       "    <tr>\n",
       "      <th>32918</th>\n",
       "      <td>139.43</td>\n",
       "      <td>35.62</td>\n",
       "      <td>1</td>\n",
       "    </tr>\n",
       "    <tr>\n",
       "      <th>32919</th>\n",
       "      <td>139.56</td>\n",
       "      <td>35.62</td>\n",
       "      <td>1</td>\n",
       "    </tr>\n",
       "    <tr>\n",
       "      <th>32920</th>\n",
       "      <td>151.18</td>\n",
       "      <td>-33.80</td>\n",
       "      <td>1</td>\n",
       "    </tr>\n",
       "  </tbody>\n",
       "</table>\n",
       "<p>32921 rows × 3 columns</p>\n",
       "</div>"
      ],
      "text/plain": [
       "       longitude  latitude  count\n",
       "0        -180.00      0.00    144\n",
       "1        -155.99     19.82     26\n",
       "2        -122.32     47.64      1\n",
       "3        -101.76     38.28     84\n",
       "4        -101.76     44.85      7\n",
       "...          ...       ...    ...\n",
       "32916     134.30     48.36     24\n",
       "32917     134.30     48.37      1\n",
       "32918     139.43     35.62      1\n",
       "32919     139.56     35.62      1\n",
       "32920     151.18    -33.80      1\n",
       "\n",
       "[32921 rows x 3 columns]"
      ]
     },
     "execution_count": 24,
     "metadata": {
      "tags": []
     },
     "output_type": "execute_result"
    }
   ],
   "source": [
    "df_long_dev=events_merged.groupby([\"longitude\",\"latitude\"])[\"device_id\"].count().reset_index(name=\"count\")\n",
    "df_long_dev"
   ]
  },
  {
   "cell_type": "markdown",
   "metadata": {
    "id": "CcHOmQvAAfcu"
   },
   "source": [
    "<h5>Observations:</h5>\n",
    "<li>25% of both longitude and latitude is at 0</li>\n",
    "<li>other 75% is distributed</li>"
   ]
  },
  {
   "cell_type": "code",
   "execution_count": null,
   "metadata": {
    "id": "C9oUs2luAfcv",
    "outputId": "482bf9b6-fc82-4eb7-dd2e-042e3549baa4"
   },
   "outputs": [
    {
     "data": {
      "text/html": [
       "<div>\n",
       "<style scoped>\n",
       "    .dataframe tbody tr th:only-of-type {\n",
       "        vertical-align: middle;\n",
       "    }\n",
       "\n",
       "    .dataframe tbody tr th {\n",
       "        vertical-align: top;\n",
       "    }\n",
       "\n",
       "    .dataframe thead th {\n",
       "        text-align: right;\n",
       "    }\n",
       "</style>\n",
       "<table border=\"1\" class=\"dataframe\">\n",
       "  <thead>\n",
       "    <tr style=\"text-align: right;\">\n",
       "      <th></th>\n",
       "      <th>app_id</th>\n",
       "      <th>label_id</th>\n",
       "      <th>category</th>\n",
       "    </tr>\n",
       "  </thead>\n",
       "  <tbody>\n",
       "    <tr>\n",
       "      <th>0</th>\n",
       "      <td>7324884708820027918</td>\n",
       "      <td>251</td>\n",
       "      <td>Finance</td>\n",
       "    </tr>\n",
       "    <tr>\n",
       "      <th>1</th>\n",
       "      <td>-4494216993218550286</td>\n",
       "      <td>251</td>\n",
       "      <td>Finance</td>\n",
       "    </tr>\n",
       "    <tr>\n",
       "      <th>2</th>\n",
       "      <td>8756705988821000489</td>\n",
       "      <td>251</td>\n",
       "      <td>Finance</td>\n",
       "    </tr>\n",
       "    <tr>\n",
       "      <th>3</th>\n",
       "      <td>1061207043315821111</td>\n",
       "      <td>251</td>\n",
       "      <td>Finance</td>\n",
       "    </tr>\n",
       "    <tr>\n",
       "      <th>4</th>\n",
       "      <td>-1491198667294647703</td>\n",
       "      <td>251</td>\n",
       "      <td>Finance</td>\n",
       "    </tr>\n",
       "    <tr>\n",
       "      <th>...</th>\n",
       "      <td>...</td>\n",
       "      <td>...</td>\n",
       "      <td>...</td>\n",
       "    </tr>\n",
       "    <tr>\n",
       "      <th>459938</th>\n",
       "      <td>-5364349117796323466</td>\n",
       "      <td>985</td>\n",
       "      <td>Word games</td>\n",
       "    </tr>\n",
       "    <tr>\n",
       "      <th>459939</th>\n",
       "      <td>6320161160475087425</td>\n",
       "      <td>985</td>\n",
       "      <td>Word games</td>\n",
       "    </tr>\n",
       "    <tr>\n",
       "      <th>459940</th>\n",
       "      <td>7641656572760613661</td>\n",
       "      <td>985</td>\n",
       "      <td>Word games</td>\n",
       "    </tr>\n",
       "    <tr>\n",
       "      <th>459941</th>\n",
       "      <td>-2037260970074339790</td>\n",
       "      <td>985</td>\n",
       "      <td>Word games</td>\n",
       "    </tr>\n",
       "    <tr>\n",
       "      <th>459942</th>\n",
       "      <td>4912967798547629854</td>\n",
       "      <td>985</td>\n",
       "      <td>Word games</td>\n",
       "    </tr>\n",
       "  </tbody>\n",
       "</table>\n",
       "<p>459943 rows × 3 columns</p>\n",
       "</div>"
      ],
      "text/plain": [
       "                     app_id  label_id    category\n",
       "0       7324884708820027918       251     Finance\n",
       "1      -4494216993218550286       251     Finance\n",
       "2       8756705988821000489       251     Finance\n",
       "3       1061207043315821111       251     Finance\n",
       "4      -1491198667294647703       251     Finance\n",
       "...                     ...       ...         ...\n",
       "459938 -5364349117796323466       985  Word games\n",
       "459939  6320161160475087425       985  Word games\n",
       "459940  7641656572760613661       985  Word games\n",
       "459941 -2037260970074339790       985  Word games\n",
       "459942  4912967798547629854       985  Word games\n",
       "\n",
       "[459943 rows x 3 columns]"
      ]
     },
     "execution_count": 25,
     "metadata": {
      "tags": []
     },
     "output_type": "execute_result"
    }
   ],
   "source": [
    "app_data=app_labels.merge(label_categories, left_on='label_id', right_on='label_id',how='inner')\n",
    "\n",
    "app_data"
   ]
  },
  {
   "cell_type": "code",
   "execution_count": null,
   "metadata": {
    "id": "5TDpca1OAfcy",
    "outputId": "74d7f8e9-49c3-4e85-ff94-c8af934b783f"
   },
   "outputs": [
    {
     "data": {
      "text/plain": [
       "unknown                   26\n",
       "Insurance                  3\n",
       "Financial Information      3\n",
       "music                      3\n",
       "the film                   3\n",
       "Pay                        3\n",
       "health                     3\n",
       "Lottery ticket             3\n",
       "Science and Technology     3\n",
       "Hotels                     2\n",
       "Sports                     2\n",
       "Simple                     2\n",
       "service                    2\n",
       "free                       2\n",
       "Crowdfunding               2\n",
       "Name: category, dtype: int64"
      ]
     },
     "execution_count": 26,
     "metadata": {
      "tags": []
     },
     "output_type": "execute_result"
    }
   ],
   "source": [
    "label_categories['category'].value_counts()[0:15]"
   ]
  },
  {
   "cell_type": "code",
   "execution_count": null,
   "metadata": {
    "id": "Rhb5TeAbAfc0",
    "outputId": "726a5068-f19f-4987-b9e0-e853b2d875cc"
   },
   "outputs": [
    {
     "name": "stdout",
     "output_type": "stream",
     "text": [
      "label:  Industry tag  Percentage:  12.37  %\n",
      "label:  Custom label  Percentage:  11.73  %\n",
      "label:  Tencent  Percentage:  10.72  %\n",
      "label:  game  Percentage:  10.59  %\n",
      "label:  Property Industry 2.0  Percentage:  9.94  %\n",
      "label:  1 free  Percentage:  4.15  %\n",
      "label:  Services 1  Percentage:  2.57  %\n",
      "label:  Property Industry new  Percentage:  2.16  %\n",
      "label:  Relatives 1  Percentage:  1.96  %\n",
      "label:  Irritation / Fun 1  Percentage:  1.92  %\n",
      "label:  Cards RPG  Percentage:  1.6  %\n",
      "label:  Casual puzzle categories  Percentage:  1.53  %\n",
      "label:  Personal Effectiveness 1  Percentage:  1.28  %\n",
      "label:  ARPG  Percentage:  1.15  %\n",
      "label:  Chess categories  Percentage:  1.12  %\n"
     ]
    },
    {
     "data": {
      "image/png": "[encoded data removed]",
      "text/plain": [
       "<Figure size 432x288 with 1 Axes>"
      ]
     },
     "metadata": {
      "needs_background": "light",
      "tags": []
     },
     "output_type": "display_data"
    }
   ],
   "source": [
    "app_data['category'].value_counts()[0:15].plot.bar()\n",
    "cat_counts=dict(app_data['category'].value_counts())\n",
    "cat_keys = [k for k in sorted(cat_counts, key=cat_counts.get, reverse=True)]\n",
    "#Taking Top 15 keys with highest values \n",
    "cat_top_keys=cat_keys[:15]\n",
    "cat_top_values=[cat_counts.get(k) for k in cat_top_keys]\n",
    "counts=np.array(cat_top_values)\n",
    "percent=(counts/app_data.shape[0])*100\n",
    "for i in range(len(cat_top_keys)):\n",
    "    print(\"label: \",cat_top_keys[i],\" Percentage: \",np.round(percent[i],2),\" %\")"
   ]
  },
  {
   "cell_type": "markdown",
   "metadata": {
    "id": "VJxzTF_9Afc2"
   },
   "source": [
    "<h5>Observation:</h5>\n",
    "<li>Top 5 labels consist of 55.35% market,out of which 3 are from gaming industry,hence we can say that gaming industry is leading the chinese market</li>"
   ]
  },
  {
   "cell_type": "code",
   "execution_count": null,
   "metadata": {
    "id": "fSt2m5JBAfc2",
    "outputId": "fe4abf25-6945-4fda-bb29-30a7c2df840f"
   },
   "outputs": [
    {
     "data": {
      "text/html": [
       "<div>\n",
       "<style scoped>\n",
       "    .dataframe tbody tr th:only-of-type {\n",
       "        vertical-align: middle;\n",
       "    }\n",
       "\n",
       "    .dataframe tbody tr th {\n",
       "        vertical-align: top;\n",
       "    }\n",
       "\n",
       "    .dataframe thead th {\n",
       "        text-align: right;\n",
       "    }\n",
       "</style>\n",
       "<table border=\"1\" class=\"dataframe\">\n",
       "  <thead>\n",
       "    <tr style=\"text-align: right;\">\n",
       "      <th></th>\n",
       "      <th>app_id</th>\n",
       "      <th>label_id</th>\n",
       "    </tr>\n",
       "  </thead>\n",
       "  <tbody>\n",
       "    <tr>\n",
       "      <th>43007</th>\n",
       "      <td>9222542043353102991</td>\n",
       "      <td>714</td>\n",
       "    </tr>\n",
       "    <tr>\n",
       "      <th>86013</th>\n",
       "      <td>9222542043353102991</td>\n",
       "      <td>704</td>\n",
       "    </tr>\n",
       "    <tr>\n",
       "      <th>117692</th>\n",
       "      <td>9222542043353102991</td>\n",
       "      <td>548</td>\n",
       "    </tr>\n",
       "  </tbody>\n",
       "</table>\n",
       "</div>"
      ],
      "text/plain": [
       "                     app_id  label_id\n",
       "43007   9222542043353102991       714\n",
       "86013   9222542043353102991       704\n",
       "117692  9222542043353102991       548"
      ]
     },
     "execution_count": 29,
     "metadata": {
      "tags": []
     },
     "output_type": "execute_result"
    }
   ],
   "source": [
    "app_labels[ app_labels['app_id']==9222542043353102991 ]"
   ]
  },
  {
   "cell_type": "code",
   "execution_count": null,
   "metadata": {
    "id": "2fbeNAW4Afc4",
    "outputId": "1783cbc0-88b9-4f7d-fce1-7c4e3663e6be"
   },
   "outputs": [
    {
     "data": {
      "text/html": [
       "<div>\n",
       "<style scoped>\n",
       "    .dataframe tbody tr th:only-of-type {\n",
       "        vertical-align: middle;\n",
       "    }\n",
       "\n",
       "    .dataframe tbody tr th {\n",
       "        vertical-align: top;\n",
       "    }\n",
       "\n",
       "    .dataframe thead th {\n",
       "        text-align: right;\n",
       "    }\n",
       "</style>\n",
       "<table border=\"1\" class=\"dataframe\">\n",
       "  <thead>\n",
       "    <tr style=\"text-align: right;\">\n",
       "      <th></th>\n",
       "      <th>app_id</th>\n",
       "      <th>count</th>\n",
       "    </tr>\n",
       "  </thead>\n",
       "  <tbody>\n",
       "    <tr>\n",
       "      <th>0</th>\n",
       "      <td>-9223281467940916832</td>\n",
       "      <td>4</td>\n",
       "    </tr>\n",
       "    <tr>\n",
       "      <th>1</th>\n",
       "      <td>-9222877069545393219</td>\n",
       "      <td>1</td>\n",
       "    </tr>\n",
       "    <tr>\n",
       "      <th>2</th>\n",
       "      <td>-9222785464897897681</td>\n",
       "      <td>4</td>\n",
       "    </tr>\n",
       "    <tr>\n",
       "      <th>3</th>\n",
       "      <td>-9222198347540756780</td>\n",
       "      <td>4</td>\n",
       "    </tr>\n",
       "    <tr>\n",
       "      <th>4</th>\n",
       "      <td>-9221970424041518544</td>\n",
       "      <td>7</td>\n",
       "    </tr>\n",
       "    <tr>\n",
       "      <th>...</th>\n",
       "      <td>...</td>\n",
       "      <td>...</td>\n",
       "    </tr>\n",
       "    <tr>\n",
       "      <th>113206</th>\n",
       "      <td>9222488106573038706</td>\n",
       "      <td>1</td>\n",
       "    </tr>\n",
       "    <tr>\n",
       "      <th>113207</th>\n",
       "      <td>9222542043353102991</td>\n",
       "      <td>3</td>\n",
       "    </tr>\n",
       "    <tr>\n",
       "      <th>113208</th>\n",
       "      <td>9222821882765325814</td>\n",
       "      <td>4</td>\n",
       "    </tr>\n",
       "    <tr>\n",
       "      <th>113209</th>\n",
       "      <td>9223029189880985324</td>\n",
       "      <td>1</td>\n",
       "    </tr>\n",
       "    <tr>\n",
       "      <th>113210</th>\n",
       "      <td>9223317927457411432</td>\n",
       "      <td>7</td>\n",
       "    </tr>\n",
       "  </tbody>\n",
       "</table>\n",
       "<p>113211 rows × 2 columns</p>\n",
       "</div>"
      ],
      "text/plain": [
       "                     app_id  count\n",
       "0      -9223281467940916832      4\n",
       "1      -9222877069545393219      1\n",
       "2      -9222785464897897681      4\n",
       "3      -9222198347540756780      4\n",
       "4      -9221970424041518544      7\n",
       "...                     ...    ...\n",
       "113206  9222488106573038706      1\n",
       "113207  9222542043353102991      3\n",
       "113208  9222821882765325814      4\n",
       "113209  9223029189880985324      1\n",
       "113210  9223317927457411432      7\n",
       "\n",
       "[113211 rows x 2 columns]"
      ]
     },
     "execution_count": 30,
     "metadata": {
      "tags": []
     },
     "output_type": "execute_result"
    }
   ],
   "source": [
    "app_dup=app_data.groupby([\"app_id\"])[\"app_id\"].count().reset_index(name=\"count\")\n",
    "app_dup"
   ]
  },
  {
   "cell_type": "code",
   "execution_count": null,
   "metadata": {
    "id": "zafL844VAfc6",
    "outputId": "56bed562-6eb7-4a5d-bc3e-095065f94c7c"
   },
   "outputs": [
    {
     "data": {
      "text/html": [
       "<div>\n",
       "<style scoped>\n",
       "    .dataframe tbody tr th:only-of-type {\n",
       "        vertical-align: middle;\n",
       "    }\n",
       "\n",
       "    .dataframe tbody tr th {\n",
       "        vertical-align: top;\n",
       "    }\n",
       "\n",
       "    .dataframe thead th {\n",
       "        text-align: right;\n",
       "    }\n",
       "</style>\n",
       "<table border=\"1\" class=\"dataframe\">\n",
       "  <thead>\n",
       "    <tr style=\"text-align: right;\">\n",
       "      <th></th>\n",
       "      <th>event_id</th>\n",
       "      <th>count</th>\n",
       "    </tr>\n",
       "  </thead>\n",
       "  <tbody>\n",
       "    <tr>\n",
       "      <th>0</th>\n",
       "      <td>2</td>\n",
       "      <td>19</td>\n",
       "    </tr>\n",
       "    <tr>\n",
       "      <th>1</th>\n",
       "      <td>6</td>\n",
       "      <td>38</td>\n",
       "    </tr>\n",
       "    <tr>\n",
       "      <th>2</th>\n",
       "      <td>7</td>\n",
       "      <td>40</td>\n",
       "    </tr>\n",
       "    <tr>\n",
       "      <th>3</th>\n",
       "      <td>9</td>\n",
       "      <td>35</td>\n",
       "    </tr>\n",
       "    <tr>\n",
       "      <th>4</th>\n",
       "      <td>16</td>\n",
       "      <td>31</td>\n",
       "    </tr>\n",
       "    <tr>\n",
       "      <th>...</th>\n",
       "      <td>...</td>\n",
       "      <td>...</td>\n",
       "    </tr>\n",
       "    <tr>\n",
       "      <th>1488091</th>\n",
       "      <td>3252935</td>\n",
       "      <td>14</td>\n",
       "    </tr>\n",
       "    <tr>\n",
       "      <th>1488092</th>\n",
       "      <td>3252936</td>\n",
       "      <td>3</td>\n",
       "    </tr>\n",
       "    <tr>\n",
       "      <th>1488093</th>\n",
       "      <td>3252937</td>\n",
       "      <td>19</td>\n",
       "    </tr>\n",
       "    <tr>\n",
       "      <th>1488094</th>\n",
       "      <td>3252946</td>\n",
       "      <td>69</td>\n",
       "    </tr>\n",
       "    <tr>\n",
       "      <th>1488095</th>\n",
       "      <td>3252948</td>\n",
       "      <td>30</td>\n",
       "    </tr>\n",
       "  </tbody>\n",
       "</table>\n",
       "<p>1488096 rows × 2 columns</p>\n",
       "</div>"
      ],
      "text/plain": [
       "         event_id  count\n",
       "0               2     19\n",
       "1               6     38\n",
       "2               7     40\n",
       "3               9     35\n",
       "4              16     31\n",
       "...           ...    ...\n",
       "1488091   3252935     14\n",
       "1488092   3252936      3\n",
       "1488093   3252937     19\n",
       "1488094   3252946     69\n",
       "1488095   3252948     30\n",
       "\n",
       "[1488096 rows x 2 columns]"
      ]
     },
     "execution_count": 31,
     "metadata": {
      "tags": []
     },
     "output_type": "execute_result"
    }
   ],
   "source": [
    "\n",
    "app_event_dup=app_events.groupby([\"event_id\"])[\"event_id\"].count().reset_index(name=\"count\")\n",
    "app_event_dup"
   ]
  },
  {
   "cell_type": "code",
   "execution_count": null,
   "metadata": {
    "id": "QVg289MaAfc9",
    "outputId": "fa13c518-31b0-4d84-b32f-53000f4d2e78"
   },
   "outputs": [
    {
     "data": {
      "text/plain": [
       "0    19740071\n",
       "1    12732996\n",
       "Name: is_active, dtype: int64"
      ]
     },
     "execution_count": 32,
     "metadata": {
      "tags": []
     },
     "output_type": "execute_result"
    }
   ],
   "source": [
    "app_events['is_active'].value_counts()\n"
   ]
  },
  {
   "cell_type": "code",
   "execution_count": null,
   "metadata": {
    "id": "KFHikLHaAfc_",
    "outputId": "88528216-0521-4447-e5dc-7bab83bd3059"
   },
   "outputs": [
    {
     "data": {
      "image/png": "[encoded data removed]",
      "text/plain": [
       "<Figure size 432x288 with 1 Axes>"
      ]
     },
     "metadata": {
      "tags": []
     },
     "output_type": "display_data"
    }
   ],
   "source": [
    "app_events.head()\n",
    "count=app_events['is_active'].value_counts()\n",
    "label=['no active','active']\n",
    "plt.pie(count, labels = label,autopct='%1.2f%%')\n",
    "plt.title(\"Active apps - pie chart\")\n",
    "plt.show()"
   ]
  },
  {
   "cell_type": "markdown",
   "metadata": {
    "id": "ODAtUjvTAfdB"
   },
   "source": [
    "<h5>Observation</h5>\n",
    "<li>From above 7 cells we can say that,In each event user has used multiple apps,and these apps belong to multiple categories.</li>\n",
    "<li>Here all registered apps are installed but 39.21% are actively used.</li>\n"
   ]
  },
  {
   "cell_type": "markdown",
   "metadata": {
    "id": "nXDeK-SVAfdC"
   },
   "source": [
    "<h3>Phone brand,device analysis</h3>"
   ]
  },
  {
   "cell_type": "code",
   "execution_count": null,
   "metadata": {
    "id": "e_fN5w8WAfdC",
    "outputId": "dfc29863-fe5e-4081-986c-d5de942fe80f"
   },
   "outputs": [
    {
     "data": {
      "text/html": [
       "<div>\n",
       "<style scoped>\n",
       "    .dataframe tbody tr th:only-of-type {\n",
       "        vertical-align: middle;\n",
       "    }\n",
       "\n",
       "    .dataframe tbody tr th {\n",
       "        vertical-align: top;\n",
       "    }\n",
       "\n",
       "    .dataframe thead th {\n",
       "        text-align: right;\n",
       "    }\n",
       "</style>\n",
       "<table border=\"1\" class=\"dataframe\">\n",
       "  <thead>\n",
       "    <tr style=\"text-align: right;\">\n",
       "      <th></th>\n",
       "      <th>device_id</th>\n",
       "      <th>count</th>\n",
       "    </tr>\n",
       "  </thead>\n",
       "  <tbody>\n",
       "    <tr>\n",
       "      <th>227</th>\n",
       "      <td>-9198513807097378193</td>\n",
       "      <td>2</td>\n",
       "    </tr>\n",
       "    <tr>\n",
       "      <th>274</th>\n",
       "      <td>-9194249084574705214</td>\n",
       "      <td>2</td>\n",
       "    </tr>\n",
       "    <tr>\n",
       "      <th>422</th>\n",
       "      <td>-9180330522697778980</td>\n",
       "      <td>2</td>\n",
       "    </tr>\n",
       "    <tr>\n",
       "      <th>1815</th>\n",
       "      <td>-9042966463857944795</td>\n",
       "      <td>2</td>\n",
       "    </tr>\n",
       "    <tr>\n",
       "      <th>2509</th>\n",
       "      <td>-8977849817626954804</td>\n",
       "      <td>2</td>\n",
       "    </tr>\n",
       "    <tr>\n",
       "      <th>...</th>\n",
       "      <td>...</td>\n",
       "      <td>...</td>\n",
       "    </tr>\n",
       "    <tr>\n",
       "      <th>185829</th>\n",
       "      <td>9134757794671046563</td>\n",
       "      <td>2</td>\n",
       "    </tr>\n",
       "    <tr>\n",
       "      <th>186177</th>\n",
       "      <td>9169567266060728256</td>\n",
       "      <td>2</td>\n",
       "    </tr>\n",
       "    <tr>\n",
       "      <th>186264</th>\n",
       "      <td>9178224089698771087</td>\n",
       "      <td>2</td>\n",
       "    </tr>\n",
       "    <tr>\n",
       "      <th>186429</th>\n",
       "      <td>9196371203514832504</td>\n",
       "      <td>2</td>\n",
       "    </tr>\n",
       "    <tr>\n",
       "      <th>186663</th>\n",
       "      <td>9218059356897525342</td>\n",
       "      <td>2</td>\n",
       "    </tr>\n",
       "  </tbody>\n",
       "</table>\n",
       "<p>529 rows × 2 columns</p>\n",
       "</div>"
      ],
      "text/plain": [
       "                  device_id  count\n",
       "227    -9198513807097378193      2\n",
       "274    -9194249084574705214      2\n",
       "422    -9180330522697778980      2\n",
       "1815   -9042966463857944795      2\n",
       "2509   -8977849817626954804      2\n",
       "...                     ...    ...\n",
       "185829  9134757794671046563      2\n",
       "186177  9169567266060728256      2\n",
       "186264  9178224089698771087      2\n",
       "186429  9196371203514832504      2\n",
       "186663  9218059356897525342      2\n",
       "\n",
       "[529 rows x 2 columns]"
      ]
     },
     "execution_count": 34,
     "metadata": {
      "tags": []
     },
     "output_type": "execute_result"
    }
   ],
   "source": [
    "phone_dup=phone_data.groupby([\"device_id\"])[\"device_id\"].count().reset_index(name=\"count\")\n",
    "phone_dup[ phone_dup[\"count\"]>1 ]"
   ]
  },
  {
   "cell_type": "code",
   "execution_count": null,
   "metadata": {
    "id": "rXSQjCg9AfdE",
    "outputId": "1fdfd4fd-0f9a-4540-bb6d-1f39d822aa84"
   },
   "outputs": [
    {
     "data": {
      "text/html": [
       "<div>\n",
       "<style scoped>\n",
       "    .dataframe tbody tr th:only-of-type {\n",
       "        vertical-align: middle;\n",
       "    }\n",
       "\n",
       "    .dataframe tbody tr th {\n",
       "        vertical-align: top;\n",
       "    }\n",
       "\n",
       "    .dataframe thead th {\n",
       "        text-align: right;\n",
       "    }\n",
       "</style>\n",
       "<table border=\"1\" class=\"dataframe\">\n",
       "  <thead>\n",
       "    <tr style=\"text-align: right;\">\n",
       "      <th></th>\n",
       "      <th>device_id</th>\n",
       "      <th>phone_brand</th>\n",
       "      <th>device_model</th>\n",
       "      <th>count</th>\n",
       "    </tr>\n",
       "  </thead>\n",
       "  <tbody>\n",
       "    <tr>\n",
       "      <th>227</th>\n",
       "      <td>-9198513807097378193</td>\n",
       "      <td>酷派</td>\n",
       "      <td>F2</td>\n",
       "      <td>2</td>\n",
       "    </tr>\n",
       "    <tr>\n",
       "      <th>274</th>\n",
       "      <td>-9194249084574705214</td>\n",
       "      <td>vivo</td>\n",
       "      <td>Y29L</td>\n",
       "      <td>2</td>\n",
       "    </tr>\n",
       "    <tr>\n",
       "      <th>422</th>\n",
       "      <td>-9180330522697778980</td>\n",
       "      <td>华为</td>\n",
       "      <td>荣耀6 Plus</td>\n",
       "      <td>2</td>\n",
       "    </tr>\n",
       "    <tr>\n",
       "      <th>1815</th>\n",
       "      <td>-9042966463857944795</td>\n",
       "      <td>小米</td>\n",
       "      <td>红米1S</td>\n",
       "      <td>2</td>\n",
       "    </tr>\n",
       "    <tr>\n",
       "      <th>2509</th>\n",
       "      <td>-8977849817626954804</td>\n",
       "      <td>华为</td>\n",
       "      <td>荣耀4A</td>\n",
       "      <td>2</td>\n",
       "    </tr>\n",
       "    <tr>\n",
       "      <th>...</th>\n",
       "      <td>...</td>\n",
       "      <td>...</td>\n",
       "      <td>...</td>\n",
       "      <td>...</td>\n",
       "    </tr>\n",
       "    <tr>\n",
       "      <th>185835</th>\n",
       "      <td>9134757794671046563</td>\n",
       "      <td>三星</td>\n",
       "      <td>Galaxy S4</td>\n",
       "      <td>2</td>\n",
       "    </tr>\n",
       "    <tr>\n",
       "      <th>186183</th>\n",
       "      <td>9169567266060728256</td>\n",
       "      <td>奇酷</td>\n",
       "      <td>青春版</td>\n",
       "      <td>2</td>\n",
       "    </tr>\n",
       "    <tr>\n",
       "      <th>186270</th>\n",
       "      <td>9178224089698771087</td>\n",
       "      <td>联想</td>\n",
       "      <td>A590</td>\n",
       "      <td>2</td>\n",
       "    </tr>\n",
       "    <tr>\n",
       "      <th>186435</th>\n",
       "      <td>9196371203514832504</td>\n",
       "      <td>OPPO</td>\n",
       "      <td>R7 Plus</td>\n",
       "      <td>2</td>\n",
       "    </tr>\n",
       "    <tr>\n",
       "      <th>186669</th>\n",
       "      <td>9218059356897525342</td>\n",
       "      <td>华为</td>\n",
       "      <td>畅享5S</td>\n",
       "      <td>2</td>\n",
       "    </tr>\n",
       "  </tbody>\n",
       "</table>\n",
       "<p>523 rows × 4 columns</p>\n",
       "</div>"
      ],
      "text/plain": [
       "                  device_id phone_brand device_model  count\n",
       "227    -9198513807097378193          酷派           F2      2\n",
       "274    -9194249084574705214        vivo         Y29L      2\n",
       "422    -9180330522697778980          华为     荣耀6 Plus      2\n",
       "1815   -9042966463857944795          小米         红米1S      2\n",
       "2509   -8977849817626954804          华为         荣耀4A      2\n",
       "...                     ...         ...          ...    ...\n",
       "185835  9134757794671046563          三星    Galaxy S4      2\n",
       "186183  9169567266060728256          奇酷          青春版      2\n",
       "186270  9178224089698771087          联想         A590      2\n",
       "186435  9196371203514832504        OPPO      R7 Plus      2\n",
       "186669  9218059356897525342          华为         畅享5S      2\n",
       "\n",
       "[523 rows x 4 columns]"
      ]
     },
     "execution_count": 35,
     "metadata": {
      "tags": []
     },
     "output_type": "execute_result"
    }
   ],
   "source": [
    "phone_dup=phone_data.groupby([\"device_id\",\"phone_brand\",\"device_model\"])[\"device_id\"].count().reset_index(name=\"count\")\n",
    "phone_dup[ phone_dup[\"count\"]>1 ]"
   ]
  },
  {
   "cell_type": "code",
   "execution_count": null,
   "metadata": {
    "id": "V7sDwXBJAfdG",
    "outputId": "535a27fc-3217-4207-9516-ce5844a5a74b"
   },
   "outputs": [
    {
     "data": {
      "text/html": [
       "<div>\n",
       "<style scoped>\n",
       "    .dataframe tbody tr th:only-of-type {\n",
       "        vertical-align: middle;\n",
       "    }\n",
       "\n",
       "    .dataframe tbody tr th {\n",
       "        vertical-align: top;\n",
       "    }\n",
       "\n",
       "    .dataframe thead th {\n",
       "        text-align: right;\n",
       "    }\n",
       "</style>\n",
       "<table border=\"1\" class=\"dataframe\">\n",
       "  <thead>\n",
       "    <tr style=\"text-align: right;\">\n",
       "      <th></th>\n",
       "      <th>device_id</th>\n",
       "      <th>phone_brand</th>\n",
       "      <th>device_model</th>\n",
       "    </tr>\n",
       "  </thead>\n",
       "  <tbody>\n",
       "    <tr>\n",
       "      <th>104783</th>\n",
       "      <td>9134757794671046563</td>\n",
       "      <td>三星</td>\n",
       "      <td>Galaxy S4</td>\n",
       "    </tr>\n",
       "    <tr>\n",
       "      <th>151796</th>\n",
       "      <td>9134757794671046563</td>\n",
       "      <td>三星</td>\n",
       "      <td>Galaxy S4</td>\n",
       "    </tr>\n",
       "  </tbody>\n",
       "</table>\n",
       "</div>"
      ],
      "text/plain": [
       "                  device_id phone_brand device_model\n",
       "104783  9134757794671046563          三星    Galaxy S4\n",
       "151796  9134757794671046563          三星    Galaxy S4"
      ]
     },
     "execution_count": 36,
     "metadata": {
      "tags": []
     },
     "output_type": "execute_result"
    }
   ],
   "source": [
    "phone_data[ phone_data[\"device_id\"]==9134757794671046563 ]"
   ]
  },
  {
   "cell_type": "markdown",
   "metadata": {
    "id": "ChMyv8vkAfdJ"
   },
   "source": [
    "<h5>Observations</h5>\n",
    "<li>Duplicates are present in phone data</li>"
   ]
  },
  {
   "cell_type": "code",
   "execution_count": null,
   "metadata": {
    "id": "5V00vKT2AfdJ"
   },
   "outputs": [],
   "source": [
    "english_phone_brands_mapping = {\n",
    "    \"三星\": \"samsung\",\n",
    "    \"天语\": \"Ktouch\",\n",
    "    \"海信\": \"hisense\",\n",
    "    \"联想\": \"lenovo\",\n",
    "    \"欧比\": \"obi\",\n",
    "    \"爱派尔\": \"ipair\",\n",
    "    \"努比亚\": \"nubia\",\n",
    "    \"优米\": \"youmi\",\n",
    "    \"朵唯\": \"dowe\",\n",
    "    \"黑米\": \"heymi\",\n",
    "    \"锤子\": \"hammer\",\n",
    "    \"酷比魔方\": \"koobee\",\n",
    "    \"美图\": \"meitu\",\n",
    "    \"尼比鲁\": \"nibilu\",\n",
    "    \"一加\": \"oneplus\",\n",
    "    \"优购\": \"yougo\",\n",
    "    \"诺基亚\": \"nokia\",\n",
    "    \"糖葫芦\": \"candy\",\n",
    "    \"中国移动\": \"ccmc\",\n",
    "    \"语信\": \"yuxin\",\n",
    "    \"基伍\": \"kiwu\",\n",
    "    \"青橙\": \"greeno\",\n",
    "    \"华硕\": \"asus\",\n",
    "    \"夏新\": \"panosonic\",\n",
    "    \"维图\": \"weitu\",\n",
    "    \"艾优尼\": \"aiyouni\",\n",
    "    \"摩托罗拉\": \"moto\",\n",
    "    \"乡米\": \"xiangmi\",\n",
    "    \"米奇\": \"micky\",\n",
    "    \"大可乐\": \"bigcola\",\n",
    "    \"沃普丰\": \"wpf\",\n",
    "    \"神舟\": \"hasse\",\n",
    "    \"摩乐\": \"mole\",\n",
    "    \"飞秒\": \"fs\",\n",
    "    \"米歌\": \"mige\",\n",
    "    \"富可视\": \"fks\",\n",
    "    \"德赛\": \"desci\",\n",
    "    \"梦米\": \"mengmi\",\n",
    "    \"乐视\": \"lshi\",\n",
    "    \"小杨树\": \"smallt\",\n",
    "    \"纽曼\": \"newman\",\n",
    "    \"邦华\": \"banghua\",\n",
    "    \"E派\": \"epai\",\n",
    "    \"易派\": \"epai\",\n",
    "    \"普耐尔\": \"pner\",\n",
    "    \"欧新\": \"ouxin\",\n",
    "    \"西米\": \"ximi\",\n",
    "    \"海尔\": \"haier\",\n",
    "    \"波导\": \"bodao\",\n",
    "    \"糯米\": \"nuomi\",\n",
    "    \"唯米\": \"weimi\",\n",
    "    \"酷珀\": \"kupo\",\n",
    "    \"谷歌\": \"google\",\n",
    "    \"昂达\": \"ada\",\n",
    "    \"聆韵\": \"lingyun\",\n",
    "    \"小米\": \"Xiaomi\",\n",
    "    \"华为\": \"Huawei\",\n",
    "    \"魅族\": \"Meizu\",\n",
    "    \"中兴\": \"ZTE\",\n",
    "    \"酷派\": \"Coolpad\",\n",
    "    \"金立\": \"Gionee\",\n",
    "    \"SUGAR\": \"SUGAR\",\n",
    "    \"OPPO\": \"OPPO\",\n",
    "    \"vivo\": \"vivo\",\n",
    "    \"HTC\": \"HTC\",\n",
    "    \"LG\": \"LG\",\n",
    "    \"ZUK\": \"ZUK\",\n",
    "    \"TCL\": \"TCL\",\n",
    "    \"LOGO\": \"LOGO\",\n",
    "    \"SUGAR\": \"SUGAR\",\n",
    "    \"Lovme\": \"Lovme\",\n",
    "    \"PPTV\": \"PPTV\",\n",
    "    \"ZOYE\": \"ZOYE\",\n",
    "    \"MIL\": \"MIL\",\n",
    "    \"索尼\" : \"Sony\",\n",
    "    \"欧博信\" : \"Opssom\",\n",
    "    \"奇酷\" : \"Qiku\",\n",
    "    \"酷比\" : \"CUBE\",\n",
    "    \"康佳\" : \"Konka\",\n",
    "    \"亿通\" : \"Yitong\",\n",
    "    \"金星数码\" : \"JXD\",\n",
    "    \"至尊宝\" : \"Monkey King\",\n",
    "    \"百立丰\" : \"Hundred Li Feng\",\n",
    "    \"贝尔丰\" : \"Bifer\",\n",
    "    \"百加\" : \"Bacardi\",\n",
    "    \"诺亚信\" : \"Noain\",\n",
    "    \"广信\" : \"Kingsun\",\n",
    "    \"世纪天元\" : \"Ctyon\",\n",
    "    \"青葱\" : \"Cong\",\n",
    "    \"果米\" : \"Taobao\",\n",
    "    \"斐讯\" : \"Phicomm\",\n",
    "    \"长虹\" : \"Changhong\",\n",
    "    \"欧奇\" : \"Oukimobile\",\n",
    "    \"先锋\" : \"XFPLAY\",\n",
    "    \"台电\" : \"Teclast\",\n",
    "    \"大Q\" : \"Daq\",\n",
    "    \"蓝魔\" : \"Ramos\",\n",
    "    \"奥克斯\" : \"AUX\"\n",
    "}"
   ]
  },
  {
   "cell_type": "code",
   "execution_count": null,
   "metadata": {
    "id": "VgoBGEI6AfdL"
   },
   "outputs": [],
   "source": [
    "\n",
    "\n",
    "# # Translating the Chinese Terms in both columns to English\n",
    "phone_data['phone_brand'] = phone_data['phone_brand'].apply(lambda x: english_phone_brands_mapping[x] if x in english_phone_brands_mapping else x)"
   ]
  },
  {
   "cell_type": "code",
   "execution_count": null,
   "metadata": {
    "id": "on-_LRX_AfdO",
    "outputId": "ac48f35a-a777-4132-f048-5825dbbc0556"
   },
   "outputs": [
    {
     "data": {
      "text/html": [
       "<div>\n",
       "<style scoped>\n",
       "    .dataframe tbody tr th:only-of-type {\n",
       "        vertical-align: middle;\n",
       "    }\n",
       "\n",
       "    .dataframe tbody tr th {\n",
       "        vertical-align: top;\n",
       "    }\n",
       "\n",
       "    .dataframe thead th {\n",
       "        text-align: right;\n",
       "    }\n",
       "</style>\n",
       "<table border=\"1\" class=\"dataframe\">\n",
       "  <thead>\n",
       "    <tr style=\"text-align: right;\">\n",
       "      <th></th>\n",
       "      <th>device_id</th>\n",
       "      <th>phone_brand</th>\n",
       "      <th>device_model</th>\n",
       "    </tr>\n",
       "  </thead>\n",
       "  <tbody>\n",
       "    <tr>\n",
       "      <th>0</th>\n",
       "      <td>-8890648629457979026</td>\n",
       "      <td>Xiaomi</td>\n",
       "      <td>红米</td>\n",
       "    </tr>\n",
       "    <tr>\n",
       "      <th>1</th>\n",
       "      <td>1277779817574759137</td>\n",
       "      <td>Xiaomi</td>\n",
       "      <td>MI 2</td>\n",
       "    </tr>\n",
       "    <tr>\n",
       "      <th>2</th>\n",
       "      <td>5137427614288105724</td>\n",
       "      <td>samsung</td>\n",
       "      <td>Galaxy S4</td>\n",
       "    </tr>\n",
       "    <tr>\n",
       "      <th>3</th>\n",
       "      <td>3669464369358936369</td>\n",
       "      <td>SUGAR</td>\n",
       "      <td>时尚手机</td>\n",
       "    </tr>\n",
       "    <tr>\n",
       "      <th>4</th>\n",
       "      <td>-5019277647504317457</td>\n",
       "      <td>samsung</td>\n",
       "      <td>Galaxy Note 2</td>\n",
       "    </tr>\n",
       "  </tbody>\n",
       "</table>\n",
       "</div>"
      ],
      "text/plain": [
       "             device_id phone_brand   device_model\n",
       "0 -8890648629457979026      Xiaomi             红米\n",
       "1  1277779817574759137      Xiaomi           MI 2\n",
       "2  5137427614288105724     samsung      Galaxy S4\n",
       "3  3669464369358936369       SUGAR           时尚手机\n",
       "4 -5019277647504317457     samsung  Galaxy Note 2"
      ]
     },
     "execution_count": 26,
     "metadata": {
      "tags": []
     },
     "output_type": "execute_result"
    }
   ],
   "source": [
    "phone_data.head()\n"
   ]
  },
  {
   "cell_type": "code",
   "execution_count": null,
   "metadata": {
    "id": "S4EOCm1nAfdQ"
   },
   "outputs": [],
   "source": [
    "brand_counts=dict(phone_data['phone_brand'].value_counts())\n",
    "brand_keys = [k for k in sorted(brand_counts, key=brand_counts.get, reverse=True)]\n",
    "#Taking Top 15 keys with highest values \n",
    "brand_top_keys=brand_keys[:15]\n",
    "brand_top_values=[brand_counts.get(k) for k in brand_top_keys]"
   ]
  },
  {
   "cell_type": "code",
   "execution_count": null,
   "metadata": {
    "id": "7GRjRTqZAfdT",
    "outputId": "fcc6bbc4-1501-4b4b-be47-11194f1dbea4"
   },
   "outputs": [
    {
     "data": {
      "image/png": "[encoded data removed]",
      "text/plain": [
       "<Figure size 1080x720 with 1 Axes>"
      ]
     },
     "metadata": {
      "needs_background": "light",
      "tags": []
     },
     "output_type": "display_data"
    },
    {
     "name": "stdout",
     "output_type": "stream",
     "text": [
      "------------------------------------------------------------------------------------------\n",
      "Brand:  Xiaomi  Percentage:  23.08  %\n",
      "Brand:  samsung  Percentage:  18.31  %\n",
      "Brand:  Huawei  Percentage:  17.39  %\n",
      "Brand:  vivo  Percentage:  7.69  %\n",
      "Brand:  OPPO  Percentage:  7.63  %\n",
      "Brand:  Meizu  Percentage:  6.33  %\n",
      "Brand:  Coolpad  Percentage:  4.49  %\n",
      "Brand:  lenovo  Percentage:  3.61  %\n",
      "Brand:  Gionee  Percentage:  1.48  %\n",
      "Brand:  HTC  Percentage:  1.43  %\n",
      "Brand:  ZTE  Percentage:  1.12  %\n",
      "Brand:  lshi  Percentage:  1.03  %\n",
      "Brand:  Sony  Percentage:  0.97  %\n",
      "Brand:  nubia  Percentage:  0.61  %\n",
      "Brand:  LG  Percentage:  0.41  %\n"
     ]
    }
   ],
   "source": [
    "plt.figure(figsize=(15,10))\n",
    "indices=np.arange(len(brand_top_keys))\n",
    "counts=np.array(brand_top_values)\n",
    "percent=(counts/phone_data.shape[0])*100\n",
    "plt.bar(indices,percent)\n",
    "plt.xlabel('Phone Brands',fontsize=15)\n",
    "plt.ylabel('Percentage',fontsize=15)\n",
    "plt.title('Percentages of Top 15 Phone Brands',fontsize=15)\n",
    "plt.xticks(indices,brand_top_keys)\n",
    "plt.show()\n",
    "print(\"-\"*90)\n",
    "for i in range(len(brand_top_keys)):\n",
    "    print(\"Brand: \",brand_top_keys[i],\" Percentage: \",np.round(percent[i],2),\" %\")"
   ]
  },
  {
   "cell_type": "code",
   "execution_count": null,
   "metadata": {
    "id": "3uz1FxORAfdV",
    "outputId": "00419501-143f-4e50-cc0d-b634b1740cee"
   },
   "outputs": [
    {
     "data": {
      "text/html": [
       "<div>\n",
       "<style scoped>\n",
       "    .dataframe tbody tr th:only-of-type {\n",
       "        vertical-align: middle;\n",
       "    }\n",
       "\n",
       "    .dataframe tbody tr th {\n",
       "        vertical-align: top;\n",
       "    }\n",
       "\n",
       "    .dataframe thead th {\n",
       "        text-align: right;\n",
       "    }\n",
       "</style>\n",
       "<table border=\"1\" class=\"dataframe\">\n",
       "  <thead>\n",
       "    <tr style=\"text-align: right;\">\n",
       "      <th></th>\n",
       "      <th>device_id</th>\n",
       "      <th>gender</th>\n",
       "      <th>age</th>\n",
       "      <th>group</th>\n",
       "      <th>phone_brand</th>\n",
       "      <th>device_model</th>\n",
       "    </tr>\n",
       "  </thead>\n",
       "  <tbody>\n",
       "    <tr>\n",
       "      <th>0</th>\n",
       "      <td>-8076087639492063270</td>\n",
       "      <td>M</td>\n",
       "      <td>35</td>\n",
       "      <td>M32-38</td>\n",
       "      <td>Xiaomi</td>\n",
       "      <td>MI 2</td>\n",
       "    </tr>\n",
       "    <tr>\n",
       "      <th>1</th>\n",
       "      <td>-2897161552818060146</td>\n",
       "      <td>M</td>\n",
       "      <td>35</td>\n",
       "      <td>M32-38</td>\n",
       "      <td>Xiaomi</td>\n",
       "      <td>MI 2</td>\n",
       "    </tr>\n",
       "    <tr>\n",
       "      <th>2</th>\n",
       "      <td>-8260683887967679142</td>\n",
       "      <td>M</td>\n",
       "      <td>35</td>\n",
       "      <td>M32-38</td>\n",
       "      <td>Xiaomi</td>\n",
       "      <td>MI 2</td>\n",
       "    </tr>\n",
       "    <tr>\n",
       "      <th>3</th>\n",
       "      <td>-4938849341048082022</td>\n",
       "      <td>M</td>\n",
       "      <td>30</td>\n",
       "      <td>M29-31</td>\n",
       "      <td>Xiaomi</td>\n",
       "      <td>红米note</td>\n",
       "    </tr>\n",
       "    <tr>\n",
       "      <th>4</th>\n",
       "      <td>245133531816851882</td>\n",
       "      <td>M</td>\n",
       "      <td>30</td>\n",
       "      <td>M29-31</td>\n",
       "      <td>Xiaomi</td>\n",
       "      <td>MI 3</td>\n",
       "    </tr>\n",
       "    <tr>\n",
       "      <th>...</th>\n",
       "      <td>...</td>\n",
       "      <td>...</td>\n",
       "      <td>...</td>\n",
       "      <td>...</td>\n",
       "      <td>...</td>\n",
       "      <td>...</td>\n",
       "    </tr>\n",
       "    <tr>\n",
       "      <th>74834</th>\n",
       "      <td>4682031842235089751</td>\n",
       "      <td>M</td>\n",
       "      <td>30</td>\n",
       "      <td>M29-31</td>\n",
       "      <td>Xiaomi</td>\n",
       "      <td>MI 3</td>\n",
       "    </tr>\n",
       "    <tr>\n",
       "      <th>74835</th>\n",
       "      <td>-9178703742877135986</td>\n",
       "      <td>M</td>\n",
       "      <td>30</td>\n",
       "      <td>M29-31</td>\n",
       "      <td>Xiaomi</td>\n",
       "      <td>MI 3</td>\n",
       "    </tr>\n",
       "    <tr>\n",
       "      <th>74836</th>\n",
       "      <td>180946546684162312</td>\n",
       "      <td>M</td>\n",
       "      <td>20</td>\n",
       "      <td>M22-</td>\n",
       "      <td>Xiaomi</td>\n",
       "      <td>红米note</td>\n",
       "    </tr>\n",
       "    <tr>\n",
       "      <th>74837</th>\n",
       "      <td>1390702386071991851</td>\n",
       "      <td>M</td>\n",
       "      <td>37</td>\n",
       "      <td>M32-38</td>\n",
       "      <td>Huawei</td>\n",
       "      <td>Ascend P8</td>\n",
       "    </tr>\n",
       "    <tr>\n",
       "      <th>74838</th>\n",
       "      <td>89181010588227347</td>\n",
       "      <td>M</td>\n",
       "      <td>25</td>\n",
       "      <td>M23-26</td>\n",
       "      <td>Xiaomi</td>\n",
       "      <td>MI 2S</td>\n",
       "    </tr>\n",
       "  </tbody>\n",
       "</table>\n",
       "<p>74839 rows × 6 columns</p>\n",
       "</div>"
      ],
      "text/plain": [
       "                 device_id gender  age   group phone_brand device_model\n",
       "0     -8076087639492063270      M   35  M32-38      Xiaomi         MI 2\n",
       "1     -2897161552818060146      M   35  M32-38      Xiaomi         MI 2\n",
       "2     -8260683887967679142      M   35  M32-38      Xiaomi         MI 2\n",
       "3     -4938849341048082022      M   30  M29-31      Xiaomi       红米note\n",
       "4       245133531816851882      M   30  M29-31      Xiaomi         MI 3\n",
       "...                    ...    ...  ...     ...         ...          ...\n",
       "74834  4682031842235089751      M   30  M29-31      Xiaomi         MI 3\n",
       "74835 -9178703742877135986      M   30  M29-31      Xiaomi         MI 3\n",
       "74836   180946546684162312      M   20    M22-      Xiaomi       红米note\n",
       "74837  1390702386071991851      M   37  M32-38      Huawei    Ascend P8\n",
       "74838    89181010588227347      M   25  M23-26      Xiaomi        MI 2S\n",
       "\n",
       "[74839 rows x 6 columns]"
      ]
     },
     "execution_count": 29,
     "metadata": {
      "tags": []
     },
     "output_type": "execute_result"
    }
   ],
   "source": [
    "phone_device_data=gender_age_train.merge(phone_data, left_on='device_id', right_on='device_id',how='inner')\n",
    "phone_device_data"
   ]
  },
  {
   "cell_type": "code",
   "execution_count": null,
   "metadata": {
    "id": "heWkWPYdAfdX",
    "outputId": "d9e41b7f-1cd3-44f2-8207-796a03cc5693"
   },
   "outputs": [
    {
     "data": {
      "text/plain": [
       "Text(0.5, 1.0, 'CountPlot-Status vs nodes')"
      ]
     },
     "execution_count": 30,
     "metadata": {
      "tags": []
     },
     "output_type": "execute_result"
    },
    {
     "data": {
      "image/png": "[encoded data removed]",
      "text/plain": [
       "<Figure size 793.625x720 with 1 Axes>"
      ]
     },
     "metadata": {
      "needs_background": "light",
      "tags": []
     },
     "output_type": "display_data"
    }
   ],
   "source": [
    "sns.FacetGrid(phone_device_data,hue=\"group\", size=10,) \\\n",
    "   .map(sns.countplot, \"phone_brand\",order=phone_device_data.phone_brand.value_counts().iloc[:10].index) \\\n",
    "   .add_legend()  \n",
    "plt.title(\"CountPlot-Status vs nodes\")\n",
    "\n",
    " \n"
   ]
  },
  {
   "cell_type": "code",
   "execution_count": null,
   "metadata": {
    "id": "t9kKhosmAfdZ",
    "outputId": "5426b912-c36c-4fcb-8514-02a4e47b4c0f"
   },
   "outputs": [
    {
     "data": {
      "text/plain": [
       "Text(0.5, 1.0, 'CountPlot-Status vs nodes')"
      ]
     },
     "execution_count": 31,
     "metadata": {
      "tags": []
     },
     "output_type": "execute_result"
    },
    {
     "data": {
      "image/png": "[encoded data removed]",
      "text/plain": [
       "<Figure size 764.625x720 with 1 Axes>"
      ]
     },
     "metadata": {
      "needs_background": "light",
      "tags": []
     },
     "output_type": "display_data"
    }
   ],
   "source": [
    "sns.FacetGrid(phone_device_data,hue=\"gender\", size=10,) \\\n",
    "   .map(sns.countplot, \"phone_brand\",order=phone_device_data.phone_brand.value_counts().iloc[:10].index) \\\n",
    "   .add_legend()  \n",
    "plt.title(\"CountPlot-Status vs nodes\")\n",
    "\n",
    " \n"
   ]
  },
  {
   "cell_type": "markdown",
   "metadata": {
    "id": "ImgLCi1bAfdb"
   },
   "source": [
    "<h5>Observation:</h5>\n",
    "    <li>Top phone brands used are Xiaomi,samsung,huawei.\n",
    "    <li>Top 3 brands consist of 58.78% of phones and hence they are dominating the mobile industry.\n",
    "    <li>Other brands consist of 41.22% of phones.\n",
    "     <li>We can also see that there is no linear/not linear relation of group vs phone_brand,but since its the only data available for devices without events,These will be used for classification,but most of the sales of oppo and vivo are from females which can be due its phone filters.\n",
    "    "
   ]
  },
  {
   "cell_type": "markdown",
   "metadata": {
    "id": "gzbOJPszAfdc"
   },
   "source": [
    "<h3>Summary:</h3>\n"
   ]
  },
  {
   "cell_type": "markdown",
   "metadata": {
    "id": "rovnxJKNAfdc"
   },
   "source": [
    "\n",
    "<li>There are totally 12 groups,where male users are more than female users</li>\n",
    "<li>Male age range -> 22-39+</li>\n",
    "<li>Female age range -> 23-43+</li>\n",
    "<li>Age wise we have more data in females and count wise male data is more.</li>\n",
    "<li>25 and 75 Percentile Age values for Both Male and Female are similar</li>\n",
    "<li>MAD is same for both Male and female</li>\n",
    "<li>Even though the count of male is higher than female ,the distribution of data in both is similar.</li>\n",
    "<li>Majority(68.77%) of Train data has events</li>\n",
    "<li>Majority(68.80%) of Test data has events</li>\n",
    "<li>Data is from 30th April 11.52PM to 8th May 12AM 2016</li>\n",
    "<li>M32-38 has significant number of people who spent the phone between 11PM and 3AM.\n",
    "<li>And comparitively Males use the phone at night more than women.\n",
    "<li>Assuming more the count of events means more the user is using the device.But from above two cells we can say that there is no relationship between age and gender of user and the amount of time user is using the device. </li>\n",
    "<li>In each event user has used multiple apps,and these apps belong to multiple categories.</li>\n",
    "<li>Here all registered apps are installed but 39.21% are actively used(Train).</li>\n",
    "<li>Duplicates are present in phone data which need to be removed</li>\n",
    "<li>Phone data is the only the data present for devices without events.</li>\n",
    "<li>Top 3 brands consist of 58.78% of phones and hence they are dominating the mobile industry.</li>\n",
    "\n",
    "\n"
   ]
  },
  {
   "cell_type": "markdown",
   "metadata": {
    "id": "hmT96M1SAfdc"
   },
   "source": [
    "<h3>Insight:</h3>\n"
   ]
  },
  {
   "cell_type": "markdown",
   "metadata": {
    "id": "45aPXpybAfdd"
   },
   "source": [
    "<li>Around 32% data has no events for which only phone brand and model are considered as features.</li>\n",
    "<li>For data with events(68%),features below are decided to be used for the further process.</li>  "
   ]
  },
  {
   "cell_type": "markdown",
   "metadata": {
    "id": "k0GDVVR3Afdd"
   },
   "source": [
    "<h3>Features decided after EDA</h3>\n"
   ]
  },
  {
   "cell_type": "markdown",
   "metadata": {
    "id": "pC65g78RAfdd"
   },
   "source": [
    "<li>mode/median of longitude(of all events and timestamps)</li>\n",
    "<li>mode/median of latitude(of all events and timestamps)</li>\n",
    "<li>TFIDF approach of apps used(active) by that particular device</li>\n",
    "<li>BOW approach of labels of apps used(installed) by that particular device</li>\n",
    "<li>BOW approach of phone brand(one hot encoding,since these consist of different languages)</li>\n",
    "<li>BOW approach of phone model(one hot encoding,since these consist of different languages)</li>\n",
    "<li>BOW weekday the event has occured(one hot encoded)</li>\n",
    "<li>BOW Hour of the Event</li>\n",
    "<li>BOW Hour bin of the Event</li>\n",
    "  \n"
   ]
  },
  {
   "cell_type": "code",
   "execution_count": null,
   "metadata": {},
   "outputs": [],
   "source": []
  }
 ],
 "metadata": {
  "accelerator": "GPU",
  "colab": {
   "collapsed_sections": [
    "qawjuf-qAfde",
    "-3tEteFmAfd5",
    "W5FgS8DKAfd-",
    "kpXEzcqoAfeN",
    "U5HzK6voAfea",
    "4fmXS-W8AfgS",
    "ptRAmx5uAfgU"
   ],
   "name": "EDA_talking_data.ipynb",
   "provenance": []
  },
  "kernelspec": {
   "display_name": "Python 3",
   "language": "python",
   "name": "python3"
  },
  "language_info": {
   "codemirror_mode": {
    "name": "ipython",
    "version": 3
   },
   "file_extension": ".py",
   "mimetype": "text/x-python",
   "name": "python",
   "nbconvert_exporter": "python",
   "pygments_lexer": "ipython3",
   "version": "3.7.3"
  }
 },
 "nbformat": 4,
 "nbformat_minor": 1
}
