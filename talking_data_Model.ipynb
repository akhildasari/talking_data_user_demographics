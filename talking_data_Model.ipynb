{
 "cells": [
  {
   "cell_type": "code",
   "execution_count": 1,
   "metadata": {},
   "outputs": [
    {
     "name": "stderr",
     "output_type": "stream",
     "text": [
      "/home/akhil_dasari13/.local/lib/python3.5/site-packages/xgboost/__init__.py:29: FutureWarning: Python 3.5 support is deprecated; XGBoost will require Python 3.6+ in the near future. Consider upgrading to Python 3.6+.\n",
      "  FutureWarning)\n"
     ]
    }
   ],
   "source": [
    "import pandas as pd\n",
    "import numpy as np\n",
    "%matplotlib inline\n",
    "import seaborn as sns\n",
    "import matplotlib.pyplot as plt\n",
    "from scipy import sparse\n",
    "\n",
    "import os\n",
    "from sklearn.preprocessing import LabelEncoder,StandardScaler, OneHotEncoder\n",
    "from scipy.sparse import csr_matrix, hstack\n",
    "from sklearn.linear_model import LogisticRegression\n",
    "from sklearn.model_selection import StratifiedKFold\n",
    "from sklearn.metrics import log_loss\n",
    "from sklearn.feature_extraction.text import TfidfTransformer,TfidfVectorizer,CountVectorizer\n",
    "from sklearn.cluster import KMeans\n",
    "from xgboost import XGBClassifier\n",
    "from sklearn.calibration import CalibratedClassifierCV\n",
    "import warnings\n",
    "warnings.filterwarnings(\"ignore\")"
   ]
  },
  {
   "cell_type": "code",
   "execution_count": 2,
   "metadata": {},
   "outputs": [],
   "source": [
    "from keras.models import Sequential\n",
    "from keras.layers import Dense, Dropout, Activation,BatchNormalization\n",
    "from keras.wrappers.scikit_learn import KerasClassifier\n",
    "from keras.utils import np_utils\n",
    "from keras.optimizers import SGD,Adagrad\n",
    "from keras.layers.advanced_activations import PReLU\n",
    "from sklearn.model_selection import train_test_split\n",
    "from keras.callbacks import EarlyStopping,TensorBoard\n",
    "from statistics import mean"
   ]
  },
  {
   "cell_type": "markdown",
   "metadata": {},
   "source": [
    "# LOADING THE DATA"
   ]
  },
  {
   "cell_type": "code",
   "execution_count": 3,
   "metadata": {},
   "outputs": [],
   "source": [
    "gender_age_train = pd.read_csv(\"data/gender_age_train.csv\",index_col='device_id')\n",
    "gender_age_test = pd.read_csv(\"data/gender_age_test.csv\",index_col='device_id')\n",
    "phone_data=pd.read_csv(\"data/phone_brand_device_model.csv\")\n",
    "app_labels=pd.read_csv('data/app_labels.csv')\n",
    "label_categories=pd.read_csv(\"data/label_categories.csv\")\n",
    "app_events=pd.read_csv(\"data/app_events.csv\", dtype={'is_active':bool})\n",
    "events = pd.read_csv('data/events.csv',  parse_dates=['timestamp'],index_col='event_id')"
   ]
  },
  {
   "cell_type": "code",
   "execution_count": 4,
   "metadata": {},
   "outputs": [],
   "source": [
    "#removing duplicate device id's\n",
    "phone_data = phone_data.drop_duplicates('device_id',keep='first').set_index('device_id') "
   ]
  },
  {
   "cell_type": "markdown",
   "metadata": {},
   "source": [
    "# Data Preparation:"
   ]
  },
  {
   "cell_type": "markdown",
   "metadata": {},
   "source": [
    "### Separating events vs no-events data:"
   ]
  },
  {
   "cell_type": "code",
   "execution_count": 5,
   "metadata": {},
   "outputs": [],
   "source": [
    "#https://docs.scipy.org/doc/numpy/reference/generated/numpy.in1d.html\n",
    "mask=np.in1d(gender_age_train.index,events[\"device_id\"].values)\n",
    "train_w_events= gender_age_train[mask]\n",
    "\n",
    "mask=np.in1d(gender_age_test.index,events[\"device_id\"].values)\n",
    "test_w_events= gender_age_test[mask]"
   ]
  },
  {
   "cell_type": "code",
   "execution_count": 6,
   "metadata": {},
   "outputs": [],
   "source": [
    "#https://docs.scipy.org/doc/numpy/reference/generated/numpy.in1d.html\n",
    "mask=np.in1d(gender_age_train.index,events[\"device_id\"].values,invert=True)\n",
    "train_wo_events= gender_age_train[mask]\n",
    "\n",
    "mask=np.in1d(gender_age_test.index,events[\"device_id\"].values,invert=True)\n",
    "test_wo_events= gender_age_test[mask]"
   ]
  },
  {
   "cell_type": "code",
   "execution_count": 7,
   "metadata": {},
   "outputs": [],
   "source": [
    "#Each row of is given by a unique integer as an identifier\n",
    "\n",
    "gender_age_train['trainrow'] = np.arange(gender_age_train.shape[0])\n",
    "gender_age_test['testrow'] = np.arange(gender_age_test.shape[0])\n",
    "\n",
    "train_w_events['trainrow']=np.arange(train_w_events.shape[0])\n",
    "test_w_events['testrow']=np.arange(test_w_events.shape[0])\n",
    "\n",
    "train_wo_events['trainrow']=np.arange(train_wo_events.shape[0])\n",
    "test_wo_events['testrow']=np.arange(test_wo_events.shape[0])"
   ]
  },
  {
   "cell_type": "markdown",
   "metadata": {},
   "source": [
    "### VECTORIZING PHONE BRAND:"
   ]
  },
  {
   "cell_type": "code",
   "execution_count": 8,
   "metadata": {},
   "outputs": [
    {
     "data": {
      "text/plain": [
       "131"
      ]
     },
     "execution_count": 8,
     "metadata": {},
     "output_type": "execute_result"
    }
   ],
   "source": [
    "brandencoder = LabelEncoder().fit(phone_data[\"phone_brand\"])\n",
    "phone_data['brand'] = brandencoder.transform(phone_data['phone_brand'])\n",
    "nbrand=len(brandencoder.classes_)\n",
    "nbrand"
   ]
  },
  {
   "cell_type": "code",
   "execution_count": 9,
   "metadata": {},
   "outputs": [],
   "source": [
    "import pickle\n",
    "with open('brandencoder','wb') as fp:\n",
    "    pickle.dump(brandencoder,fp)"
   ]
  },
  {
   "cell_type": "markdown",
   "metadata": {},
   "source": [
    "### VECTORIZING PHONE MODEL:"
   ]
  },
  {
   "cell_type": "code",
   "execution_count": 10,
   "metadata": {},
   "outputs": [
    {
     "data": {
      "text/plain": [
       "1667"
      ]
     },
     "execution_count": 10,
     "metadata": {},
     "output_type": "execute_result"
    }
   ],
   "source": [
    "models_joined = phone_data['phone_brand'].str.cat(phone_data['device_model'])\n",
    "#m=phone['phone_brand'].str.cat(phone['device_model'])\n",
    "modelencoder = LabelEncoder().fit(models_joined)\n",
    "phone_data['model'] = modelencoder.transform(models_joined)\n",
    "nmodel=len(modelencoder.classes_)\n",
    "nmodel"
   ]
  },
  {
   "cell_type": "code",
   "execution_count": 11,
   "metadata": {},
   "outputs": [],
   "source": [
    "import pickle\n",
    "with open('modelencoder','wb') as fp:\n",
    "    pickle.dump(modelencoder,fp)"
   ]
  },
  {
   "cell_type": "markdown",
   "metadata": {},
   "source": [
    "### FEATURES USING APP ID'S"
   ]
  },
  {
   "cell_type": "code",
   "execution_count": 12,
   "metadata": {},
   "outputs": [
    {
     "data": {
      "text/html": [
       "<div>\n",
       "<style scoped>\n",
       "    .dataframe tbody tr th:only-of-type {\n",
       "        vertical-align: middle;\n",
       "    }\n",
       "\n",
       "    .dataframe tbody tr th {\n",
       "        vertical-align: top;\n",
       "    }\n",
       "\n",
       "    .dataframe thead th {\n",
       "        text-align: right;\n",
       "    }\n",
       "</style>\n",
       "<table border=\"1\" class=\"dataframe\">\n",
       "  <thead>\n",
       "    <tr style=\"text-align: right;\">\n",
       "      <th></th>\n",
       "      <th>device_id</th>\n",
       "      <th>app</th>\n",
       "      <th>size</th>\n",
       "      <th>trainrow</th>\n",
       "      <th>testrow</th>\n",
       "    </tr>\n",
       "  </thead>\n",
       "  <tbody>\n",
       "    <tr>\n",
       "      <th>0</th>\n",
       "      <td>-9222956879900151005</td>\n",
       "      <td>548</td>\n",
       "      <td>18</td>\n",
       "      <td>5145.0</td>\n",
       "      <td>NaN</td>\n",
       "    </tr>\n",
       "    <tr>\n",
       "      <th>1</th>\n",
       "      <td>-9222956879900151005</td>\n",
       "      <td>1096</td>\n",
       "      <td>18</td>\n",
       "      <td>5145.0</td>\n",
       "      <td>NaN</td>\n",
       "    </tr>\n",
       "    <tr>\n",
       "      <th>2</th>\n",
       "      <td>-9222956879900151005</td>\n",
       "      <td>1248</td>\n",
       "      <td>26</td>\n",
       "      <td>5145.0</td>\n",
       "      <td>NaN</td>\n",
       "    </tr>\n",
       "    <tr>\n",
       "      <th>3</th>\n",
       "      <td>-9222956879900151005</td>\n",
       "      <td>1545</td>\n",
       "      <td>12</td>\n",
       "      <td>5145.0</td>\n",
       "      <td>NaN</td>\n",
       "    </tr>\n",
       "    <tr>\n",
       "      <th>4</th>\n",
       "      <td>-9222956879900151005</td>\n",
       "      <td>1664</td>\n",
       "      <td>18</td>\n",
       "      <td>5145.0</td>\n",
       "      <td>NaN</td>\n",
       "    </tr>\n",
       "  </tbody>\n",
       "</table>\n",
       "</div>"
      ],
      "text/plain": [
       "             device_id   app  size  trainrow  testrow\n",
       "0 -9222956879900151005   548    18    5145.0      NaN\n",
       "1 -9222956879900151005  1096    18    5145.0      NaN\n",
       "2 -9222956879900151005  1248    26    5145.0      NaN\n",
       "3 -9222956879900151005  1545    12    5145.0      NaN\n",
       "4 -9222956879900151005  1664    18    5145.0      NaN"
      ]
     },
     "execution_count": 12,
     "metadata": {},
     "output_type": "execute_result"
    }
   ],
   "source": [
    "#https://www.kaggle.com/dvasyukova/a-linear-model-on-apps-and-labels\n",
    "#number of times app used in a device id's\n",
    "appencoder = LabelEncoder().fit(app_events['app_id'])\n",
    "app_events['app'] = appencoder.transform(app_events['app_id'])\n",
    "\n",
    "\n",
    "napps = len(appencoder.classes_)\n",
    "\n",
    "deviceapps = (app_events.merge(events[['device_id']], how='left',left_on='event_id',right_index=True)\n",
    "                       .groupby(['device_id','app'])['app'].agg(['size'])# grouping by device id and app and finding size of app\n",
    "                       .merge(train_w_events[['trainrow']], how='left', left_index=True, right_index=True)#finding trainrow\n",
    "                       .merge(test_w_events[['testrow']], how='left', left_index=True, right_index=True)#finding testrow\n",
    "                       .reset_index())\n",
    "deviceapps.head()"
   ]
  },
  {
   "cell_type": "code",
   "execution_count": 13,
   "metadata": {},
   "outputs": [
    {
     "data": {
      "text/plain": [
       "(2369025, 5)"
      ]
     },
     "execution_count": 13,
     "metadata": {},
     "output_type": "execute_result"
    }
   ],
   "source": [
    "deviceapps.shape"
   ]
  },
  {
   "cell_type": "code",
   "execution_count": 14,
   "metadata": {},
   "outputs": [],
   "source": [
    "import pickle\n",
    "with open('appencoder','wb') as fp:\n",
    "    pickle.dump(appencoder,fp)"
   ]
  },
  {
   "cell_type": "markdown",
   "metadata": {},
   "source": [
    "### FEATURES USING APP LABELS:"
   ]
  },
  {
   "cell_type": "code",
   "execution_count": 15,
   "metadata": {},
   "outputs": [
    {
     "data": {
      "text/plain": [
       "492"
      ]
     },
     "execution_count": 15,
     "metadata": {},
     "output_type": "execute_result"
    }
   ],
   "source": [
    "app_labels = app_labels.loc[app_labels['app_id'].isin(app_events['app_id'].unique())]\n",
    "app_labels['app'] = appencoder.transform(app_labels['app_id'])\n",
    "labelencoder = LabelEncoder().fit(app_labels['label_id'])\n",
    "app_labels['label'] = labelencoder.transform(app_labels['label_id'])\n",
    "nlabels = len(labelencoder.classes_)\n",
    "nlabels"
   ]
  },
  {
   "cell_type": "code",
   "execution_count": 16,
   "metadata": {},
   "outputs": [],
   "source": [
    "import pickle\n",
    "with open('labelencoder','wb') as fp:\n",
    "    pickle.dump(labelencoder,fp)"
   ]
  },
  {
   "cell_type": "code",
   "execution_count": 17,
   "metadata": {},
   "outputs": [
    {
     "data": {
      "text/html": [
       "<div>\n",
       "<style scoped>\n",
       "    .dataframe tbody tr th:only-of-type {\n",
       "        vertical-align: middle;\n",
       "    }\n",
       "\n",
       "    .dataframe tbody tr th {\n",
       "        vertical-align: top;\n",
       "    }\n",
       "\n",
       "    .dataframe thead th {\n",
       "        text-align: right;\n",
       "    }\n",
       "</style>\n",
       "<table border=\"1\" class=\"dataframe\">\n",
       "  <thead>\n",
       "    <tr style=\"text-align: right;\">\n",
       "      <th></th>\n",
       "      <th>device_id</th>\n",
       "      <th>label</th>\n",
       "      <th>size</th>\n",
       "      <th>trainrow</th>\n",
       "      <th>testrow</th>\n",
       "    </tr>\n",
       "  </thead>\n",
       "  <tbody>\n",
       "    <tr>\n",
       "      <th>0</th>\n",
       "      <td>-9222956879900151005</td>\n",
       "      <td>117</td>\n",
       "      <td>1</td>\n",
       "      <td>5145.0</td>\n",
       "      <td>NaN</td>\n",
       "    </tr>\n",
       "    <tr>\n",
       "      <th>1</th>\n",
       "      <td>-9222956879900151005</td>\n",
       "      <td>120</td>\n",
       "      <td>1</td>\n",
       "      <td>5145.0</td>\n",
       "      <td>NaN</td>\n",
       "    </tr>\n",
       "    <tr>\n",
       "      <th>2</th>\n",
       "      <td>-9222956879900151005</td>\n",
       "      <td>126</td>\n",
       "      <td>1</td>\n",
       "      <td>5145.0</td>\n",
       "      <td>NaN</td>\n",
       "    </tr>\n",
       "    <tr>\n",
       "      <th>3</th>\n",
       "      <td>-9222956879900151005</td>\n",
       "      <td>138</td>\n",
       "      <td>2</td>\n",
       "      <td>5145.0</td>\n",
       "      <td>NaN</td>\n",
       "    </tr>\n",
       "    <tr>\n",
       "      <th>4</th>\n",
       "      <td>-9222956879900151005</td>\n",
       "      <td>147</td>\n",
       "      <td>2</td>\n",
       "      <td>5145.0</td>\n",
       "      <td>NaN</td>\n",
       "    </tr>\n",
       "  </tbody>\n",
       "</table>\n",
       "</div>"
      ],
      "text/plain": [
       "             device_id  label  size  trainrow  testrow\n",
       "0 -9222956879900151005    117     1    5145.0      NaN\n",
       "1 -9222956879900151005    120     1    5145.0      NaN\n",
       "2 -9222956879900151005    126     1    5145.0      NaN\n",
       "3 -9222956879900151005    138     2    5145.0      NaN\n",
       "4 -9222956879900151005    147     2    5145.0      NaN"
      ]
     },
     "execution_count": 17,
     "metadata": {},
     "output_type": "execute_result"
    }
   ],
   "source": [
    "devicelabels = (deviceapps[['device_id','app']]\n",
    "                .merge(app_labels[['app','label']])\n",
    "                .groupby(['device_id','label'])['app'].agg(['size'])\n",
    "                .merge(train_w_events[['trainrow']], how='left', left_index=True, right_index=True)\n",
    "                .merge(test_w_events[['testrow']], how='left', left_index=True, right_index=True)\n",
    "                .reset_index())\n",
    "devicelabels.head()"
   ]
  },
  {
   "cell_type": "code",
   "execution_count": 18,
   "metadata": {},
   "outputs": [
    {
     "data": {
      "text/plain": [
       "(4244113, 5)"
      ]
     },
     "execution_count": 18,
     "metadata": {},
     "output_type": "execute_result"
    }
   ],
   "source": [
    "devicelabels.shape"
   ]
  },
  {
   "cell_type": "markdown",
   "metadata": {},
   "source": [
    "### FEATURES USING TIME FEATURE:"
   ]
  },
  {
   "cell_type": "code",
   "execution_count": 19,
   "metadata": {},
   "outputs": [],
   "source": [
    "#we are processing timestamp feature to get hour and day and dividing into 4 bins\n",
    "events['hour'] = events['timestamp'].map(lambda x:pd.to_datetime(x).hour)\n",
    "events['hourbin'] = [1 if ((x>=1)&(x<=6)) else 2 if ((x>=7)&(x<=12)) else 3 if ((x>=13)&(x<=18)) else 4 for x in events['hour']]"
   ]
  },
  {
   "cell_type": "code",
   "execution_count": 20,
   "metadata": {},
   "outputs": [],
   "source": [
    "events.hour=events.hour.astype(str)\n",
    "events.hourbin=events.hourbin.astype(str)"
   ]
  },
  {
   "cell_type": "code",
   "execution_count": 21,
   "metadata": {},
   "outputs": [],
   "source": [
    "hourjoin = events.groupby(\"device_id\")[\"hour\"].apply(lambda x: \" \".join('0'+str(s) for s in x))"
   ]
  },
  {
   "cell_type": "code",
   "execution_count": 22,
   "metadata": {},
   "outputs": [],
   "source": [
    "hourbinjoin=events.groupby(\"device_id\")[\"hourbin\"].apply(lambda x: \" \".join('0'+str(s) for s in x))"
   ]
  },
  {
   "cell_type": "code",
   "execution_count": 23,
   "metadata": {},
   "outputs": [],
   "source": [
    "daysjoin=events['timestamp'].dt.day_name()\n",
    "events['day']=daysjoin.map({'Sunday':0,'Monday':1,'Tuesday':2,'Wednesday':3,'Thursday':4,'Friday':5,'Saturday':6})"
   ]
  },
  {
   "cell_type": "code",
   "execution_count": 24,
   "metadata": {},
   "outputs": [],
   "source": [
    "daysjoin = events.groupby(\"device_id\")[\"day\"].apply(lambda x: \" \".join(\"0\"+str(s) for s in x))"
   ]
  },
  {
   "cell_type": "markdown",
   "metadata": {},
   "source": [
    "### FEATURES USING LATITUDE AND LONGITUDE:"
   ]
  },
  {
   "cell_type": "code",
   "execution_count": 25,
   "metadata": {},
   "outputs": [],
   "source": [
    "median_lat = events.groupby(\"device_id\")[\"latitude\"].agg('median')"
   ]
  },
  {
   "cell_type": "code",
   "execution_count": 26,
   "metadata": {},
   "outputs": [],
   "source": [
    "median_lon=events.groupby(\"device_id\")[\"longitude\"].agg('median')"
   ]
  },
  {
   "cell_type": "markdown",
   "metadata": {},
   "source": [
    "WE ARE CLUSTERING MEDIAN LATITUDES AND LONGITUDES IN TO 10 CLUSTERS"
   ]
  },
  {
   "cell_type": "code",
   "execution_count": 27,
   "metadata": {},
   "outputs": [],
   "source": [
    "com=pd.concat([median_lat, median_lon], axis=1)\n",
    "kmeans = KMeans(n_clusters=10, random_state=0).fit(com)\n",
    "clustered_geo_features=pd.Series(kmeans.labels_)\n",
    "clustered_geo_features.index=median_lon.index"
   ]
  },
  {
   "cell_type": "code",
   "execution_count": 28,
   "metadata": {},
   "outputs": [
    {
     "data": {
      "text/plain": [
       "array([0, 1, 1, ..., 1, 2, 1], dtype=int32)"
      ]
     },
     "execution_count": 28,
     "metadata": {},
     "output_type": "execute_result"
    }
   ],
   "source": [
    "kmeans.labels_"
   ]
  },
  {
   "cell_type": "code",
   "execution_count": 29,
   "metadata": {},
   "outputs": [],
   "source": [
    "import pickle\n",
    "with open('kmeans_labels','wb') as fp:\n",
    "    pickle.dump(kmeans.labels_,fp)"
   ]
  },
  {
   "cell_type": "code",
   "execution_count": 30,
   "metadata": {},
   "outputs": [
    {
     "name": "stdout",
     "output_type": "stream",
     "text": [
      "device_id\n",
      "-9222956879900151005    0\n",
      "-9222661944218806987    1\n",
      "-9222399302879214035    1\n",
      "-9221825537663503111    5\n",
      "-9221767098072603291    1\n",
      "                       ..\n",
      " 9220914901466458680    1\n",
      " 9221586026451102237    8\n",
      " 9222110179000857683    1\n",
      " 9222355582733155698    2\n",
      " 9222539910510672930    1\n",
      "Length: 60865, dtype: int32\n"
     ]
    }
   ],
   "source": [
    "clustered_geo_features.index=median_lon.index\n",
    "print(clustered_geo_features)"
   ]
  },
  {
   "cell_type": "code",
   "execution_count": 31,
   "metadata": {},
   "outputs": [],
   "source": [
    "import pickle\n",
    "with open('n_clusters','wb') as fp:\n",
    "    pickle.dump(kmeans,fp)"
   ]
  },
  {
   "cell_type": "markdown",
   "metadata": {},
   "source": [
    "### FEATURES BASED ON ACTIVE APPS AND APP COUNT:"
   ]
  },
  {
   "cell_type": "code",
   "execution_count": 32,
   "metadata": {},
   "outputs": [],
   "source": [
    "apps = app_events.groupby(\"event_id\")[\"is_active\"].apply(lambda x: \" \".join(str(s) for s in x))"
   ]
  },
  {
   "cell_type": "code",
   "execution_count": 33,
   "metadata": {},
   "outputs": [
    {
     "data": {
      "text/plain": [
       "(1488096,)"
      ]
     },
     "execution_count": 33,
     "metadata": {},
     "output_type": "execute_result"
    }
   ],
   "source": [
    "apps.shape"
   ]
  },
  {
   "cell_type": "code",
   "execution_count": 34,
   "metadata": {},
   "outputs": [],
   "source": [
    "events[\"apps_active\"] = events.index.map(apps)\n",
    "active_apps_events = events.groupby(\"device_id\")[\"apps_active\"].apply(lambda x: \" \".join(str(s) for s in x if str(s)!='nan'))"
   ]
  },
  {
   "cell_type": "markdown",
   "metadata": {},
   "source": [
    "\n",
    "# Feature Engineering:"
   ]
  },
  {
   "cell_type": "markdown",
   "metadata": {},
   "source": [
    "## MODELLING USING DEVICES WITHOUT EVENTS"
   ]
  },
  {
   "cell_type": "code",
   "execution_count": 35,
   "metadata": {},
   "outputs": [
    {
     "name": "stdout",
     "output_type": "stream",
     "text": [
      "(74645, 1667)\n",
      "(112071, 1667)\n"
     ]
    }
   ],
   "source": [
    "gender_age_train['model'] = phone_data['model']\n",
    "gender_age_test['model'] = phone_data['model']\n",
    "\n",
    "Xtr_model = csr_matrix((np.ones(gender_age_train.shape[0]), \n",
    "                       (gender_age_train.trainrow, gender_age_train.model)))\n",
    "Xte_model = csr_matrix((np.ones(gender_age_test.shape[0]), \n",
    "                       (gender_age_test.testrow, gender_age_test.model)))\n",
    "print(Xtr_model.shape)\n",
    "print(Xte_model.shape)"
   ]
  },
  {
   "cell_type": "code",
   "execution_count": 36,
   "metadata": {},
   "outputs": [],
   "source": [
    "gender_age_train['brand'] = phone_data['brand']\n",
    "gender_age_test['brand'] = phone_data['brand']\n",
    "gender_age_test['model'] = phone_data['model']\n",
    "\n",
    "Xtr_brand = csr_matrix((np.ones(gender_age_train.shape[0]), \n",
    "                       (gender_age_train.trainrow, gender_age_train.brand)))\n",
    "Xte_brand = csr_matrix((np.ones(gender_age_test.shape[0]), \n",
    "                       (gender_age_test.testrow, gender_age_test.brand)))"
   ]
  },
  {
   "cell_type": "code",
   "execution_count": 38,
   "metadata": {},
   "outputs": [
    {
     "data": {
      "text/plain": [
       "array(['F23-', 'F24-26', 'F27-28', 'F29-32', 'F33-42', 'F43+', 'M22-',\n",
       "       'M23-26', 'M27-28', 'M29-31', 'M32-38', 'M39+'], dtype=object)"
      ]
     },
     "execution_count": 38,
     "metadata": {},
     "output_type": "execute_result"
    }
   ],
   "source": [
    "targetencoder.classes_"
   ]
  },
  {
   "cell_type": "code",
   "execution_count": 40,
   "metadata": {},
   "outputs": [],
   "source": [
    "test_wo_events['model']=phone_data['model']\n",
    "test_wo_events['brand']=phone_data['brand']"
   ]
  },
  {
   "cell_type": "code",
   "execution_count": 41,
   "metadata": {},
   "outputs": [],
   "source": [
    "test_noevents_model = csr_matrix((np.ones(test_wo_events.shape[0]), \n",
    "                       (test_wo_events.testrow, test_wo_events.model)))\n",
    "\n",
    "test_noevents_brand= csr_matrix((np.ones(test_wo_events.shape[0]), \n",
    "                       (test_wo_events.testrow, test_wo_events.brand)))"
   ]
  },
  {
   "cell_type": "code",
   "execution_count": 87,
   "metadata": {},
   "outputs": [
    {
     "name": "stdout",
     "output_type": "stream",
     "text": [
      "(74645, 1798)\n",
      "(76877, 1798)\n"
     ]
    }
   ],
   "source": [
    "X_train_wo_events = hstack((Xtr_model,Xtr_brand)).tocsr()\n",
    "X_test_wo_events = hstack((test_noevents_model, test_noevents_brand)).tocsr()\n",
    "print(X_train_wo_events.shape)\n",
    "print(X_test_wo_events.shape)"
   ]
  },
  {
   "cell_type": "code",
   "execution_count": 88,
   "metadata": {},
   "outputs": [
    {
     "data": {
      "text/plain": [
       "(74645,)"
      ]
     },
     "execution_count": 88,
     "metadata": {},
     "output_type": "execute_result"
    }
   ],
   "source": [
    "targetencoder = LabelEncoder().fit(gender_age_train.group)\n",
    "Y_woE_labels = targetencoder.transform(gender_age_train.group)\n",
    "Y_woE_labels.shape"
   ]
  },
  {
   "cell_type": "code",
   "execution_count": 89,
   "metadata": {},
   "outputs": [
    {
     "data": {
      "text/plain": [
       "(74645, 1798)"
      ]
     },
     "execution_count": 89,
     "metadata": {},
     "output_type": "execute_result"
    }
   ],
   "source": [
    "X_train_wo_events.shape"
   ]
  },
  {
   "cell_type": "code",
   "execution_count": 90,
   "metadata": {},
   "outputs": [],
   "source": [
    "from scipy import sparse\n",
    "\n",
    "\n",
    "sparse.save_npz(\"Feature_files/X_train_wo_events_new\", X_train_wo_events)\n",
    "sparse.save_npz(\"Feature_files/X_test_wo_events_new\", X_test_wo_events)\n",
    "\n",
    "labels_pd = pd.DataFrame(Y_woE_labels, columns=[\"label\"])\n",
    "labels_pd.to_csv('Feature_files/labels_wo_events.csv', index=False)\n",
    "\n",
    "test_wE_deviceids_pd = pd.DataFrame(test_wo_events.index.tolist(), columns=[\"device_ids\"])\n",
    "test_wE_deviceids_pd.to_csv('Feature_files/test_woE_deviceids_pd.csv', index=False)"
   ]
  },
  {
   "cell_type": "markdown",
   "metadata": {},
   "source": [
    "# MODELLING USING DEVICES WITH EVENTS"
   ]
  },
  {
   "cell_type": "markdown",
   "metadata": {},
   "source": [
    "### ONE HOT ENCODING OF PHONE BRAND:"
   ]
  },
  {
   "cell_type": "code",
   "execution_count": 44,
   "metadata": {},
   "outputs": [
    {
     "name": "stdout",
     "output_type": "stream",
     "text": [
      "Train Brand One-hot Shape:  (23309, 131)\n",
      "Test Brand One-hot Shape:  (35194, 131)\n"
     ]
    }
   ],
   "source": [
    "train_w_events['brand']=phone_data['brand']\n",
    "test_w_events['brand']=phone_data['brand']\n",
    "\n",
    "\n",
    "#https://docs.scipy.org/doc/scipy/reference/generated/scipy.sparse.csr_matrix.html\n",
    "train_events_brand = csr_matrix((np.ones(train_w_events.shape[0]), # Number of Rows/Devices\n",
    "                       (train_w_events.trainrow, train_w_events.brand)),shape=(train_w_events.shape[0],nbrand))\n",
    "test_events_brand = csr_matrix((np.ones(test_w_events.shape[0]), # Number of Rows/Devices\n",
    "                       (test_w_events.testrow, test_w_events.brand)),shape=(test_w_events.shape[0],nbrand))\n",
    "\n",
    "print(\"Train Brand One-hot Shape: \",train_events_brand.shape)\n",
    "print(\"Test Brand One-hot Shape: \",test_events_brand.shape)"
   ]
  },
  {
   "cell_type": "markdown",
   "metadata": {},
   "source": [
    "###  ONE HOT ENCODING OF PHONE MODEL:"
   ]
  },
  {
   "cell_type": "code",
   "execution_count": 45,
   "metadata": {},
   "outputs": [
    {
     "name": "stdout",
     "output_type": "stream",
     "text": [
      "Train Brand One-hot Shape:  (23309, 1667)\n",
      "Test Brand One-hot Shape:  (35194, 1667)\n"
     ]
    }
   ],
   "source": [
    "train_w_events['model']=phone_data['model']\n",
    "test_w_events['model']=phone_data['model']\n",
    "\n",
    "train_events_model = csr_matrix((np.ones(train_w_events.shape[0]), \n",
    "                       (train_w_events.trainrow, train_w_events.model)),shape=(train_w_events.shape[0],nmodel))\n",
    "\n",
    "test_events_model = csr_matrix((np.ones(test_w_events.shape[0]), \n",
    "                       (test_w_events.testrow, test_w_events.model)),shape=(test_w_events.shape[0],nmodel))\n",
    "print(\"Train Brand One-hot Shape: \",train_events_model.shape)\n",
    "print(\"Test Brand One-hot Shape: \",test_events_model.shape)"
   ]
  },
  {
   "cell_type": "markdown",
   "metadata": {},
   "source": [
    "### ONE HOT ENCODING OF DEVICE APPS:"
   ]
  },
  {
   "cell_type": "code",
   "execution_count": 46,
   "metadata": {},
   "outputs": [
    {
     "name": "stdout",
     "output_type": "stream",
     "text": [
      "Train Event Apps One-hot Shape:  (23309, 19237)\n",
      "Test Event Apps One-hot Shape:  (35194, 19237)\n"
     ]
    }
   ],
   "source": [
    "#Since the Deviceapps has both train and test columns merged to create Train Apps One-Hot we will Drop all Nan of Train Row\n",
    "#Once we remove Nan in Train Rows we will get the Apps in Train Data and we create CSR Matrix for those rows\n",
    "d = deviceapps.dropna(subset=['trainrow'])\n",
    "train_events_app = csr_matrix((np.ones(d.shape[0]), (d.trainrow, d.app)), \n",
    "                      shape=(train_w_events.shape[0],napps))\n",
    "\n",
    "#Since the Deviceapps has both train and test columns merged to create Test Apps One-Hot we will Drop all Nan of Test Row\n",
    "#Once we remove Nan in Test Rows we will get the Apps in Test Data and we create CSR Matrix for those rows\n",
    "d = deviceapps.dropna(subset=['testrow'])\n",
    "test_events_app = csr_matrix((np.ones(d.shape[0]), (d.testrow, d.app)), \n",
    "                      shape=(test_w_events.shape[0],napps))\n",
    "print(\"Train Event Apps One-hot Shape: \",train_events_app.shape)\n",
    "print(\"Test Event Apps One-hot Shape: \",test_events_app.shape)"
   ]
  },
  {
   "cell_type": "markdown",
   "metadata": {},
   "source": [
    "### ONE HOT ENCODING OF DEVICE LABELS:"
   ]
  },
  {
   "cell_type": "code",
   "execution_count": 47,
   "metadata": {},
   "outputs": [
    {
     "name": "stdout",
     "output_type": "stream",
     "text": [
      "Train Event Labels One-hot Shape:  (23309, 492)\n",
      "Test Event Labels One-hot Shape:  (35194, 492)\n"
     ]
    }
   ],
   "source": [
    "#Since the Devicelabels has both train and test columns merged to create Train Labels One-Hot we will Drop all Nan of Train Row\n",
    "#Once we remove Nan in Train Rows we will get the Labels in Train Data and we create CSR Matrix for those rows\n",
    "d = devicelabels.dropna(subset=['trainrow'])\n",
    "train_events_labels = csr_matrix((np.ones(d.shape[0]), (d.trainrow, d.label)), \n",
    "                      shape=(train_w_events.shape[0],nlabels))\n",
    "#Since the Devicelabels has both train and test columns merged to create Test Labels One-Hot we will Drop all Nan of Test Row\n",
    "#Once we remove Nan in Test Rows we will get the Labels in Test Data and we create CSR Matrix for those rows\n",
    "d = devicelabels.dropna(subset=['testrow'])\n",
    "test_events_labels = csr_matrix((np.ones(d.shape[0]), (d.testrow, d.label)), \n",
    "                      shape=(test_w_events.shape[0],nlabels))\n",
    "print(\"Train Event Labels One-hot Shape: \",train_events_labels.shape)\n",
    "print(\"Test Event Labels One-hot Shape: \",test_events_labels.shape)"
   ]
  },
  {
   "cell_type": "markdown",
   "metadata": {},
   "source": [
    "### TFIDF  FEATURES FOR HOURS"
   ]
  },
  {
   "cell_type": "code",
   "execution_count": 48,
   "metadata": {},
   "outputs": [
    {
     "name": "stdout",
     "output_type": "stream",
     "text": [
      "Train Event Hours TF-IDF Shape:  (23309, 24)\n",
      "Test Event Hours TF-IDF Shape:  (35194, 24)\n"
     ]
    }
   ],
   "source": [
    "train_w_events[\"hourjoin\"]=train_w_events.index.map(hourjoin)\n",
    "test_w_events[\"hourjoin\"]=test_w_events.index.map(hourjoin)\n",
    "\n",
    "vectorizer=TfidfVectorizer()\n",
    "vectorizer.fit(train_w_events['hourjoin'].values)\n",
    "\n",
    "train_hourjoin_tfidf = vectorizer.transform(train_w_events['hourjoin'].values)\n",
    "test_hourjoin_tfidf = vectorizer.transform(test_w_events['hourjoin'].values)\n",
    "\n",
    "print(\"Train Event Hours TF-IDF Shape: \",train_hourjoin_tfidf.shape)\n",
    "print(\"Test Event Hours TF-IDF Shape: \",test_hourjoin_tfidf.shape)"
   ]
  },
  {
   "cell_type": "code",
   "execution_count": 49,
   "metadata": {},
   "outputs": [],
   "source": [
    "import pickle\n",
    "with open('hour_tfidf','wb') as fp:\n",
    "    pickle.dump(vectorizer,fp)"
   ]
  },
  {
   "cell_type": "markdown",
   "metadata": {},
   "source": [
    "###  BOW FOR HOURS:"
   ]
  },
  {
   "cell_type": "code",
   "execution_count": 50,
   "metadata": {},
   "outputs": [
    {
     "name": "stdout",
     "output_type": "stream",
     "text": [
      "After vectorizations\n",
      "Train Event Hours One-hot Shape:  (23309, 24)\n",
      "Test Event Hours One-hot Shape:  (35194, 24)\n"
     ]
    }
   ],
   "source": [
    "train_w_events[\"hourjoin\"]=train_w_events.index.map(hourjoin)\n",
    "test_w_events[\"hourjoin\"]=test_w_events.index.map(hourjoin)\n",
    "\n",
    "vectorizer=CountVectorizer()\n",
    "vectorizer.fit(train_w_events['hourjoin'].values)\n",
    "\n",
    "train_hour_BOW = vectorizer.transform(train_w_events['hourjoin'].values)\n",
    "test_hour_BOW = vectorizer.transform(test_w_events['hourjoin'].values)\n",
    "print(\"After vectorizations\")\n",
    "print(\"Train Event Hours One-hot Shape: \",train_hour_BOW.shape)\n",
    "print(\"Test Event Hours One-hot Shape: \",test_hour_BOW.shape)"
   ]
  },
  {
   "cell_type": "code",
   "execution_count": 51,
   "metadata": {},
   "outputs": [],
   "source": [
    "import pickle\n",
    "with open('hour_bow','wb') as fp:\n",
    "    pickle.dump(vectorizer,fp)"
   ]
  },
  {
   "cell_type": "markdown",
   "metadata": {},
   "source": [
    "### ONE HOT ENCODING OF HOUR BIN"
   ]
  },
  {
   "cell_type": "code",
   "execution_count": 52,
   "metadata": {},
   "outputs": [
    {
     "name": "stdout",
     "output_type": "stream",
     "text": [
      "Train Event Hours One-hot Shape:  (23309, 4)\n",
      "Test Event Hours One-hot Shape:  (35194, 4)\n"
     ]
    }
   ],
   "source": [
    "train_w_events[\"hourbinjoin\"]=train_w_events.index.map(hourbinjoin)\n",
    "test_w_events[\"hourbinjoin\"]=test_w_events.index.map(hourbinjoin)\n",
    "\n",
    "vectorizer=CountVectorizer(binary=True)\n",
    "vectorizer.fit(train_w_events['hourbinjoin'].values)\n",
    "\n",
    "train_hourbin_BOW = vectorizer.transform(train_w_events['hourbinjoin'].values)\n",
    "test_hourbin_BOW = vectorizer.transform(test_w_events['hourbinjoin'].values)\n",
    "\n",
    "print(\"Train Event Hours One-hot Shape: \",train_hourbin_BOW.shape)\n",
    "print(\"Test Event Hours One-hot Shape: \",test_hourbin_BOW.shape)"
   ]
  },
  {
   "cell_type": "code",
   "execution_count": 53,
   "metadata": {},
   "outputs": [],
   "source": [
    "import pickle\n",
    "with open('hour_bin_bow','wb') as fp:\n",
    "    pickle.dump(vectorizer,fp)"
   ]
  },
  {
   "cell_type": "markdown",
   "metadata": {},
   "source": [
    "### TFIDF FEATURES FOR DAY"
   ]
  },
  {
   "cell_type": "code",
   "execution_count": 54,
   "metadata": {},
   "outputs": [
    {
     "name": "stdout",
     "output_type": "stream",
     "text": [
      "After vectorizations\n",
      "Train Event days TF-IDF Shape:  (23309, 7)\n",
      "Test Event days TF-IDF Shape:  (35194, 7)\n"
     ]
    }
   ],
   "source": [
    "train_w_events[\"daysjoin\"]=train_w_events.index.map(daysjoin)\n",
    "test_w_events[\"daysjoin\"]=test_w_events.index.map(daysjoin)\n",
    "\n",
    "vectorizer=TfidfVectorizer()\n",
    "vectorizer.fit(train_w_events['daysjoin'].values)\n",
    "\n",
    "train_days_tfidf = vectorizer.transform(train_w_events['daysjoin'].values)\n",
    "test_days_tfidf = vectorizer.transform(test_w_events['daysjoin'].values)\n",
    "print(\"After vectorizations\")\n",
    "print(\"Train Event days TF-IDF Shape: \",train_days_tfidf.shape)\n",
    "print(\"Test Event days TF-IDF Shape: \",test_days_tfidf.shape)"
   ]
  },
  {
   "cell_type": "code",
   "execution_count": 55,
   "metadata": {},
   "outputs": [],
   "source": [
    "import pickle\n",
    "with open('day_tfidf','wb') as fp:\n",
    "    pickle.dump(vectorizer,fp)"
   ]
  },
  {
   "cell_type": "markdown",
   "metadata": {},
   "source": [
    "### STANDARDIZING LATITUDE AND LONGITUDE"
   ]
  },
  {
   "cell_type": "code",
   "execution_count": 56,
   "metadata": {},
   "outputs": [
    {
     "name": "stdout",
     "output_type": "stream",
     "text": [
      "Train Event Latitude Standardized Shape:  (23309, 1)\n",
      "Test Event Latitude Standardized  Shape:  (35194, 1)\n"
     ]
    }
   ],
   "source": [
    "train_w_events[\"latitude\"]=train_w_events.index.map(median_lat)\n",
    "test_w_events[\"latitude\"]=test_w_events.index.map(median_lat)\n",
    "\n",
    "scaler=StandardScaler()\n",
    "scaler.fit(train_w_events['latitude'].values.reshape(-1,1))\n",
    "\n",
    "train_event_latitude = scaler.transform(train_w_events['latitude'].values.reshape(-1,1))\n",
    "test_event_latitude = scaler.transform(test_w_events['latitude'].values.reshape(-1,1))\n",
    "\n",
    "print(\"Train Event Latitude Standardized Shape: \",train_event_latitude.shape)\n",
    "print(\"Test Event Latitude Standardized  Shape: \",test_event_latitude.shape)"
   ]
  },
  {
   "cell_type": "code",
   "execution_count": 57,
   "metadata": {},
   "outputs": [],
   "source": [
    "import pickle\n",
    "with open('lat_scaler','wb') as fp:\n",
    "    pickle.dump(scaler,fp)"
   ]
  },
  {
   "cell_type": "code",
   "execution_count": 58,
   "metadata": {},
   "outputs": [
    {
     "name": "stdout",
     "output_type": "stream",
     "text": [
      "Train Event longitude Standardized Shape:  (23309, 1)\n",
      "Test Event longitude Standardized  Shape:  (35194, 1)\n"
     ]
    }
   ],
   "source": [
    "train_w_events[\"longitude\"]=train_w_events.index.map(median_lon)\n",
    "test_w_events[\"longitude\"]=test_w_events.index.map(median_lon)\n",
    "\n",
    "scaler=StandardScaler()\n",
    "scaler.fit(train_w_events['longitude'].values.reshape(-1,1))\n",
    "\n",
    "train_event_longitude = scaler.transform(train_w_events['longitude'].values.reshape(-1,1))\n",
    "test_event_longitude = scaler.transform(test_w_events['longitude'].values.reshape(-1,1))\n",
    "\n",
    "print(\"Train Event longitude Standardized Shape: \",train_event_longitude.shape)\n",
    "print(\"Test Event longitude Standardized  Shape: \",test_event_longitude.shape)"
   ]
  },
  {
   "cell_type": "code",
   "execution_count": 59,
   "metadata": {},
   "outputs": [],
   "source": [
    "import pickle\n",
    "with open('lon_scaler','wb') as fp:\n",
    "    pickle.dump(scaler,fp)"
   ]
  },
  {
   "cell_type": "markdown",
   "metadata": {},
   "source": [
    "### ONE HOT ENCODING OF CLUSTERED FEATURES"
   ]
  },
  {
   "cell_type": "code",
   "execution_count": 60,
   "metadata": {},
   "outputs": [
    {
     "name": "stdout",
     "output_type": "stream",
     "text": [
      "Train Event locationbin Shape:  (23309, 10)\n",
      "Test Event locationbin Shape:  (35194, 10)\n"
     ]
    }
   ],
   "source": [
    "train_w_events[\"locationbin\"]=train_w_events.index.map(clustered_geo_features)\n",
    "test_w_events[\"locationbin\"]=test_w_events.index.map(clustered_geo_features)\n",
    "\n",
    "#gatrain_events.locationbin=gatrain_events.locationbin.astype(str)\n",
    "#gatest_events.locationbin=gatest_events.locationbin.astype(str)\n",
    "\n",
    "vectorizer= OneHotEncoder()\n",
    "vectorizer.fit(test_w_events['locationbin'].values.reshape(-1,1))\n",
    "\n",
    "train_cluster = vectorizer.transform(train_w_events['locationbin'].values.reshape(-1,1))\n",
    "test_cluster = vectorizer.transform(test_w_events['locationbin'].values.reshape(-1,1))\n",
    "\n",
    "print(\"Train Event locationbin Shape: \",train_cluster.shape)\n",
    "print(\"Test Event locationbin Shape: \",test_cluster.shape)"
   ]
  },
  {
   "cell_type": "code",
   "execution_count": 61,
   "metadata": {},
   "outputs": [],
   "source": [
    "import pickle\n",
    "with open('clustered_features','wb') as fp:\n",
    "    pickle.dump(vectorizer,fp)"
   ]
  },
  {
   "cell_type": "markdown",
   "metadata": {},
   "source": [
    "### TFIDF FEATURE FOR APP IS_ACTIVE"
   ]
  },
  {
   "cell_type": "code",
   "execution_count": 62,
   "metadata": {},
   "outputs": [
    {
     "name": "stdout",
     "output_type": "stream",
     "text": [
      "Train Apps Active TF-IDF Shape:  (23309, 2)\n",
      "Test Apps Active TF-IDF Shape:  (35194, 2)\n"
     ]
    }
   ],
   "source": [
    "#Mapping The Values the values to train and test dataframes\n",
    "train_w_events['apps_active']=train_w_events.index.map(active_apps_events)\n",
    "test_w_events['apps_active']=test_w_events.index.map(active_apps_events)\n",
    "\n",
    "vectorizer=TfidfVectorizer()\n",
    "vectorizer.fit(train_w_events['apps_active'].values)\n",
    "\n",
    "train_activeapps_tfidf = vectorizer.transform(train_w_events['apps_active'].values)\n",
    "test_activeapps_tfidf = vectorizer.transform(test_w_events['apps_active'].values)\n",
    "\n",
    "print(\"Train Apps Active TF-IDF Shape: \",train_activeapps_tfidf.shape)\n",
    "print(\"Test Apps Active TF-IDF Shape: \",test_activeapps_tfidf.shape)"
   ]
  },
  {
   "cell_type": "code",
   "execution_count": 63,
   "metadata": {},
   "outputs": [],
   "source": [
    "import pickle\n",
    "with open('isactive_tfidf','wb') as fp:\n",
    "    pickle.dump(vectorizer,fp)"
   ]
  },
  {
   "cell_type": "code",
   "execution_count": 64,
   "metadata": {},
   "outputs": [
    {
     "name": "stdout",
     "output_type": "stream",
     "text": [
      "(23309, 21600)\n",
      "(35194, 21600)\n"
     ]
    }
   ],
   "source": [
    "#creating final data matrix\n",
    "#train_hourjoin_tfidf,train_hour_BOW are same feature with different embedding method.\n",
    "\n",
    "X_train_w_events=hstack((train_events_brand,train_events_model,train_events_app,train_events_labels,train_hourjoin_tfidf,train_hourbin_BOW,train_days_tfidf,train_event_latitude,train_event_longitude,train_cluster,train_activeapps_tfidf),format='csr')\n",
    "\n",
    "X_test_w_events =hstack((test_events_brand,test_events_model,test_events_app,test_events_labels,test_hourjoin_tfidf,test_hourbin_BOW,test_days_tfidf,test_event_latitude,test_event_longitude,test_cluster,test_activeapps_tfidf\n",
    "),format='csr')\n",
    "\n",
    "print(X_train_w_events.shape)\n",
    "print(X_test_w_events.shape)"
   ]
  },
  {
   "cell_type": "code",
   "execution_count": 65,
   "metadata": {},
   "outputs": [],
   "source": [
    "#label encoding target variable\n",
    "targetencoder = LabelEncoder().fit(train_w_events.group)\n",
    "Y_w_events = targetencoder.transform(train_w_events.group)"
   ]
  },
  {
   "cell_type": "code",
   "execution_count": 66,
   "metadata": {},
   "outputs": [
    {
     "data": {
      "text/plain": [
       "35194"
      ]
     },
     "execution_count": 66,
     "metadata": {},
     "output_type": "execute_result"
    }
   ],
   "source": [
    "len(test_w_events.index.tolist())"
   ]
  },
  {
   "cell_type": "code",
   "execution_count": 67,
   "metadata": {},
   "outputs": [],
   "source": [
    "from scipy import sparse\n",
    "\n",
    "\n",
    "sparse.save_npz(\"Feature_files/X_train_w_events_new\", X_train_w_events)\n",
    "sparse.save_npz(\"Feature_files/X_test_w_events_new\", X_test_w_events)\n",
    "\n",
    "labels_wE_pd = pd.DataFrame(Y_w_events, columns=[\"label\"])\n",
    "labels_wE_pd.to_csv('Feature_files/labels_w_events.csv', index=False)\n",
    "\n",
    "test_wE_deviceids_pd = pd.DataFrame(test_w_events.index.tolist(), columns=[\"device_id\"])\n",
    "test_wE_deviceids_pd.to_csv('Feature_files/test_wE_deviceids_pd.csv', index=False)\n"
   ]
  },
  {
   "cell_type": "markdown",
   "metadata": {},
   "source": [
    "# Predicting:"
   ]
  },
  {
   "cell_type": "markdown",
   "metadata": {},
   "source": [
    "## Without Events:"
   ]
  },
  {
   "cell_type": "code",
   "execution_count": 91,
   "metadata": {},
   "outputs": [],
   "source": [
    "X_train_wo_events =sparse.load_npz('Feature_files/X_train_wo_events_new.npz')\n",
    "X_test_wo_events = sparse.load_npz('Feature_files/X_test_wo_events_new.npz')\n",
    "labels_pd=pd.read_csv(\"Feature_files/labels_wo_events.csv\") \n",
    "test_woE_deviceids=pd.read_csv(\"Feature_files/test_woE_deviceids_pd.csv\") \n",
    "\n"
   ]
  },
  {
   "cell_type": "code",
   "execution_count": 94,
   "metadata": {},
   "outputs": [
    {
     "data": {
      "text/plain": [
       "(74645, 1)"
      ]
     },
     "execution_count": 94,
     "metadata": {},
     "output_type": "execute_result"
    }
   ],
   "source": [
    "labels_pd.shape"
   ]
  },
  {
   "cell_type": "code",
   "execution_count": 95,
   "metadata": {},
   "outputs": [],
   "source": [
    "def model_woE_1(input_dim,output_dim=12):\n",
    "    model = Sequential()\n",
    "    model.add(Dense(500, input_shape=(input_dim,), kernel_initializer='uniform'))\n",
    "    model.add(PReLU(alpha_initializer='zero'))\n",
    "    model.add(Dropout(0.82))\n",
    "    model.add(Dense(output_dim, kernel_initializer='uniform'))\n",
    "    model.add(Activation('softmax'))\n",
    "    \n",
    "    model.compile(loss='categorical_crossentropy',\n",
    "              optimizer='adam',\n",
    "              metrics=['accuracy'])\n",
    "    return model"
   ]
  },
  {
   "cell_type": "code",
   "execution_count": 96,
   "metadata": {},
   "outputs": [
    {
     "name": "stdout",
     "output_type": "stream",
     "text": [
      "Model: \"sequential_2\"\n",
      "_________________________________________________________________\n",
      "Layer (type)                 Output Shape              Param #   \n",
      "=================================================================\n",
      "dense_5 (Dense)              (None, 500)               899500    \n",
      "_________________________________________________________________\n",
      "p_re_lu_3 (PReLU)            (None, 500)               500       \n",
      "_________________________________________________________________\n",
      "dropout_3 (Dropout)          (None, 500)               0         \n",
      "_________________________________________________________________\n",
      "dense_6 (Dense)              (None, 12)                6012      \n",
      "_________________________________________________________________\n",
      "activation_2 (Activation)    (None, 12)                0         \n",
      "=================================================================\n",
      "Total params: 906,012\n",
      "Trainable params: 906,012\n",
      "Non-trainable params: 0\n",
      "_________________________________________________________________\n"
     ]
    }
   ],
   "source": [
    "model_1=model_woE_1(X_train_wo_events.shape[1])\n",
    "model_1.summary()"
   ]
  },
  {
   "cell_type": "code",
   "execution_count": 97,
   "metadata": {},
   "outputs": [],
   "source": [
    "def model_woE_2(input_shape,output_dim=12):\n",
    "    model = Sequential()\n",
    "    model.add(Dense(256, input_dim=input_shape))\n",
    "    model.add(PReLU())\n",
    "    model.add(BatchNormalization())\n",
    "    model.add(Dropout(0.8))\n",
    "    model.add(Dense(64))\n",
    "    model.add(PReLU())\n",
    "    model.add(BatchNormalization())\n",
    "    model.add(Dropout(0.5))\n",
    "    model.add(Dense(12))\n",
    "    model.add(Activation('softmax'))\n",
    "   \n",
    "    \n",
    "    model.compile(loss='categorical_crossentropy',\n",
    "              optimizer='adam',\n",
    "              metrics=['accuracy'])\n",
    "    return model"
   ]
  },
  {
   "cell_type": "code",
   "execution_count": 98,
   "metadata": {},
   "outputs": [
    {
     "name": "stdout",
     "output_type": "stream",
     "text": [
      "Model: \"sequential_3\"\n",
      "_________________________________________________________________\n",
      "Layer (type)                 Output Shape              Param #   \n",
      "=================================================================\n",
      "dense_7 (Dense)              (None, 256)               460544    \n",
      "_________________________________________________________________\n",
      "p_re_lu_4 (PReLU)            (None, 256)               256       \n",
      "_________________________________________________________________\n",
      "batch_normalization_2 (Batch (None, 256)               1024      \n",
      "_________________________________________________________________\n",
      "dropout_4 (Dropout)          (None, 256)               0         \n",
      "_________________________________________________________________\n",
      "dense_8 (Dense)              (None, 64)                16448     \n",
      "_________________________________________________________________\n",
      "p_re_lu_5 (PReLU)            (None, 64)                64        \n",
      "_________________________________________________________________\n",
      "batch_normalization_3 (Batch (None, 64)                256       \n",
      "_________________________________________________________________\n",
      "dropout_5 (Dropout)          (None, 64)                0         \n",
      "_________________________________________________________________\n",
      "dense_9 (Dense)              (None, 12)                780       \n",
      "_________________________________________________________________\n",
      "activation_3 (Activation)    (None, 12)                0         \n",
      "=================================================================\n",
      "Total params: 479,372\n",
      "Trainable params: 478,732\n",
      "Non-trainable params: 640\n",
      "_________________________________________________________________\n"
     ]
    }
   ],
   "source": [
    "model_2=model_woE_2(X_train_wo_events.shape[1])\n",
    "model_2.summary()"
   ]
  },
  {
   "cell_type": "code",
   "execution_count": 99,
   "metadata": {},
   "outputs": [
    {
     "name": "stdout",
     "output_type": "stream",
     "text": [
      "The tensorboard extension is already loaded. To reload it, use:\n",
      "  %reload_ext tensorboard\n"
     ]
    }
   ],
   "source": [
    "%load_ext tensorboard\n",
    "tensorboard_callback = TensorBoard(log_dir='modelwoE1_graph',histogram_freq=1)\n",
    "early_stop_1=EarlyStopping(monitor='val_loss',patience=5,restore_best_weights=True,verbose=1)\n"
   ]
  },
  {
   "cell_type": "code",
   "execution_count": 100,
   "metadata": {},
   "outputs": [],
   "source": [
    "def get_network_1(seeds):\n",
    "    \"\"\"\n",
    "    Takes a list of Random Seeds, splits the data into Train and CV based on Seed, Trains Neural Network 1 on\n",
    "    these different Data, plots scalar graphs for each model in TensorBoard ,stores the models in a list and returns the models\n",
    "    \"\"\"\n",
    "    model_list=[]\n",
    "    avg_cv_loss=0\n",
    "    for i in range(len(seeds)):\n",
    "        train, cv, y_train, y_cv = train_test_split(X_train_wo_events.todense(), labels_pd['label'],stratify= labels_pd['label'],test_size=0.15,random_state=seeds[i])\n",
    "        y_train_nn=np_utils.to_categorical(y_train)\n",
    "        y_cv_nn=np_utils.to_categorical(y_cv)\n",
    "        model=model_woE_1(X_train_wo_events.shape[1])\n",
    "        #logdir = os.path.join(\"logs_301\",\"Model_1_1.\"+str(i+1))\n",
    "        #t_callback=TensorBoard(log_dir=logdir)\n",
    "        model.fit(train, y_train_nn, batch_size=350, epochs=30, verbose=1, validation_data=(cv, y_cv_nn),callbacks=[early_stop_1,tensorboard_callback])\n",
    "        model.save('model_woE/nn1'+str(i+1)+\".h5\")\n",
    "        model_cv_prediction=model.predict_proba(cv)\n",
    "        cv_loss=log_loss(y_cv, model_cv_prediction)\n",
    "        print(\"CV Log Loss of Best Weights Model in Current Run: \",cv_loss)\n",
    "        model_list.append(model)\n",
    "        avg_cv_loss+=cv_loss\n",
    "    avg_cv_loss/=len(seeds)\n",
    "    print(\"Average CV Loss of \"+str(len(seeds))+\" Runs :\",avg_cv_loss)\n",
    "    return model_list"
   ]
  },
  {
   "cell_type": "code",
   "execution_count": 101,
   "metadata": {},
   "outputs": [
    {
     "name": "stdout",
     "output_type": "stream",
     "text": [
      "Epoch 1/30\n",
      "  1/182 [..............................] - ETA: 0s - loss: 2.4856 - accuracy: 0.0829WARNING:tensorflow:From /home/akhil_dasari13/.local/lib/python3.5/site-packages/tensorflow/python/ops/summary_ops_v2.py:1277: stop (from tensorflow.python.eager.profiler) is deprecated and will be removed after 2020-07-01.\n",
      "Instructions for updating:\n",
      "use `tf.profiler.experimental.stop` instead.\n",
      "182/182 [==============================] - 2s 13ms/step - loss: 2.4238 - accuracy: 0.1385 - val_loss: 2.4030 - val_accuracy: 0.1504\n",
      "Epoch 2/30\n",
      "182/182 [==============================] - 2s 12ms/step - loss: 2.3967 - accuracy: 0.1508 - val_loss: 2.3965 - val_accuracy: 0.1529\n",
      "Epoch 3/30\n",
      "182/182 [==============================] - 2s 12ms/step - loss: 2.3879 - accuracy: 0.1591 - val_loss: 2.3929 - val_accuracy: 0.1527\n",
      "Epoch 4/30\n",
      "182/182 [==============================] - 2s 11ms/step - loss: 2.3802 - accuracy: 0.1615 - val_loss: 2.3905 - val_accuracy: 0.1524\n",
      "Epoch 5/30\n",
      "182/182 [==============================] - 2s 11ms/step - loss: 2.3741 - accuracy: 0.1647 - val_loss: 2.3899 - val_accuracy: 0.1563\n",
      "Epoch 6/30\n",
      "182/182 [==============================] - 2s 11ms/step - loss: 2.3674 - accuracy: 0.1673 - val_loss: 2.3892 - val_accuracy: 0.1576\n",
      "Epoch 7/30\n",
      "182/182 [==============================] - 2s 11ms/step - loss: 2.3623 - accuracy: 0.1688 - val_loss: 2.3894 - val_accuracy: 0.1551\n",
      "Epoch 8/30\n",
      "182/182 [==============================] - 2s 11ms/step - loss: 2.3562 - accuracy: 0.1722 - val_loss: 2.3905 - val_accuracy: 0.1557\n",
      "Epoch 9/30\n",
      "182/182 [==============================] - 2s 11ms/step - loss: 2.3514 - accuracy: 0.1735 - val_loss: 2.3915 - val_accuracy: 0.1535\n",
      "Epoch 10/30\n",
      "182/182 [==============================] - 2s 11ms/step - loss: 2.3486 - accuracy: 0.1749 - val_loss: 2.3919 - val_accuracy: 0.1543\n",
      "Epoch 11/30\n",
      "177/182 [============================>.] - ETA: 0s - loss: 2.3444 - accuracy: 0.1760Restoring model weights from the end of the best epoch.\n",
      "182/182 [==============================] - 2s 11ms/step - loss: 2.3445 - accuracy: 0.1759 - val_loss: 2.3930 - val_accuracy: 0.1541\n",
      "Epoch 00011: early stopping\n",
      "WARNING:tensorflow:From <ipython-input-100-5f48e07f79bb>:17: Sequential.predict_proba (from tensorflow.python.keras.engine.sequential) is deprecated and will be removed after 2021-01-01.\n",
      "Instructions for updating:\n",
      "Please use `model.predict()` instead.\n",
      "CV Log Loss of Best Weights Model in Current Run:  2.389243729355996\n",
      "Epoch 1/30\n",
      "  1/182 [..............................] - ETA: 0s - loss: 2.4834 - accuracy: 0.0943WARNING:tensorflow:Callbacks method `on_train_batch_end` is slow compared to the batch time (batch time: 0.0103s vs `on_train_batch_end` time: 0.0276s). Check your callbacks.\n",
      "182/182 [==============================] - 2s 12ms/step - loss: 2.4223 - accuracy: 0.1388 - val_loss: 2.4002 - val_accuracy: 0.1495\n",
      "Epoch 2/30\n",
      "182/182 [==============================] - 2s 11ms/step - loss: 2.3977 - accuracy: 0.1500 - val_loss: 2.3920 - val_accuracy: 0.1556\n",
      "Epoch 3/30\n",
      "182/182 [==============================] - 2s 11ms/step - loss: 2.3877 - accuracy: 0.1572 - val_loss: 2.3888 - val_accuracy: 0.1566\n",
      "Epoch 4/30\n",
      "182/182 [==============================] - 2s 11ms/step - loss: 2.3808 - accuracy: 0.1617 - val_loss: 2.3875 - val_accuracy: 0.1575\n",
      "Epoch 5/30\n",
      "182/182 [==============================] - 2s 11ms/step - loss: 2.3732 - accuracy: 0.1642 - val_loss: 2.3867 - val_accuracy: 0.1609\n",
      "Epoch 6/30\n",
      "182/182 [==============================] - 2s 11ms/step - loss: 2.3683 - accuracy: 0.1651 - val_loss: 2.3867 - val_accuracy: 0.1589\n",
      "Epoch 7/30\n",
      "182/182 [==============================] - 2s 11ms/step - loss: 2.3630 - accuracy: 0.1681 - val_loss: 2.3867 - val_accuracy: 0.1599\n",
      "Epoch 8/30\n",
      "182/182 [==============================] - 2s 11ms/step - loss: 2.3578 - accuracy: 0.1723 - val_loss: 2.3872 - val_accuracy: 0.1573\n",
      "Epoch 9/30\n",
      "182/182 [==============================] - 2s 11ms/step - loss: 2.3511 - accuracy: 0.1729 - val_loss: 2.3888 - val_accuracy: 0.1589\n",
      "Epoch 10/30\n",
      "182/182 [==============================] - 2s 11ms/step - loss: 2.3489 - accuracy: 0.1755 - val_loss: 2.3903 - val_accuracy: 0.1563\n",
      "Epoch 11/30\n",
      "182/182 [==============================] - ETA: 0s - loss: 2.3432 - accuracy: 0.1769Restoring model weights from the end of the best epoch.\n",
      "182/182 [==============================] - 2s 11ms/step - loss: 2.3432 - accuracy: 0.1769 - val_loss: 2.3916 - val_accuracy: 0.1579\n",
      "Epoch 00011: early stopping\n",
      "CV Log Loss of Best Weights Model in Current Run:  2.386687681676448\n",
      "Epoch 1/30\n",
      "  1/182 [..............................] - ETA: 0s - loss: 2.4851 - accuracy: 0.0857WARNING:tensorflow:Callbacks method `on_train_batch_end` is slow compared to the batch time (batch time: 0.0100s vs `on_train_batch_end` time: 0.0273s). Check your callbacks.\n",
      "182/182 [==============================] - 2s 12ms/step - loss: 2.4224 - accuracy: 0.1398 - val_loss: 2.3993 - val_accuracy: 0.1480\n",
      "Epoch 2/30\n",
      "182/182 [==============================] - 2s 11ms/step - loss: 2.3984 - accuracy: 0.1497 - val_loss: 2.3911 - val_accuracy: 0.1530\n",
      "Epoch 3/30\n",
      "182/182 [==============================] - 2s 11ms/step - loss: 2.3886 - accuracy: 0.1557 - val_loss: 2.3874 - val_accuracy: 0.1564\n",
      "Epoch 4/30\n",
      "182/182 [==============================] - 2s 11ms/step - loss: 2.3813 - accuracy: 0.1633 - val_loss: 2.3854 - val_accuracy: 0.1584\n",
      "Epoch 5/30\n",
      "182/182 [==============================] - 2s 11ms/step - loss: 2.3747 - accuracy: 0.1633 - val_loss: 2.3844 - val_accuracy: 0.1590\n",
      "Epoch 6/30\n",
      "182/182 [==============================] - 2s 11ms/step - loss: 2.3686 - accuracy: 0.1680 - val_loss: 2.3839 - val_accuracy: 0.1580\n",
      "Epoch 7/30\n",
      "182/182 [==============================] - 2s 11ms/step - loss: 2.3624 - accuracy: 0.1701 - val_loss: 2.3835 - val_accuracy: 0.1589\n",
      "Epoch 8/30\n",
      "182/182 [==============================] - 2s 11ms/step - loss: 2.3580 - accuracy: 0.1726 - val_loss: 2.3848 - val_accuracy: 0.1558\n",
      "Epoch 9/30\n",
      "182/182 [==============================] - 2s 11ms/step - loss: 2.3539 - accuracy: 0.1748 - val_loss: 2.3854 - val_accuracy: 0.1553\n",
      "Epoch 10/30\n",
      "182/182 [==============================] - 2s 11ms/step - loss: 2.3500 - accuracy: 0.1747 - val_loss: 2.3863 - val_accuracy: 0.1543\n",
      "Epoch 11/30\n",
      "182/182 [==============================] - 2s 11ms/step - loss: 2.3442 - accuracy: 0.1746 - val_loss: 2.3875 - val_accuracy: 0.1571\n",
      "Epoch 12/30\n",
      "179/182 [============================>.] - ETA: 0s - loss: 2.3421 - accuracy: 0.1774Restoring model weights from the end of the best epoch.\n",
      "182/182 [==============================] - 2s 11ms/step - loss: 2.3421 - accuracy: 0.1772 - val_loss: 2.3893 - val_accuracy: 0.1548\n",
      "Epoch 00012: early stopping\n",
      "CV Log Loss of Best Weights Model in Current Run:  2.383504171168963\n",
      "Epoch 1/30\n",
      "  1/182 [..............................] - ETA: 0s - loss: 2.4855 - accuracy: 0.0686WARNING:tensorflow:Callbacks method `on_train_batch_end` is slow compared to the batch time (batch time: 0.0118s vs `on_train_batch_end` time: 0.0287s). Check your callbacks.\n",
      "182/182 [==============================] - 3s 14ms/step - loss: 2.4227 - accuracy: 0.1372 - val_loss: 2.3996 - val_accuracy: 0.1483\n",
      "Epoch 2/30\n",
      "182/182 [==============================] - 2s 13ms/step - loss: 2.3978 - accuracy: 0.1487 - val_loss: 2.3918 - val_accuracy: 0.1571\n",
      "Epoch 3/30\n",
      "182/182 [==============================] - 2s 13ms/step - loss: 2.3886 - accuracy: 0.1579 - val_loss: 2.3887 - val_accuracy: 0.1619\n",
      "Epoch 4/30\n",
      "182/182 [==============================] - 2s 12ms/step - loss: 2.3807 - accuracy: 0.1615 - val_loss: 2.3867 - val_accuracy: 0.1641\n",
      "Epoch 5/30\n",
      "182/182 [==============================] - 2s 12ms/step - loss: 2.3735 - accuracy: 0.1646 - val_loss: 2.3863 - val_accuracy: 0.1640\n",
      "Epoch 6/30\n",
      "182/182 [==============================] - 2s 11ms/step - loss: 2.3685 - accuracy: 0.1668 - val_loss: 2.3861 - val_accuracy: 0.1583\n",
      "Epoch 7/30\n",
      "182/182 [==============================] - 2s 11ms/step - loss: 2.3634 - accuracy: 0.1688 - val_loss: 2.3864 - val_accuracy: 0.1591\n",
      "Epoch 8/30\n",
      "182/182 [==============================] - 2s 11ms/step - loss: 2.3570 - accuracy: 0.1723 - val_loss: 2.3871 - val_accuracy: 0.1590\n",
      "Epoch 9/30\n",
      "182/182 [==============================] - 2s 11ms/step - loss: 2.3521 - accuracy: 0.1730 - val_loss: 2.3874 - val_accuracy: 0.1590\n",
      "Epoch 10/30\n",
      "182/182 [==============================] - 2s 11ms/step - loss: 2.3482 - accuracy: 0.1732 - val_loss: 2.3887 - val_accuracy: 0.1598\n",
      "Epoch 11/30\n",
      "178/182 [============================>.] - ETA: 0s - loss: 2.3435 - accuracy: 0.1768Restoring model weights from the end of the best epoch.\n",
      "182/182 [==============================] - 2s 11ms/step - loss: 2.3438 - accuracy: 0.1767 - val_loss: 2.3906 - val_accuracy: 0.1575\n",
      "Epoch 00011: early stopping\n",
      "CV Log Loss of Best Weights Model in Current Run:  2.386120924489077\n",
      "Epoch 1/30\n",
      "  1/182 [..............................] - ETA: 0s - loss: 2.4859 - accuracy: 0.0771WARNING:tensorflow:Callbacks method `on_train_batch_end` is slow compared to the batch time (batch time: 0.0097s vs `on_train_batch_end` time: 0.0272s). Check your callbacks.\n",
      "182/182 [==============================] - 2s 12ms/step - loss: 2.4235 - accuracy: 0.1375 - val_loss: 2.4019 - val_accuracy: 0.1415\n",
      "Epoch 2/30\n",
      "182/182 [==============================] - 2s 11ms/step - loss: 2.3972 - accuracy: 0.1512 - val_loss: 2.3940 - val_accuracy: 0.1554\n",
      "Epoch 3/30\n",
      "182/182 [==============================] - 2s 11ms/step - loss: 2.3886 - accuracy: 0.1567 - val_loss: 2.3907 - val_accuracy: 0.1573\n",
      "Epoch 4/30\n",
      "182/182 [==============================] - 2s 11ms/step - loss: 2.3808 - accuracy: 0.1596 - val_loss: 2.3881 - val_accuracy: 0.1570\n",
      "Epoch 5/30\n",
      "182/182 [==============================] - 2s 11ms/step - loss: 2.3746 - accuracy: 0.1650 - val_loss: 2.3877 - val_accuracy: 0.1564\n",
      "Epoch 6/30\n",
      "182/182 [==============================] - 2s 11ms/step - loss: 2.3670 - accuracy: 0.1677 - val_loss: 2.3878 - val_accuracy: 0.1566\n",
      "Epoch 7/30\n",
      "182/182 [==============================] - 2s 11ms/step - loss: 2.3623 - accuracy: 0.1691 - val_loss: 2.3877 - val_accuracy: 0.1573\n",
      "Epoch 8/30\n",
      "182/182 [==============================] - 2s 11ms/step - loss: 2.3579 - accuracy: 0.1717 - val_loss: 2.3883 - val_accuracy: 0.1572\n",
      "Epoch 9/30\n",
      "182/182 [==============================] - 2s 11ms/step - loss: 2.3525 - accuracy: 0.1736 - val_loss: 2.3889 - val_accuracy: 0.1576\n",
      "Epoch 10/30\n",
      "182/182 [==============================] - 2s 11ms/step - loss: 2.3484 - accuracy: 0.1717 - val_loss: 2.3903 - val_accuracy: 0.1553\n",
      "Epoch 11/30\n",
      "182/182 [==============================] - 2s 11ms/step - loss: 2.3435 - accuracy: 0.1776 - val_loss: 2.3911 - val_accuracy: 0.1562\n",
      "Epoch 12/30\n",
      "181/182 [============================>.] - ETA: 0s - loss: 2.3401 - accuracy: 0.1774Restoring model weights from the end of the best epoch.\n",
      "182/182 [==============================] - 2s 11ms/step - loss: 2.3402 - accuracy: 0.1774 - val_loss: 2.3926 - val_accuracy: 0.1583\n",
      "Epoch 00012: early stopping\n",
      "CV Log Loss of Best Weights Model in Current Run:  2.3876645878706593\n",
      "Average CV Loss of 5 Runs : 2.3866442189122283\n"
     ]
    }
   ],
   "source": [
    "random_seeds=[9,18,42,86,103]\n",
    "model_list_woE=get_network_1(random_seeds)"
   ]
  },
  {
   "cell_type": "code",
   "execution_count": 102,
   "metadata": {},
   "outputs": [],
   "source": [
    "tensorboard_callback = TensorBoard(log_dir='modelwoE2_graph',histogram_freq=1)\n",
    "early_stop_1=EarlyStopping(monitor='val_loss',patience=5,restore_best_weights=True,verbose=1)\n"
   ]
  },
  {
   "cell_type": "code",
   "execution_count": 103,
   "metadata": {},
   "outputs": [],
   "source": [
    "def get_network_2(seeds):\n",
    "    \"\"\"\n",
    "    Takes a list of Random Seeds, splits the data into Train and CV based on Seed, Trains Neural Network 1 on\n",
    "    these different Data, plots scalar graphs for each model in TensorBoard ,stores the models in a list and returns the models\n",
    "    \"\"\"\n",
    "    model_list=[]\n",
    "    avg_cv_loss=0\n",
    "    for i in range(len(seeds)):\n",
    "        print(\"i:\",i)\n",
    "        train, cv, y_train, y_cv = train_test_split(X_train_wo_events.todense(), labels_pd['label'],stratify= labels_pd['label'],test_size=0.15,random_state=seeds[i])\n",
    "        y_train_nn=np_utils.to_categorical(y_train)\n",
    "        y_cv_nn=np_utils.to_categorical(y_cv)\n",
    "        model=model_woE_2(X_train_wo_events.shape[1])\n",
    "        #logdir = os.path.join(\"logs_301\",\"Model_1_1.\"+str(i+1))\n",
    "        #t_callback=TensorBoard(log_dir=logdir)\n",
    "        model.fit(train, y_train_nn, batch_size=350, epochs=50, verbose=1, validation_data=(cv, y_cv_nn),callbacks=[early_stop_1,tensorboard_callback])\n",
    "        model.save('model_woE/nn2'+str(i+1)+\".h5\")       \n",
    "        model_cv_prediction=model.predict_proba(cv)\n",
    "        cv_loss=log_loss(y_cv, model_cv_prediction)\n",
    "        print(\"CV Log Loss of Best Weights Model in Current Run: \",cv_loss)\n",
    "        model_list.append(model)\n",
    "        avg_cv_loss+=cv_loss\n",
    "    avg_cv_loss/=len(seeds)\n",
    "    print(\"Average CV Loss of \"+str(len(seeds))+\" Runs :\",avg_cv_loss)\n",
    "    return model_list"
   ]
  },
  {
   "cell_type": "code",
   "execution_count": 104,
   "metadata": {},
   "outputs": [
    {
     "name": "stdout",
     "output_type": "stream",
     "text": [
      "i: 0\n",
      "Epoch 1/50\n",
      "  2/182 [..............................] - ETA: 5s - loss: 3.6083 - accuracy: 0.0857WARNING:tensorflow:Callbacks method `on_train_batch_end` is slow compared to the batch time (batch time: 0.0091s vs `on_train_batch_end` time: 0.0568s). Check your callbacks.\n",
      "182/182 [==============================] - 2s 11ms/step - loss: 2.9929 - accuracy: 0.0986 - val_loss: 2.4640 - val_accuracy: 0.1315\n",
      "Epoch 2/50\n",
      "182/182 [==============================] - 2s 10ms/step - loss: 2.5305 - accuracy: 0.1213 - val_loss: 2.4330 - val_accuracy: 0.1431\n",
      "Epoch 3/50\n",
      "182/182 [==============================] - 2s 10ms/step - loss: 2.4424 - accuracy: 0.1328 - val_loss: 2.4142 - val_accuracy: 0.1431\n",
      "Epoch 4/50\n",
      "182/182 [==============================] - 2s 10ms/step - loss: 2.4188 - accuracy: 0.1412 - val_loss: 2.4044 - val_accuracy: 0.1495\n",
      "Epoch 5/50\n",
      "182/182 [==============================] - 2s 10ms/step - loss: 2.4096 - accuracy: 0.1458 - val_loss: 2.4009 - val_accuracy: 0.1500\n",
      "Epoch 6/50\n",
      "182/182 [==============================] - 2s 10ms/step - loss: 2.4041 - accuracy: 0.1481 - val_loss: 2.3990 - val_accuracy: 0.1531\n",
      "Epoch 7/50\n",
      "182/182 [==============================] - 2s 10ms/step - loss: 2.4000 - accuracy: 0.1505 - val_loss: 2.3970 - val_accuracy: 0.1534\n",
      "Epoch 8/50\n",
      "182/182 [==============================] - 2s 10ms/step - loss: 2.3977 - accuracy: 0.1501 - val_loss: 2.3949 - val_accuracy: 0.1541\n",
      "Epoch 9/50\n",
      "182/182 [==============================] - 2s 10ms/step - loss: 2.3948 - accuracy: 0.1532 - val_loss: 2.3946 - val_accuracy: 0.1541\n",
      "Epoch 10/50\n",
      "182/182 [==============================] - 2s 10ms/step - loss: 2.3922 - accuracy: 0.1544 - val_loss: 2.3931 - val_accuracy: 0.1519\n",
      "Epoch 11/50\n",
      "182/182 [==============================] - 2s 10ms/step - loss: 2.3888 - accuracy: 0.1550 - val_loss: 2.3928 - val_accuracy: 0.1495\n",
      "Epoch 12/50\n",
      "182/182 [==============================] - 2s 10ms/step - loss: 2.3876 - accuracy: 0.1554 - val_loss: 2.3925 - val_accuracy: 0.1529\n",
      "Epoch 13/50\n",
      "182/182 [==============================] - 2s 10ms/step - loss: 2.3861 - accuracy: 0.1563 - val_loss: 2.3913 - val_accuracy: 0.1548\n",
      "Epoch 14/50\n",
      "182/182 [==============================] - 2s 10ms/step - loss: 2.3832 - accuracy: 0.1574 - val_loss: 2.3905 - val_accuracy: 0.1550\n",
      "Epoch 15/50\n",
      "182/182 [==============================] - 2s 10ms/step - loss: 2.3800 - accuracy: 0.1606 - val_loss: 2.3913 - val_accuracy: 0.1520\n",
      "Epoch 16/50\n",
      "182/182 [==============================] - 2s 10ms/step - loss: 2.3786 - accuracy: 0.1616 - val_loss: 2.3911 - val_accuracy: 0.1543\n",
      "Epoch 17/50\n",
      "182/182 [==============================] - 2s 10ms/step - loss: 2.3762 - accuracy: 0.1626 - val_loss: 2.3908 - val_accuracy: 0.1541\n",
      "Epoch 18/50\n",
      "182/182 [==============================] - 2s 10ms/step - loss: 2.3742 - accuracy: 0.1632 - val_loss: 2.3910 - val_accuracy: 0.1538\n",
      "Epoch 19/50\n",
      "181/182 [============================>.] - ETA: 0s - loss: 2.3738 - accuracy: 0.1642Restoring model weights from the end of the best epoch.\n",
      "182/182 [==============================] - 2s 10ms/step - loss: 2.3738 - accuracy: 0.1642 - val_loss: 2.3911 - val_accuracy: 0.1550\n",
      "Epoch 00019: early stopping\n",
      "CV Log Loss of Best Weights Model in Current Run:  2.3904921498491984\n",
      "i: 1\n",
      "Epoch 1/50\n",
      "  2/182 [..............................] - ETA: 6s - loss: 3.6351 - accuracy: 0.0843WARNING:tensorflow:Callbacks method `on_train_batch_end` is slow compared to the batch time (batch time: 0.0101s vs `on_train_batch_end` time: 0.0661s). Check your callbacks.\n",
      "182/182 [==============================] - 2s 11ms/step - loss: 3.0085 - accuracy: 0.0965 - val_loss: 2.4642 - val_accuracy: 0.0979\n",
      "Epoch 2/50\n",
      "182/182 [==============================] - 2s 10ms/step - loss: 2.5327 - accuracy: 0.1207 - val_loss: 2.4300 - val_accuracy: 0.1273\n",
      "Epoch 3/50\n",
      "182/182 [==============================] - 2s 10ms/step - loss: 2.4434 - accuracy: 0.1316 - val_loss: 2.4112 - val_accuracy: 0.1436\n",
      "Epoch 4/50\n",
      "182/182 [==============================] - 2s 10ms/step - loss: 2.4181 - accuracy: 0.1406 - val_loss: 2.4000 - val_accuracy: 0.1495\n",
      "Epoch 5/50\n",
      "182/182 [==============================] - 2s 10ms/step - loss: 2.4092 - accuracy: 0.1461 - val_loss: 2.3974 - val_accuracy: 0.1491\n",
      "Epoch 6/50\n",
      "182/182 [==============================] - 2s 10ms/step - loss: 2.4061 - accuracy: 0.1462 - val_loss: 2.3958 - val_accuracy: 0.1517\n",
      "Epoch 7/50\n",
      "182/182 [==============================] - 2s 10ms/step - loss: 2.4018 - accuracy: 0.1483 - val_loss: 2.3947 - val_accuracy: 0.1550\n",
      "Epoch 8/50\n",
      "182/182 [==============================] - 2s 10ms/step - loss: 2.3987 - accuracy: 0.1504 - val_loss: 2.3920 - val_accuracy: 0.1555\n",
      "Epoch 9/50\n",
      "182/182 [==============================] - 2s 10ms/step - loss: 2.3951 - accuracy: 0.1528 - val_loss: 2.3909 - val_accuracy: 0.1549\n",
      "Epoch 10/50\n",
      "182/182 [==============================] - 2s 10ms/step - loss: 2.3927 - accuracy: 0.1541 - val_loss: 2.3902 - val_accuracy: 0.1544\n",
      "Epoch 11/50\n",
      "182/182 [==============================] - 2s 10ms/step - loss: 2.3916 - accuracy: 0.1542 - val_loss: 2.3896 - val_accuracy: 0.1566\n",
      "Epoch 12/50\n",
      "182/182 [==============================] - 2s 10ms/step - loss: 2.3891 - accuracy: 0.1561 - val_loss: 2.3890 - val_accuracy: 0.1554\n",
      "Epoch 13/50\n",
      "182/182 [==============================] - 2s 10ms/step - loss: 2.3853 - accuracy: 0.1586 - val_loss: 2.3884 - val_accuracy: 0.1586\n",
      "Epoch 14/50\n",
      "182/182 [==============================] - 2s 10ms/step - loss: 2.3840 - accuracy: 0.1578 - val_loss: 2.3874 - val_accuracy: 0.1592\n",
      "Epoch 15/50\n",
      "182/182 [==============================] - 2s 10ms/step - loss: 2.3807 - accuracy: 0.1595 - val_loss: 2.3873 - val_accuracy: 0.1565\n",
      "Epoch 16/50\n",
      "182/182 [==============================] - 2s 10ms/step - loss: 2.3780 - accuracy: 0.1608 - val_loss: 2.3871 - val_accuracy: 0.1590\n",
      "Epoch 17/50\n",
      "182/182 [==============================] - 2s 10ms/step - loss: 2.3761 - accuracy: 0.1617 - val_loss: 2.3876 - val_accuracy: 0.1594\n",
      "Epoch 18/50\n",
      "182/182 [==============================] - 2s 10ms/step - loss: 2.3748 - accuracy: 0.1644 - val_loss: 2.3877 - val_accuracy: 0.1600\n",
      "Epoch 19/50\n",
      "182/182 [==============================] - 2s 10ms/step - loss: 2.3738 - accuracy: 0.1642 - val_loss: 2.3879 - val_accuracy: 0.1586\n",
      "Epoch 20/50\n",
      "182/182 [==============================] - 2s 10ms/step - loss: 2.3725 - accuracy: 0.1640 - val_loss: 2.3888 - val_accuracy: 0.1564\n",
      "Epoch 21/50\n",
      "181/182 [============================>.] - ETA: 0s - loss: 2.3696 - accuracy: 0.1655Restoring model weights from the end of the best epoch.\n",
      "182/182 [==============================] - 2s 10ms/step - loss: 2.3697 - accuracy: 0.1655 - val_loss: 2.3888 - val_accuracy: 0.1554\n",
      "Epoch 00021: early stopping\n",
      "CV Log Loss of Best Weights Model in Current Run:  2.387064213203172\n",
      "i: 2\n",
      "Epoch 1/50\n",
      "  2/182 [..............................] - ETA: 7s - loss: 3.9542 - accuracy: 0.0786WARNING:tensorflow:Callbacks method `on_train_batch_end` is slow compared to the batch time (batch time: 0.0102s vs `on_train_batch_end` time: 0.0676s). Check your callbacks.\n",
      "182/182 [==============================] - 2s 11ms/step - loss: 3.0461 - accuracy: 0.0973 - val_loss: 2.4536 - val_accuracy: 0.1266\n",
      "Epoch 2/50\n",
      "182/182 [==============================] - 2s 10ms/step - loss: 2.5419 - accuracy: 0.1186 - val_loss: 2.4264 - val_accuracy: 0.1279\n",
      "Epoch 3/50\n",
      "182/182 [==============================] - 2s 10ms/step - loss: 2.4463 - accuracy: 0.1343 - val_loss: 2.4111 - val_accuracy: 0.1406\n",
      "Epoch 4/50\n",
      "182/182 [==============================] - 2s 10ms/step - loss: 2.4199 - accuracy: 0.1406 - val_loss: 2.4003 - val_accuracy: 0.1455\n",
      "Epoch 5/50\n",
      "182/182 [==============================] - 2s 10ms/step - loss: 2.4109 - accuracy: 0.1439 - val_loss: 2.3964 - val_accuracy: 0.1506\n",
      "Epoch 6/50\n",
      "182/182 [==============================] - 2s 10ms/step - loss: 2.4058 - accuracy: 0.1469 - val_loss: 2.3943 - val_accuracy: 0.1516\n",
      "Epoch 7/50\n",
      "182/182 [==============================] - 2s 10ms/step - loss: 2.4028 - accuracy: 0.1491 - val_loss: 2.3925 - val_accuracy: 0.1493\n",
      "Epoch 8/50\n",
      "182/182 [==============================] - 2s 10ms/step - loss: 2.3987 - accuracy: 0.1501 - val_loss: 2.3901 - val_accuracy: 0.1536\n",
      "Epoch 9/50\n",
      "182/182 [==============================] - 2s 10ms/step - loss: 2.3958 - accuracy: 0.1496 - val_loss: 2.3889 - val_accuracy: 0.1553\n",
      "Epoch 10/50\n",
      "182/182 [==============================] - 2s 10ms/step - loss: 2.3933 - accuracy: 0.1509 - val_loss: 2.3881 - val_accuracy: 0.1568\n",
      "Epoch 11/50\n",
      "182/182 [==============================] - 2s 10ms/step - loss: 2.3912 - accuracy: 0.1542 - val_loss: 2.3867 - val_accuracy: 0.1575\n",
      "Epoch 12/50\n",
      "182/182 [==============================] - 2s 10ms/step - loss: 2.3894 - accuracy: 0.1538 - val_loss: 2.3868 - val_accuracy: 0.1582\n",
      "Epoch 13/50\n",
      "182/182 [==============================] - 2s 10ms/step - loss: 2.3869 - accuracy: 0.1568 - val_loss: 2.3866 - val_accuracy: 0.1549\n",
      "Epoch 14/50\n",
      "182/182 [==============================] - 2s 10ms/step - loss: 2.3855 - accuracy: 0.1581 - val_loss: 2.3867 - val_accuracy: 0.1540\n",
      "Epoch 15/50\n",
      "182/182 [==============================] - 2s 10ms/step - loss: 2.3820 - accuracy: 0.1575 - val_loss: 2.3856 - val_accuracy: 0.1573\n",
      "Epoch 16/50\n",
      "182/182 [==============================] - 2s 10ms/step - loss: 2.3809 - accuracy: 0.1585 - val_loss: 2.3859 - val_accuracy: 0.1567\n",
      "Epoch 17/50\n",
      "182/182 [==============================] - 2s 10ms/step - loss: 2.3777 - accuracy: 0.1601 - val_loss: 2.3856 - val_accuracy: 0.1566\n",
      "Epoch 18/50\n",
      "182/182 [==============================] - 2s 10ms/step - loss: 2.3757 - accuracy: 0.1625 - val_loss: 2.3851 - val_accuracy: 0.1587\n",
      "Epoch 19/50\n",
      "182/182 [==============================] - 2s 10ms/step - loss: 2.3750 - accuracy: 0.1608 - val_loss: 2.3860 - val_accuracy: 0.1551\n",
      "Epoch 20/50\n",
      "182/182 [==============================] - 2s 10ms/step - loss: 2.3722 - accuracy: 0.1638 - val_loss: 2.3860 - val_accuracy: 0.1550\n",
      "Epoch 21/50\n",
      "182/182 [==============================] - 2s 10ms/step - loss: 2.3701 - accuracy: 0.1670 - val_loss: 2.3866 - val_accuracy: 0.1568\n",
      "Epoch 22/50\n",
      "182/182 [==============================] - 2s 10ms/step - loss: 2.3698 - accuracy: 0.1636 - val_loss: 2.3862 - val_accuracy: 0.1572\n",
      "Epoch 23/50\n",
      "181/182 [============================>.] - ETA: 0s - loss: 2.3668 - accuracy: 0.1691Restoring model weights from the end of the best epoch.\n",
      "182/182 [==============================] - 2s 10ms/step - loss: 2.3668 - accuracy: 0.1691 - val_loss: 2.3855 - val_accuracy: 0.1550\n",
      "Epoch 00023: early stopping\n",
      "CV Log Loss of Best Weights Model in Current Run:  2.3851038090637817\n",
      "i: 3\n",
      "Epoch 1/50\n",
      "  2/182 [..............................] - ETA: 6s - loss: 3.6360 - accuracy: 0.0743WARNING:tensorflow:Callbacks method `on_train_batch_end` is slow compared to the batch time (batch time: 0.0097s vs `on_train_batch_end` time: 0.0669s). Check your callbacks.\n",
      "182/182 [==============================] - 2s 12ms/step - loss: 2.9978 - accuracy: 0.0944 - val_loss: 2.4522 - val_accuracy: 0.1249\n",
      "Epoch 2/50\n",
      "182/182 [==============================] - 2s 10ms/step - loss: 2.5305 - accuracy: 0.1182 - val_loss: 2.4268 - val_accuracy: 0.1358\n",
      "Epoch 3/50\n",
      "182/182 [==============================] - 2s 10ms/step - loss: 2.4413 - accuracy: 0.1323 - val_loss: 2.4099 - val_accuracy: 0.1480\n",
      "Epoch 4/50\n",
      "182/182 [==============================] - 2s 10ms/step - loss: 2.4174 - accuracy: 0.1410 - val_loss: 2.4014 - val_accuracy: 0.1526\n",
      "Epoch 5/50\n",
      "182/182 [==============================] - 2s 10ms/step - loss: 2.4087 - accuracy: 0.1454 - val_loss: 2.3963 - val_accuracy: 0.1508\n",
      "Epoch 6/50\n",
      "182/182 [==============================] - 2s 10ms/step - loss: 2.4044 - accuracy: 0.1474 - val_loss: 2.3939 - val_accuracy: 0.1510\n",
      "Epoch 7/50\n",
      "182/182 [==============================] - 2s 10ms/step - loss: 2.4022 - accuracy: 0.1474 - val_loss: 2.3931 - val_accuracy: 0.1531\n",
      "Epoch 8/50\n",
      "182/182 [==============================] - 2s 10ms/step - loss: 2.3983 - accuracy: 0.1500 - val_loss: 2.3915 - val_accuracy: 0.1544\n",
      "Epoch 9/50\n",
      "182/182 [==============================] - 2s 10ms/step - loss: 2.3960 - accuracy: 0.1518 - val_loss: 2.3901 - val_accuracy: 0.1565\n",
      "Epoch 10/50\n",
      "182/182 [==============================] - 2s 10ms/step - loss: 2.3933 - accuracy: 0.1540 - val_loss: 2.3891 - val_accuracy: 0.1559\n",
      "Epoch 11/50\n",
      "182/182 [==============================] - 2s 10ms/step - loss: 2.3900 - accuracy: 0.1552 - val_loss: 2.3883 - val_accuracy: 0.1580\n",
      "Epoch 12/50\n",
      "182/182 [==============================] - 2s 10ms/step - loss: 2.3870 - accuracy: 0.1578 - val_loss: 2.3878 - val_accuracy: 0.1582\n",
      "Epoch 13/50\n",
      "182/182 [==============================] - 2s 10ms/step - loss: 2.3848 - accuracy: 0.1598 - val_loss: 2.3881 - val_accuracy: 0.1592\n",
      "Epoch 14/50\n",
      "182/182 [==============================] - 2s 10ms/step - loss: 2.3840 - accuracy: 0.1569 - val_loss: 2.3877 - val_accuracy: 0.1577\n",
      "Epoch 15/50\n",
      "182/182 [==============================] - 2s 10ms/step - loss: 2.3814 - accuracy: 0.1595 - val_loss: 2.3885 - val_accuracy: 0.1581\n",
      "Epoch 16/50\n",
      "182/182 [==============================] - 2s 10ms/step - loss: 2.3793 - accuracy: 0.1604 - val_loss: 2.3878 - val_accuracy: 0.1607\n",
      "Epoch 17/50\n",
      "182/182 [==============================] - 2s 10ms/step - loss: 2.3764 - accuracy: 0.1626 - val_loss: 2.3877 - val_accuracy: 0.1585\n",
      "Epoch 18/50\n",
      "182/182 [==============================] - 2s 10ms/step - loss: 2.3762 - accuracy: 0.1632 - val_loss: 2.3873 - val_accuracy: 0.1589\n",
      "Epoch 19/50\n",
      "182/182 [==============================] - 2s 10ms/step - loss: 2.3732 - accuracy: 0.1632 - val_loss: 2.3875 - val_accuracy: 0.1583\n",
      "Epoch 20/50\n",
      "182/182 [==============================] - 2s 10ms/step - loss: 2.3723 - accuracy: 0.1628 - val_loss: 2.3876 - val_accuracy: 0.1606\n",
      "Epoch 21/50\n",
      "182/182 [==============================] - 2s 10ms/step - loss: 2.3693 - accuracy: 0.1633 - val_loss: 2.3885 - val_accuracy: 0.1588\n",
      "Epoch 22/50\n",
      "182/182 [==============================] - 2s 10ms/step - loss: 2.3684 - accuracy: 0.1644 - val_loss: 2.3890 - val_accuracy: 0.1575\n",
      "Epoch 23/50\n",
      "181/182 [============================>.] - ETA: 0s - loss: 2.3678 - accuracy: 0.1669Restoring model weights from the end of the best epoch.\n",
      "182/182 [==============================] - 2s 10ms/step - loss: 2.3678 - accuracy: 0.1669 - val_loss: 2.3892 - val_accuracy: 0.1546\n",
      "Epoch 00023: early stopping\n",
      "CV Log Loss of Best Weights Model in Current Run:  2.387342384455193\n",
      "i: 4\n",
      "Epoch 1/50\n",
      "  2/182 [..............................] - ETA: 6s - loss: 3.6923 - accuracy: 0.0771WARNING:tensorflow:Callbacks method `on_train_batch_end` is slow compared to the batch time (batch time: 0.0094s vs `on_train_batch_end` time: 0.0664s). Check your callbacks.\n",
      "182/182 [==============================] - 2s 11ms/step - loss: 3.0261 - accuracy: 0.0962 - val_loss: 2.4669 - val_accuracy: 0.1287\n",
      "Epoch 2/50\n",
      "182/182 [==============================] - 2s 10ms/step - loss: 2.5380 - accuracy: 0.1162 - val_loss: 2.4282 - val_accuracy: 0.1378\n",
      "Epoch 3/50\n",
      "182/182 [==============================] - 2s 10ms/step - loss: 2.4419 - accuracy: 0.1321 - val_loss: 2.4111 - val_accuracy: 0.1441\n",
      "Epoch 4/50\n",
      "182/182 [==============================] - 2s 11ms/step - loss: 2.4198 - accuracy: 0.1414 - val_loss: 2.4027 - val_accuracy: 0.1479\n",
      "Epoch 5/50\n",
      "182/182 [==============================] - 2s 11ms/step - loss: 2.4082 - accuracy: 0.1461 - val_loss: 2.3987 - val_accuracy: 0.1507\n",
      "Epoch 6/50\n",
      "182/182 [==============================] - 2s 11ms/step - loss: 2.4051 - accuracy: 0.1491 - val_loss: 2.3968 - val_accuracy: 0.1542\n",
      "Epoch 7/50\n",
      "182/182 [==============================] - 2s 10ms/step - loss: 2.4028 - accuracy: 0.1485 - val_loss: 2.3951 - val_accuracy: 0.1542\n",
      "Epoch 8/50\n",
      "182/182 [==============================] - 2s 10ms/step - loss: 2.3981 - accuracy: 0.1501 - val_loss: 2.3943 - val_accuracy: 0.1529\n",
      "Epoch 9/50\n",
      "182/182 [==============================] - 2s 10ms/step - loss: 2.3956 - accuracy: 0.1508 - val_loss: 2.3930 - val_accuracy: 0.1543\n",
      "Epoch 10/50\n",
      "182/182 [==============================] - 2s 10ms/step - loss: 2.3922 - accuracy: 0.1533 - val_loss: 2.3913 - val_accuracy: 0.1534\n",
      "Epoch 11/50\n",
      "182/182 [==============================] - 2s 10ms/step - loss: 2.3896 - accuracy: 0.1546 - val_loss: 2.3913 - val_accuracy: 0.1538\n",
      "Epoch 12/50\n",
      "182/182 [==============================] - 2s 10ms/step - loss: 2.3871 - accuracy: 0.1555 - val_loss: 2.3899 - val_accuracy: 0.1554\n",
      "Epoch 13/50\n"
     ]
    },
    {
     "name": "stdout",
     "output_type": "stream",
     "text": [
      "182/182 [==============================] - 2s 10ms/step - loss: 2.3856 - accuracy: 0.1567 - val_loss: 2.3901 - val_accuracy: 0.1552\n",
      "Epoch 14/50\n",
      "182/182 [==============================] - 2s 10ms/step - loss: 2.3829 - accuracy: 0.1581 - val_loss: 2.3900 - val_accuracy: 0.1544\n",
      "Epoch 15/50\n",
      "182/182 [==============================] - 2s 10ms/step - loss: 2.3817 - accuracy: 0.1588 - val_loss: 2.3894 - val_accuracy: 0.1552\n",
      "Epoch 16/50\n",
      "182/182 [==============================] - 2s 10ms/step - loss: 2.3790 - accuracy: 0.1593 - val_loss: 2.3888 - val_accuracy: 0.1568\n",
      "Epoch 17/50\n",
      "182/182 [==============================] - 2s 10ms/step - loss: 2.3785 - accuracy: 0.1611 - val_loss: 2.3896 - val_accuracy: 0.1541\n",
      "Epoch 18/50\n",
      "182/182 [==============================] - 2s 10ms/step - loss: 2.3769 - accuracy: 0.1617 - val_loss: 2.3897 - val_accuracy: 0.1524\n",
      "Epoch 19/50\n",
      "182/182 [==============================] - 2s 10ms/step - loss: 2.3729 - accuracy: 0.1640 - val_loss: 2.3891 - val_accuracy: 0.1560\n",
      "Epoch 20/50\n",
      "182/182 [==============================] - 2s 10ms/step - loss: 2.3726 - accuracy: 0.1645 - val_loss: 2.3889 - val_accuracy: 0.1550\n",
      "Epoch 21/50\n",
      "181/182 [============================>.] - ETA: 0s - loss: 2.3716 - accuracy: 0.1624Restoring model weights from the end of the best epoch.\n",
      "182/182 [==============================] - 2s 10ms/step - loss: 2.3715 - accuracy: 0.1624 - val_loss: 2.3900 - val_accuracy: 0.1539\n",
      "Epoch 00021: early stopping\n",
      "CV Log Loss of Best Weights Model in Current Run:  2.388749950755289\n",
      "Average CV Loss of 5 Runs : 2.387750501465327\n"
     ]
    }
   ],
   "source": [
    "import random\n",
    "#Generate 5 random numbers between 10 and 30\n",
    "#random_seeds = random.sample(range(21, 300), 20)\n",
    "#print(\"random_seeds:\",random_seeds)\n",
    "random_seeds=[9,18,42,86,103]\n",
    "\n",
    "model_list_woE_2=get_network_2(random_seeds)"
   ]
  },
  {
   "cell_type": "code",
   "execution_count": 105,
   "metadata": {},
   "outputs": [],
   "source": [
    "X_train_wo, X_cv_wo, y_train_wo, y_cv_wo = train_test_split(X_train_wo_events.todense(), labels_pd['label'],stratify= labels_pd['label'],test_size=0.15,random_state=102)\n",
    "y_train=np_utils.to_categorical(y_train_wo)\n",
    "y_cv=np_utils.to_categorical(y_cv_wo)"
   ]
  },
  {
   "cell_type": "code",
   "execution_count": 106,
   "metadata": {},
   "outputs": [],
   "source": [
    "X_train_wo_pred_1=np.zeros((X_train_wo.shape[0],12))\n",
    "X_train_wo_pred_2=np.zeros((X_train_wo.shape[0],12))"
   ]
  },
  {
   "cell_type": "code",
   "execution_count": 107,
   "metadata": {},
   "outputs": [],
   "source": [
    "#neural network 1\n",
    "for i in range(len(model_list_woE)):\n",
    "    train_pred_1=model_list_woE[i].predict_proba(X_train_wo)\n",
    "    X_train_wo_pred_2+=train_pred_1\n",
    "X_train_wo_pred_2/=len(model_list_woE)\n"
   ]
  },
  {
   "cell_type": "code",
   "execution_count": 108,
   "metadata": {},
   "outputs": [],
   "source": [
    "#neural network 2\n",
    "for i in range(len(model_list_woE_2)):\n",
    "    train_pred_2=model_list_woE_2[i].predict_proba(X_train_wo)\n",
    "    X_train_wo_pred_2+=train_pred_2\n",
    "X_train_wo_pred_2/=len(model_list_woE_2)"
   ]
  },
  {
   "cell_type": "code",
   "execution_count": 109,
   "metadata": {},
   "outputs": [],
   "source": [
    "woE_1=0.5\n",
    "woE_2=0.5\n"
   ]
  },
  {
   "cell_type": "code",
   "execution_count": 110,
   "metadata": {},
   "outputs": [
    {
     "name": "stdout",
     "output_type": "stream",
     "text": [
      "Train Average Log-Loss:  2.354098609414371\n"
     ]
    }
   ],
   "source": [
    "final_train_woE_prediction=(woE_1*X_train_wo_pred_1)+(woE_2*X_train_wo_pred_2)\n",
    "print(\"Train Average Log-Loss: \",log_loss(y_train_wo, final_train_woE_prediction))\n"
   ]
  },
  {
   "cell_type": "code",
   "execution_count": 111,
   "metadata": {},
   "outputs": [],
   "source": [
    "X_cv_wo_pred_1=np.zeros((X_cv_wo.shape[0],12))\n",
    "X_cv_wo_pred_2=np.zeros((X_cv_wo.shape[0],12))\n",
    "\n",
    "\n",
    "for i in range(len(model_list_woE)):\n",
    "    cv_pred_2=model_list_woE[i].predict_proba(X_cv_wo)\n",
    "    X_cv_wo_pred_1+=cv_pred_2\n",
    "X_cv_wo_pred_1/=len(model_list_woE)\n",
    "\n",
    "for i in range(len(model_list_woE_2)):\n",
    "    cv_pred_2=model_list_woE_2[i].predict_proba(X_cv_wo)\n",
    "    X_cv_wo_pred_2+=cv_pred_2\n",
    "X_cv_wo_pred_2/=len(model_list_woE_2)\n",
    "\n"
   ]
  },
  {
   "cell_type": "code",
   "execution_count": 112,
   "metadata": {},
   "outputs": [
    {
     "name": "stdout",
     "output_type": "stream",
     "text": [
      "CV Average Log-Loss:  2.350750188553559\n"
     ]
    }
   ],
   "source": [
    "final_cv_woE_prediction=(woE_1*X_cv_wo_pred_1)+(woE_2*X_cv_wo_pred_2)\n",
    "\n",
    "\n",
    "print(\"CV Average Log-Loss: \",log_loss(y_cv_wo, final_cv_woE_prediction))"
   ]
  },
  {
   "cell_type": "code",
   "execution_count": 113,
   "metadata": {},
   "outputs": [],
   "source": [
    "X_test_wo_pred_1=np.zeros((X_test_wo_events.shape[0],12))\n",
    "X_test_wo_pred_2=np.zeros((X_test_wo_events.shape[0],12))\n",
    "\n",
    "\n",
    "\n",
    "for i in range(len(model_list_woE)):\n",
    "    test_pred_2=model_list_woE[i].predict_proba(X_test_wo_events)\n",
    "    X_test_wo_pred_1+=test_pred_2\n",
    "X_test_wo_pred_1/=len(model_list_woE)\n",
    "\n",
    "\n",
    "\n",
    "for i in range(len(model_list_woE_2)):\n",
    "    test_pred_2=model_list_woE_2[i].predict_proba(X_test_wo_events)\n",
    "    X_test_wo_pred_2+=test_pred_2\n",
    "X_test_wo_pred_2/=len(model_list_woE_2)\n"
   ]
  },
  {
   "cell_type": "code",
   "execution_count": 114,
   "metadata": {},
   "outputs": [],
   "source": [
    "final_test_woE_prediction=(woE_1*X_test_wo_pred_1)+(woE_2*X_test_wo_pred_2)\n",
    "np.save('no_events_avg_test_prediction',final_test_woE_prediction)\n"
   ]
  },
  {
   "cell_type": "code",
   "execution_count": 115,
   "metadata": {},
   "outputs": [
    {
     "data": {
      "text/html": [
       "<div>\n",
       "<style scoped>\n",
       "    .dataframe tbody tr th:only-of-type {\n",
       "        vertical-align: middle;\n",
       "    }\n",
       "\n",
       "    .dataframe tbody tr th {\n",
       "        vertical-align: top;\n",
       "    }\n",
       "\n",
       "    .dataframe thead th {\n",
       "        text-align: right;\n",
       "    }\n",
       "</style>\n",
       "<table border=\"1\" class=\"dataframe\">\n",
       "  <thead>\n",
       "    <tr style=\"text-align: right;\">\n",
       "      <th></th>\n",
       "      <th>F23-</th>\n",
       "      <th>F24-26</th>\n",
       "      <th>F27-28</th>\n",
       "      <th>F29-32</th>\n",
       "      <th>F33-42</th>\n",
       "      <th>F43+</th>\n",
       "      <th>M22-</th>\n",
       "      <th>M23-26</th>\n",
       "      <th>M27-28</th>\n",
       "      <th>M29-31</th>\n",
       "      <th>M32-38</th>\n",
       "      <th>M39+</th>\n",
       "    </tr>\n",
       "    <tr>\n",
       "      <th>device_id</th>\n",
       "      <th></th>\n",
       "      <th></th>\n",
       "      <th></th>\n",
       "      <th></th>\n",
       "      <th></th>\n",
       "      <th></th>\n",
       "      <th></th>\n",
       "      <th></th>\n",
       "      <th></th>\n",
       "      <th></th>\n",
       "      <th></th>\n",
       "      <th></th>\n",
       "    </tr>\n",
       "  </thead>\n",
       "  <tbody>\n",
       "    <tr>\n",
       "      <th>-5893464122623104785</th>\n",
       "      <td>0.038483</td>\n",
       "      <td>0.057679</td>\n",
       "      <td>0.040761</td>\n",
       "      <td>0.065603</td>\n",
       "      <td>0.059039</td>\n",
       "      <td>0.044265</td>\n",
       "      <td>0.078540</td>\n",
       "      <td>0.168107</td>\n",
       "      <td>0.097003</td>\n",
       "      <td>0.109403</td>\n",
       "      <td>0.143239</td>\n",
       "      <td>0.097878</td>\n",
       "    </tr>\n",
       "    <tr>\n",
       "      <th>-7560708697029818408</th>\n",
       "      <td>0.038483</td>\n",
       "      <td>0.057679</td>\n",
       "      <td>0.040761</td>\n",
       "      <td>0.065603</td>\n",
       "      <td>0.059039</td>\n",
       "      <td>0.044265</td>\n",
       "      <td>0.078540</td>\n",
       "      <td>0.168107</td>\n",
       "      <td>0.097003</td>\n",
       "      <td>0.109403</td>\n",
       "      <td>0.143239</td>\n",
       "      <td>0.097878</td>\n",
       "    </tr>\n",
       "    <tr>\n",
       "      <th>289797889702373958</th>\n",
       "      <td>0.056681</td>\n",
       "      <td>0.057653</td>\n",
       "      <td>0.046126</td>\n",
       "      <td>0.068457</td>\n",
       "      <td>0.085331</td>\n",
       "      <td>0.065602</td>\n",
       "      <td>0.088517</td>\n",
       "      <td>0.113881</td>\n",
       "      <td>0.071811</td>\n",
       "      <td>0.098759</td>\n",
       "      <td>0.129477</td>\n",
       "      <td>0.117707</td>\n",
       "    </tr>\n",
       "    <tr>\n",
       "      <th>-402874006399730161</th>\n",
       "      <td>0.056681</td>\n",
       "      <td>0.057653</td>\n",
       "      <td>0.046126</td>\n",
       "      <td>0.068457</td>\n",
       "      <td>0.085331</td>\n",
       "      <td>0.065602</td>\n",
       "      <td>0.088517</td>\n",
       "      <td>0.113881</td>\n",
       "      <td>0.071811</td>\n",
       "      <td>0.098759</td>\n",
       "      <td>0.129477</td>\n",
       "      <td>0.117707</td>\n",
       "    </tr>\n",
       "    <tr>\n",
       "      <th>5751283639860028129</th>\n",
       "      <td>0.051638</td>\n",
       "      <td>0.063808</td>\n",
       "      <td>0.045572</td>\n",
       "      <td>0.070765</td>\n",
       "      <td>0.084057</td>\n",
       "      <td>0.065801</td>\n",
       "      <td>0.074342</td>\n",
       "      <td>0.125472</td>\n",
       "      <td>0.075560</td>\n",
       "      <td>0.098647</td>\n",
       "      <td>0.139645</td>\n",
       "      <td>0.104695</td>\n",
       "    </tr>\n",
       "  </tbody>\n",
       "</table>\n",
       "</div>"
      ],
      "text/plain": [
       "                          F23-    F24-26    F27-28    F29-32    F33-42  \\\n",
       "device_id                                                                \n",
       "-5893464122623104785  0.038483  0.057679  0.040761  0.065603  0.059039   \n",
       "-7560708697029818408  0.038483  0.057679  0.040761  0.065603  0.059039   \n",
       " 289797889702373958   0.056681  0.057653  0.046126  0.068457  0.085331   \n",
       "-402874006399730161   0.056681  0.057653  0.046126  0.068457  0.085331   \n",
       " 5751283639860028129  0.051638  0.063808  0.045572  0.070765  0.084057   \n",
       "\n",
       "                          F43+      M22-    M23-26    M27-28    M29-31  \\\n",
       "device_id                                                                \n",
       "-5893464122623104785  0.044265  0.078540  0.168107  0.097003  0.109403   \n",
       "-7560708697029818408  0.044265  0.078540  0.168107  0.097003  0.109403   \n",
       " 289797889702373958   0.065602  0.088517  0.113881  0.071811  0.098759   \n",
       "-402874006399730161   0.065602  0.088517  0.113881  0.071811  0.098759   \n",
       " 5751283639860028129  0.065801  0.074342  0.125472  0.075560  0.098647   \n",
       "\n",
       "                        M32-38      M39+  \n",
       "device_id                                 \n",
       "-5893464122623104785  0.143239  0.097878  \n",
       "-7560708697029818408  0.143239  0.097878  \n",
       " 289797889702373958   0.129477  0.117707  \n",
       "-402874006399730161   0.129477  0.117707  \n",
       " 5751283639860028129  0.139645  0.104695  "
      ]
     },
     "execution_count": 115,
     "metadata": {},
     "output_type": "execute_result"
    }
   ],
   "source": [
    "pred_woE = pd.DataFrame(final_test_woE_prediction,index=test_wo_events.index, columns=targetencoder.classes_)\n",
    "pred_woE.head()"
   ]
  },
  {
   "cell_type": "code",
   "execution_count": 116,
   "metadata": {},
   "outputs": [],
   "source": [
    "pred_woE.to_csv('pred_woE.csv',index=True)\n"
   ]
  },
  {
   "cell_type": "code",
   "execution_count": 117,
   "metadata": {},
   "outputs": [
    {
     "data": {
      "text/plain": [
       "76877"
      ]
     },
     "execution_count": 117,
     "metadata": {},
     "output_type": "execute_result"
    }
   ],
   "source": [
    "len(final_test_woE_prediction)"
   ]
  },
  {
   "cell_type": "markdown",
   "metadata": {},
   "source": [
    "## With Events:"
   ]
  },
  {
   "cell_type": "code",
   "execution_count": 118,
   "metadata": {},
   "outputs": [],
   "source": [
    "\n",
    "X_train_w_events=sparse.load_npz('Feature_files/X_train_w_events_new.npz')\n",
    "X_test_w_events= sparse.load_npz('Feature_files/X_test_w_events_new.npz')\n",
    "labels_wE_pd=pd.read_csv(\"Feature_files/labels_w_events.csv\") \n",
    "test_wE_deviceids=pd.read_csv(\"Feature_files/test_wE_deviceids_pd.csv\") \n"
   ]
  },
  {
   "cell_type": "code",
   "execution_count": 122,
   "metadata": {},
   "outputs": [
    {
     "data": {
      "text/plain": [
       "(35194, 1)"
      ]
     },
     "execution_count": 122,
     "metadata": {},
     "output_type": "execute_result"
    }
   ],
   "source": [
    "test_wE_deviceids.shape"
   ]
  },
  {
   "cell_type": "code",
   "execution_count": 123,
   "metadata": {},
   "outputs": [],
   "source": [
    "train, cv, y_train, y_cv = train_test_split(X_train_w_events.todense(), labels_wE_pd['label'],stratify= labels_wE_pd['label'],test_size=0.15,random_state=9)\n",
    "y_train_nn=np_utils.to_categorical(y_train)\n",
    "y_cv_nn=np_utils.to_categorical(y_cv)"
   ]
  },
  {
   "cell_type": "code",
   "execution_count": 124,
   "metadata": {},
   "outputs": [],
   "source": [
    "def model_wE_1(input_dim,output_dim):\n",
    "    model = Sequential()\n",
    "    model.add(Dropout(0.15, input_shape=(input_dim,)))\n",
    "    model.add(Dense(256, kernel_initializer='uniform'))\n",
    "    model.add(PReLU(alpha_initializer='zero', weights=None))\n",
    "    model.add(BatchNormalization())\n",
    "    model.add(Dropout(0.35))\n",
    "    model.add(Dense(128, kernel_initializer='uniform'))\n",
    "    model.add(PReLU(alpha_initializer='zero', weights=None))\n",
    "    model.add(BatchNormalization())\n",
    "    model.add(Dropout(0.35))\n",
    "\n",
    "    model.add(Dense(128, kernel_initializer='uniform'))\n",
    "    model.add(PReLU(alpha_initializer='zero', weights=None))\n",
    "    model.add(BatchNormalization())\n",
    "    model.add(Dropout(0.40))\n",
    "    model.add(Dense(output_dim, kernel_initializer='uniform'))\n",
    "    model.add(Activation('softmax'))\n",
    "\n",
    "    opt = Adagrad(lr=0.008, epsilon=1e-08)\n",
    "    model.compile(loss='categorical_crossentropy',\n",
    "                  optimizer='adam',\n",
    "                  metrics=['accuracy'])\n",
    "    return model\n"
   ]
  },
  {
   "cell_type": "code",
   "execution_count": 125,
   "metadata": {},
   "outputs": [
    {
     "name": "stdout",
     "output_type": "stream",
     "text": [
      "Model: \"sequential_14\"\n",
      "_________________________________________________________________\n",
      "Layer (type)                 Output Shape              Param #   \n",
      "=================================================================\n",
      "dropout_21 (Dropout)         (None, 21600)             0         \n",
      "_________________________________________________________________\n",
      "dense_35 (Dense)             (None, 256)               5529856   \n",
      "_________________________________________________________________\n",
      "p_re_lu_21 (PReLU)           (None, 256)               256       \n",
      "_________________________________________________________________\n",
      "batch_normalization_14 (Batc (None, 256)               1024      \n",
      "_________________________________________________________________\n",
      "dropout_22 (Dropout)         (None, 256)               0         \n",
      "_________________________________________________________________\n",
      "dense_36 (Dense)             (None, 128)               32896     \n",
      "_________________________________________________________________\n",
      "p_re_lu_22 (PReLU)           (None, 128)               128       \n",
      "_________________________________________________________________\n",
      "batch_normalization_15 (Batc (None, 128)               512       \n",
      "_________________________________________________________________\n",
      "dropout_23 (Dropout)         (None, 128)               0         \n",
      "_________________________________________________________________\n",
      "dense_37 (Dense)             (None, 128)               16512     \n",
      "_________________________________________________________________\n",
      "p_re_lu_23 (PReLU)           (None, 128)               128       \n",
      "_________________________________________________________________\n",
      "batch_normalization_16 (Batc (None, 128)               512       \n",
      "_________________________________________________________________\n",
      "dropout_24 (Dropout)         (None, 128)               0         \n",
      "_________________________________________________________________\n",
      "dense_38 (Dense)             (None, 12)                1548      \n",
      "_________________________________________________________________\n",
      "activation_14 (Activation)   (None, 12)                0         \n",
      "=================================================================\n",
      "Total params: 5,583,372\n",
      "Trainable params: 5,582,348\n",
      "Non-trainable params: 1,024\n",
      "_________________________________________________________________\n"
     ]
    }
   ],
   "source": [
    "model_we_1=model_wE_1(X_train_w_events.shape[1],12)\n",
    "model_we_1.summary()"
   ]
  },
  {
   "cell_type": "code",
   "execution_count": 126,
   "metadata": {},
   "outputs": [],
   "source": [
    "def model_wE_2(input_dim,output_dim):\n",
    "    model = Sequential()\n",
    "    model.add(Dropout(0.4, input_shape=(input_dim,)))\n",
    "    model.add(Dense(75))\n",
    "    model.add(PReLU())\n",
    "    model.add(Dropout(0.30))\n",
    "    model.add(Dense(50, kernel_initializer='normal', activation='tanh'))\n",
    "    model.add(PReLU())\n",
    "    model.add(Dropout(0.20))\n",
    "    model.add(Dense(output_dim, kernel_initializer='normal', activation='softmax'))\n",
    "\n",
    "    opt = Adagrad(lr=0.008, epsilon=1e-08)\n",
    "    model.compile(loss='categorical_crossentropy',\n",
    "                  optimizer='adam',\n",
    "                  metrics=['accuracy'])\n",
    "    return model\n"
   ]
  },
  {
   "cell_type": "code",
   "execution_count": 127,
   "metadata": {},
   "outputs": [
    {
     "name": "stdout",
     "output_type": "stream",
     "text": [
      "Model: \"sequential_15\"\n",
      "_________________________________________________________________\n",
      "Layer (type)                 Output Shape              Param #   \n",
      "=================================================================\n",
      "dropout_25 (Dropout)         (None, 21600)             0         \n",
      "_________________________________________________________________\n",
      "dense_39 (Dense)             (None, 75)                1620075   \n",
      "_________________________________________________________________\n",
      "p_re_lu_24 (PReLU)           (None, 75)                75        \n",
      "_________________________________________________________________\n",
      "dropout_26 (Dropout)         (None, 75)                0         \n",
      "_________________________________________________________________\n",
      "dense_40 (Dense)             (None, 50)                3800      \n",
      "_________________________________________________________________\n",
      "p_re_lu_25 (PReLU)           (None, 50)                50        \n",
      "_________________________________________________________________\n",
      "dropout_27 (Dropout)         (None, 50)                0         \n",
      "_________________________________________________________________\n",
      "dense_41 (Dense)             (None, 12)                612       \n",
      "=================================================================\n",
      "Total params: 1,624,612\n",
      "Trainable params: 1,624,612\n",
      "Non-trainable params: 0\n",
      "_________________________________________________________________\n"
     ]
    }
   ],
   "source": [
    "model_we_2=model_wE_2(X_train_w_events.shape[1],12)\n",
    "model_we_2.summary()"
   ]
  },
  {
   "cell_type": "code",
   "execution_count": 128,
   "metadata": {},
   "outputs": [],
   "source": [
    "tensorboard_callback = TensorBoard(log_dir='modelwE1_graph',histogram_freq=1)\n",
    "early_stop_1=EarlyStopping(monitor='val_loss',patience=5,restore_best_weights=True,verbose=1)\n"
   ]
  },
  {
   "cell_type": "code",
   "execution_count": 129,
   "metadata": {},
   "outputs": [],
   "source": [
    "import keras\n",
    "\n",
    "def get_network_2_1_models(n_models):\n",
    "    \"\"\"\n",
    "    Takes number of models,  Trains Neural Network 1 for n_model times,\n",
    "    stores the models in a list and returns the models\n",
    "    \"\"\"\n",
    "    model_list_2=[]\n",
    "    avg_cv_loss=0\n",
    "    for i in range(n_models):\n",
    "        print(\"i:\",i)\n",
    "       # train, cv, y_train, y_cv = train_test_split(X_train_w_events.todense(), labels_wE_pd['label'],stratify= labels_wE_pd['label'],test_size=0.15,random_state=n_models[i])\n",
    "       # y_train_nn=np_utils.to_categorical(y_train)\n",
    "       # y_cv_nn=np_utils.to_categorical(y_cv)\n",
    "        model=model_wE_1(X_train_w_events.shape[1],12)\n",
    "        #logdir = os.path.join(\"logs_301\",\"Model_2_1.\"+str(i+1))\n",
    "        #t_callback=TensorBoard(log_dir=logdir)\n",
    "        model.fit(train, y_train_nn, batch_size=64, epochs=80, verbose=1, validation_data=(cv, y_cv_nn),callbacks=[early_stop_1,tensorboard_callback])\n",
    "        model.save('model_wE/nn1'+str(i+1)+\".h5\")\n",
    "        model_cv_prediction=model.predict_proba(cv)\n",
    "        cv_loss=log_loss(y_cv, model_cv_prediction)\n",
    "        print(\"CV Log Loss of Best Weights Model in Current Run: \",cv_loss)\n",
    "        model_list_2.append(model)\n",
    "        avg_cv_loss+=cv_loss\n",
    "    avg_cv_loss/=n_models\n",
    "    print(\"Average CV Loss of \"+str(n_models)+\" Runs :\",avg_cv_loss)\n",
    "    return model_list_2"
   ]
  },
  {
   "cell_type": "code",
   "execution_count": 130,
   "metadata": {},
   "outputs": [],
   "source": [
    "\n",
    "def get_network_2_2_models(n_models):\n",
    "    \"\"\"\n",
    "    Takes number of models,  Trains Neural Network 1 for n_model times,\n",
    "    stores the models in a list and returns the models\n",
    "    \"\"\"\n",
    "    model_list_2=[]\n",
    "    avg_cv_loss=0\n",
    "    for i in range(n_models):\n",
    "        print(\"i:\",i)\n",
    "        #train, cv, y_train, y_cv = train_test_split(X_train_w_events.todense(), labels_wE_pd['label'],stratify= labels_wE_pd['label'],test_size=0.15,random_state=i)\n",
    "        #y_train_nn=np_utils.to_categorical(y_train)\n",
    "        #y_cv_nn=np_utils.to_categorical(y_cv)\n",
    "        model=model_wE_2(X_train_w_events.shape[1],12)\n",
    "        #logdir = os.path.join(\"logs_301\",\"Model_2_1.\"+str(i+1))\n",
    "        #t_callback=TensorBoard(log_dir=logdir)\n",
    "        model.fit(train, y_train_nn, batch_size=64, epochs=80, verbose=1, validation_data=(cv, y_cv_nn),callbacks=[early_stop_1,tensorboard_callback])\n",
    "        model.save('model_wE/nn2'+str(i+1)+\".h5\")\n",
    "        model_cv_prediction=model.predict_proba(cv)\n",
    "        cv_loss=log_loss(y_cv, model_cv_prediction)\n",
    "        print(\"CV Log Loss of Best Weights Model in Current Run: \",cv_loss)\n",
    "        model_list_2.append(model)\n",
    "        avg_cv_loss+=cv_loss\n",
    "    avg_cv_loss/=n_models\n",
    "    print(\"Average CV Loss of \"+str(n_models)+\" Runs :\",avg_cv_loss)\n",
    "    return model_list_2"
   ]
  },
  {
   "cell_type": "code",
   "execution_count": 131,
   "metadata": {
    "scrolled": true
   },
   "outputs": [
    {
     "name": "stdout",
     "output_type": "stream",
     "text": [
      "i: 0\n",
      "Epoch 1/80\n",
      "  2/310 [..............................] - ETA: 28s - loss: 2.5766 - accuracy: 0.1172WARNING:tensorflow:Callbacks method `on_train_batch_end` is slow compared to the batch time (batch time: 0.0202s vs `on_train_batch_end` time: 0.1660s). Check your callbacks.\n",
      "310/310 [==============================] - 7s 23ms/step - loss: 2.2965 - accuracy: 0.1932 - val_loss: 2.0654 - val_accuracy: 0.2817\n",
      "Epoch 2/80\n",
      "310/310 [==============================] - 7s 21ms/step - loss: 2.0388 - accuracy: 0.2851 - val_loss: 1.9892 - val_accuracy: 0.2960\n",
      "Epoch 3/80\n",
      "310/310 [==============================] - 7s 21ms/step - loss: 1.9397 - accuracy: 0.3193 - val_loss: 1.9590 - val_accuracy: 0.3111\n",
      "Epoch 4/80\n",
      "310/310 [==============================] - 7s 21ms/step - loss: 1.8745 - accuracy: 0.3411 - val_loss: 1.9662 - val_accuracy: 0.3071\n",
      "Epoch 5/80\n",
      "310/310 [==============================] - 7s 21ms/step - loss: 1.8022 - accuracy: 0.3675 - val_loss: 1.9720 - val_accuracy: 0.3166\n",
      "Epoch 6/80\n",
      "310/310 [==============================] - 7s 21ms/step - loss: 1.7384 - accuracy: 0.3857 - val_loss: 1.9922 - val_accuracy: 0.3060\n",
      "Epoch 7/80\n",
      "310/310 [==============================] - 7s 21ms/step - loss: 1.6647 - accuracy: 0.4126 - val_loss: 2.0267 - val_accuracy: 0.2977\n",
      "Epoch 8/80\n",
      "310/310 [==============================] - ETA: 0s - loss: 1.5992 - accuracy: 0.4379Restoring model weights from the end of the best epoch.\n",
      "310/310 [==============================] - 7s 21ms/step - loss: 1.5992 - accuracy: 0.4379 - val_loss: 2.0452 - val_accuracy: 0.2977\n",
      "Epoch 00008: early stopping\n",
      "CV Log Loss of Best Weights Model in Current Run:  1.9590196187901163\n",
      "i: 1\n",
      "Epoch 1/80\n",
      "  2/310 [..............................] - ETA: 17s - loss: 2.5780 - accuracy: 0.0781WARNING:tensorflow:Callbacks method `on_train_batch_end` is slow compared to the batch time (batch time: 0.0186s vs `on_train_batch_end` time: 0.0914s). Check your callbacks.\n",
      "310/310 [==============================] - 7s 23ms/step - loss: 2.2865 - accuracy: 0.1964 - val_loss: 2.0592 - val_accuracy: 0.2880\n",
      "Epoch 2/80\n",
      "310/310 [==============================] - 7s 21ms/step - loss: 2.0447 - accuracy: 0.2821 - val_loss: 1.9729 - val_accuracy: 0.3080\n",
      "Epoch 3/80\n",
      "310/310 [==============================] - 7s 21ms/step - loss: 1.9394 - accuracy: 0.3165 - val_loss: 1.9841 - val_accuracy: 0.3031\n",
      "Epoch 4/80\n",
      "310/310 [==============================] - 7s 21ms/step - loss: 1.8689 - accuracy: 0.3398 - val_loss: 1.9680 - val_accuracy: 0.3040\n",
      "Epoch 5/80\n",
      "310/310 [==============================] - 7s 21ms/step - loss: 1.8065 - accuracy: 0.3611 - val_loss: 1.9879 - val_accuracy: 0.3031\n",
      "Epoch 6/80\n",
      "310/310 [==============================] - 7s 22ms/step - loss: 1.7436 - accuracy: 0.3900 - val_loss: 2.0090 - val_accuracy: 0.3083\n",
      "Epoch 7/80\n",
      "310/310 [==============================] - 7s 21ms/step - loss: 1.6647 - accuracy: 0.4130 - val_loss: 2.0387 - val_accuracy: 0.3080\n",
      "Epoch 8/80\n",
      "310/310 [==============================] - 7s 22ms/step - loss: 1.5963 - accuracy: 0.4422 - val_loss: 2.0918 - val_accuracy: 0.2914\n",
      "Epoch 9/80\n",
      "310/310 [==============================] - ETA: 0s - loss: 1.5222 - accuracy: 0.4686Restoring model weights from the end of the best epoch.\n",
      "310/310 [==============================] - 7s 22ms/step - loss: 1.5222 - accuracy: 0.4686 - val_loss: 2.0959 - val_accuracy: 0.2948\n",
      "Epoch 00009: early stopping\n",
      "CV Log Loss of Best Weights Model in Current Run:  1.9679710579738299\n",
      "i: 2\n",
      "Epoch 1/80\n",
      "  2/310 [..............................] - ETA: 16s - loss: 2.5765 - accuracy: 0.0938WARNING:tensorflow:Callbacks method `on_train_batch_end` is slow compared to the batch time (batch time: 0.0191s vs `on_train_batch_end` time: 0.0850s). Check your callbacks.\n",
      "310/310 [==============================] - 7s 23ms/step - loss: 2.2776 - accuracy: 0.1989 - val_loss: 2.0598 - val_accuracy: 0.2860\n",
      "Epoch 2/80\n",
      "310/310 [==============================] - 7s 21ms/step - loss: 2.0403 - accuracy: 0.2794 - val_loss: 1.9788 - val_accuracy: 0.3014\n",
      "Epoch 3/80\n",
      "310/310 [==============================] - 6s 21ms/step - loss: 1.9432 - accuracy: 0.3133 - val_loss: 1.9607 - val_accuracy: 0.3083\n",
      "Epoch 4/80\n",
      "310/310 [==============================] - 6s 21ms/step - loss: 1.8778 - accuracy: 0.3384 - val_loss: 1.9816 - val_accuracy: 0.2994\n",
      "Epoch 5/80\n",
      "310/310 [==============================] - 7s 21ms/step - loss: 1.8052 - accuracy: 0.3624 - val_loss: 1.9736 - val_accuracy: 0.3008\n",
      "Epoch 6/80\n",
      "310/310 [==============================] - 7s 22ms/step - loss: 1.7391 - accuracy: 0.3867 - val_loss: 1.9885 - val_accuracy: 0.3048\n",
      "Epoch 7/80\n",
      "310/310 [==============================] - 7s 21ms/step - loss: 1.6710 - accuracy: 0.4189 - val_loss: 2.0277 - val_accuracy: 0.3106\n",
      "Epoch 8/80\n",
      "310/310 [==============================] - ETA: 0s - loss: 1.5984 - accuracy: 0.4392Restoring model weights from the end of the best epoch.\n",
      "310/310 [==============================] - 7s 21ms/step - loss: 1.5984 - accuracy: 0.4392 - val_loss: 2.0425 - val_accuracy: 0.2894\n",
      "Epoch 00008: early stopping\n",
      "CV Log Loss of Best Weights Model in Current Run:  1.9607176576219851\n",
      "i: 3\n",
      "Epoch 1/80\n",
      "  2/310 [..............................] - ETA: 15s - loss: 2.5369 - accuracy: 0.1016WARNING:tensorflow:Callbacks method `on_train_batch_end` is slow compared to the batch time (batch time: 0.0190s vs `on_train_batch_end` time: 0.0832s). Check your callbacks.\n",
      "310/310 [==============================] - 7s 23ms/step - loss: 2.2933 - accuracy: 0.1984 - val_loss: 2.0751 - val_accuracy: 0.2739\n",
      "Epoch 2/80\n",
      "310/310 [==============================] - 6s 21ms/step - loss: 2.0414 - accuracy: 0.2813 - val_loss: 1.9655 - val_accuracy: 0.3043\n",
      "Epoch 3/80\n",
      "310/310 [==============================] - 6s 21ms/step - loss: 1.9453 - accuracy: 0.3145 - val_loss: 1.9499 - val_accuracy: 0.3114\n",
      "Epoch 4/80\n",
      "310/310 [==============================] - 6s 21ms/step - loss: 1.8659 - accuracy: 0.3416 - val_loss: 1.9690 - val_accuracy: 0.3023\n",
      "Epoch 5/80\n",
      "310/310 [==============================] - 7s 21ms/step - loss: 1.7977 - accuracy: 0.3674 - val_loss: 1.9794 - val_accuracy: 0.3014\n",
      "Epoch 6/80\n",
      "310/310 [==============================] - 6s 21ms/step - loss: 1.7319 - accuracy: 0.3882 - val_loss: 1.9953 - val_accuracy: 0.3057\n",
      "Epoch 7/80\n",
      "310/310 [==============================] - 7s 21ms/step - loss: 1.6574 - accuracy: 0.4215 - val_loss: 2.0298 - val_accuracy: 0.2971\n",
      "Epoch 8/80\n",
      "310/310 [==============================] - ETA: 0s - loss: 1.5764 - accuracy: 0.4465Restoring model weights from the end of the best epoch.\n",
      "310/310 [==============================] - 7s 21ms/step - loss: 1.5764 - accuracy: 0.4465 - val_loss: 2.0577 - val_accuracy: 0.2897\n",
      "Epoch 00008: early stopping\n",
      "CV Log Loss of Best Weights Model in Current Run:  1.9499287280310793\n",
      "i: 4\n",
      "Epoch 1/80\n",
      "  2/310 [..............................] - ETA: 16s - loss: 2.5325 - accuracy: 0.0703WARNING:tensorflow:Callbacks method `on_train_batch_end` is slow compared to the batch time (batch time: 0.0192s vs `on_train_batch_end` time: 0.0864s). Check your callbacks.\n",
      "310/310 [==============================] - 7s 23ms/step - loss: 2.2823 - accuracy: 0.1993 - val_loss: 2.0391 - val_accuracy: 0.2914\n",
      "Epoch 2/80\n",
      "310/310 [==============================] - 7s 23ms/step - loss: 2.0438 - accuracy: 0.2823 - val_loss: 1.9749 - val_accuracy: 0.2977\n",
      "Epoch 3/80\n",
      "310/310 [==============================] - 7s 22ms/step - loss: 1.9411 - accuracy: 0.3156 - val_loss: 1.9633 - val_accuracy: 0.3114\n",
      "Epoch 4/80\n",
      "310/310 [==============================] - 7s 21ms/step - loss: 1.8712 - accuracy: 0.3387 - val_loss: 1.9634 - val_accuracy: 0.3148\n",
      "Epoch 5/80\n",
      "310/310 [==============================] - 7s 21ms/step - loss: 1.7970 - accuracy: 0.3663 - val_loss: 1.9781 - val_accuracy: 0.3151\n",
      "Epoch 6/80\n",
      "310/310 [==============================] - 7s 21ms/step - loss: 1.7260 - accuracy: 0.3927 - val_loss: 2.0112 - val_accuracy: 0.3083\n",
      "Epoch 7/80\n",
      "310/310 [==============================] - 7s 21ms/step - loss: 1.6519 - accuracy: 0.4226 - val_loss: 2.0318 - val_accuracy: 0.2994\n",
      "Epoch 8/80\n",
      "310/310 [==============================] - ETA: 0s - loss: 1.5782 - accuracy: 0.4503Restoring model weights from the end of the best epoch.\n",
      "310/310 [==============================] - 7s 21ms/step - loss: 1.5782 - accuracy: 0.4503 - val_loss: 2.0332 - val_accuracy: 0.3108\n"
     ]
    },
    {
     "name": "stdout",
     "output_type": "stream",
     "text": [
      "Epoch 00008: early stopping\n",
      "CV Log Loss of Best Weights Model in Current Run:  1.963274487349385\n",
      "i: 5\n",
      "Epoch 1/80\n",
      "  2/310 [..............................] - ETA: 16s - loss: 2.6226 - accuracy: 0.0781WARNING:tensorflow:Callbacks method `on_train_batch_end` is slow compared to the batch time (batch time: 0.0195s vs `on_train_batch_end` time: 0.0873s). Check your callbacks.\n",
      "310/310 [==============================] - 7s 23ms/step - loss: 2.2879 - accuracy: 0.1928 - val_loss: 2.0601 - val_accuracy: 0.2802\n",
      "Epoch 2/80\n",
      "310/310 [==============================] - 7s 21ms/step - loss: 2.0345 - accuracy: 0.2807 - val_loss: 1.9981 - val_accuracy: 0.2911\n",
      "Epoch 3/80\n",
      "310/310 [==============================] - 7s 21ms/step - loss: 1.9386 - accuracy: 0.3195 - val_loss: 1.9659 - val_accuracy: 0.3045\n",
      "Epoch 4/80\n",
      "310/310 [==============================] - 7s 21ms/step - loss: 1.8729 - accuracy: 0.3389 - val_loss: 1.9757 - val_accuracy: 0.3008\n",
      "Epoch 5/80\n",
      "310/310 [==============================] - 7s 21ms/step - loss: 1.7933 - accuracy: 0.3652 - val_loss: 2.0250 - val_accuracy: 0.3017\n",
      "Epoch 6/80\n",
      "310/310 [==============================] - 7s 21ms/step - loss: 1.7250 - accuracy: 0.3954 - val_loss: 2.0257 - val_accuracy: 0.2968\n",
      "Epoch 7/80\n",
      "310/310 [==============================] - 7s 21ms/step - loss: 1.6613 - accuracy: 0.4155 - val_loss: 2.0152 - val_accuracy: 0.3003\n",
      "Epoch 8/80\n",
      "310/310 [==============================] - ETA: 0s - loss: 1.5877 - accuracy: 0.4447Restoring model weights from the end of the best epoch.\n",
      "310/310 [==============================] - 7s 21ms/step - loss: 1.5877 - accuracy: 0.4447 - val_loss: 2.0781 - val_accuracy: 0.2908\n",
      "Epoch 00008: early stopping\n",
      "CV Log Loss of Best Weights Model in Current Run:  1.9659081878945388\n",
      "i: 6\n",
      "Epoch 1/80\n",
      "  2/310 [..............................] - ETA: 16s - loss: 2.5056 - accuracy: 0.0703WARNING:tensorflow:Callbacks method `on_train_batch_end` is slow compared to the batch time (batch time: 0.0190s vs `on_train_batch_end` time: 0.0899s). Check your callbacks.\n",
      "310/310 [==============================] - 7s 23ms/step - loss: 2.2822 - accuracy: 0.2000 - val_loss: 2.0628 - val_accuracy: 0.2894\n",
      "Epoch 2/80\n",
      "310/310 [==============================] - 7s 21ms/step - loss: 2.0454 - accuracy: 0.2825 - val_loss: 1.9767 - val_accuracy: 0.3000\n",
      "Epoch 3/80\n",
      "310/310 [==============================] - 7s 21ms/step - loss: 1.9468 - accuracy: 0.3179 - val_loss: 1.9643 - val_accuracy: 0.3106\n",
      "Epoch 4/80\n",
      "310/310 [==============================] - 6s 21ms/step - loss: 1.8686 - accuracy: 0.3433 - val_loss: 1.9648 - val_accuracy: 0.3071\n",
      "Epoch 5/80\n",
      "310/310 [==============================] - 7s 21ms/step - loss: 1.7929 - accuracy: 0.3704 - val_loss: 1.9919 - val_accuracy: 0.3003\n",
      "Epoch 6/80\n",
      "310/310 [==============================] - 7s 21ms/step - loss: 1.7267 - accuracy: 0.3937 - val_loss: 2.0015 - val_accuracy: 0.3057\n",
      "Epoch 7/80\n",
      "310/310 [==============================] - 7s 21ms/step - loss: 1.6587 - accuracy: 0.4197 - val_loss: 2.0415 - val_accuracy: 0.3054\n",
      "Epoch 8/80\n",
      "310/310 [==============================] - ETA: 0s - loss: 1.5896 - accuracy: 0.4481Restoring model weights from the end of the best epoch.\n",
      "310/310 [==============================] - 7s 22ms/step - loss: 1.5896 - accuracy: 0.4481 - val_loss: 2.0779 - val_accuracy: 0.3005\n",
      "Epoch 00008: early stopping\n",
      "CV Log Loss of Best Weights Model in Current Run:  1.9643009158524063\n",
      "i: 7\n",
      "Epoch 1/80\n",
      "  2/310 [..............................] - ETA: 17s - loss: 2.5918 - accuracy: 0.0781WARNING:tensorflow:Callbacks method `on_train_batch_end` is slow compared to the batch time (batch time: 0.0199s vs `on_train_batch_end` time: 0.0907s). Check your callbacks.\n",
      "310/310 [==============================] - 8s 24ms/step - loss: 2.2832 - accuracy: 0.1981 - val_loss: 2.0823 - val_accuracy: 0.2748\n",
      "Epoch 2/80\n",
      "310/310 [==============================] - 7s 23ms/step - loss: 2.0409 - accuracy: 0.2810 - val_loss: 1.9685 - val_accuracy: 0.3071\n",
      "Epoch 3/80\n",
      "310/310 [==============================] - 7s 22ms/step - loss: 1.9461 - accuracy: 0.3159 - val_loss: 1.9623 - val_accuracy: 0.2985\n",
      "Epoch 4/80\n",
      "310/310 [==============================] - 7s 21ms/step - loss: 1.8737 - accuracy: 0.3379 - val_loss: 1.9540 - val_accuracy: 0.3103\n",
      "Epoch 5/80\n",
      "310/310 [==============================] - 7s 21ms/step - loss: 1.8055 - accuracy: 0.3651 - val_loss: 1.9946 - val_accuracy: 0.3051\n",
      "Epoch 6/80\n",
      "310/310 [==============================] - 7s 21ms/step - loss: 1.7307 - accuracy: 0.3898 - val_loss: 2.0003 - val_accuracy: 0.3037\n",
      "Epoch 7/80\n",
      "310/310 [==============================] - 7s 21ms/step - loss: 1.6691 - accuracy: 0.4181 - val_loss: 2.0369 - val_accuracy: 0.3063\n",
      "Epoch 8/80\n",
      "310/310 [==============================] - 7s 22ms/step - loss: 1.5919 - accuracy: 0.4431 - val_loss: 2.0407 - val_accuracy: 0.3134\n",
      "Epoch 9/80\n",
      "310/310 [==============================] - ETA: 0s - loss: 1.5149 - accuracy: 0.4714Restoring model weights from the end of the best epoch.\n",
      "310/310 [==============================] - 7s 21ms/step - loss: 1.5149 - accuracy: 0.4714 - val_loss: 2.1201 - val_accuracy: 0.3048\n",
      "Epoch 00009: early stopping\n",
      "CV Log Loss of Best Weights Model in Current Run:  1.9540211859241465\n",
      "i: 8\n",
      "Epoch 1/80\n",
      "  2/310 [..............................] - ETA: 16s - loss: 2.5353 - accuracy: 0.0703WARNING:tensorflow:Callbacks method `on_train_batch_end` is slow compared to the batch time (batch time: 0.0192s vs `on_train_batch_end` time: 0.0870s). Check your callbacks.\n",
      "310/310 [==============================] - 7s 23ms/step - loss: 2.2883 - accuracy: 0.1954 - val_loss: 2.0620 - val_accuracy: 0.2845\n",
      "Epoch 2/80\n",
      "310/310 [==============================] - 7s 21ms/step - loss: 2.0476 - accuracy: 0.2835 - val_loss: 1.9669 - val_accuracy: 0.3051\n",
      "Epoch 3/80\n",
      "310/310 [==============================] - 7s 21ms/step - loss: 1.9484 - accuracy: 0.3152 - val_loss: 1.9590 - val_accuracy: 0.3106\n",
      "Epoch 4/80\n",
      "310/310 [==============================] - 7s 21ms/step - loss: 1.8687 - accuracy: 0.3400 - val_loss: 1.9550 - val_accuracy: 0.3146\n",
      "Epoch 5/80\n",
      "310/310 [==============================] - 7s 21ms/step - loss: 1.7956 - accuracy: 0.3658 - val_loss: 1.9765 - val_accuracy: 0.3060\n",
      "Epoch 6/80\n",
      "310/310 [==============================] - 7s 21ms/step - loss: 1.7283 - accuracy: 0.3972 - val_loss: 2.0193 - val_accuracy: 0.2928\n",
      "Epoch 7/80\n",
      "310/310 [==============================] - 7s 21ms/step - loss: 1.6685 - accuracy: 0.4129 - val_loss: 2.0202 - val_accuracy: 0.3077\n",
      "Epoch 8/80\n",
      "310/310 [==============================] - 7s 21ms/step - loss: 1.5956 - accuracy: 0.4384 - val_loss: 2.0511 - val_accuracy: 0.3120\n",
      "Epoch 9/80\n",
      "310/310 [==============================] - ETA: 0s - loss: 1.5296 - accuracy: 0.4650Restoring model weights from the end of the best epoch.\n",
      "310/310 [==============================] - 7s 21ms/step - loss: 1.5296 - accuracy: 0.4650 - val_loss: 2.0936 - val_accuracy: 0.2974\n",
      "Epoch 00009: early stopping\n",
      "CV Log Loss of Best Weights Model in Current Run:  1.9549919236190394\n",
      "i: 9\n",
      "Epoch 1/80\n",
      "  2/310 [..............................] - ETA: 16s - loss: 2.5674 - accuracy: 0.0859WARNING:tensorflow:Callbacks method `on_train_batch_end` is slow compared to the batch time (batch time: 0.0188s vs `on_train_batch_end` time: 0.0874s). Check your callbacks.\n",
      "310/310 [==============================] - 7s 23ms/step - loss: 2.2788 - accuracy: 0.2036 - val_loss: 2.0510 - val_accuracy: 0.2817\n",
      "Epoch 2/80\n",
      "310/310 [==============================] - 7s 21ms/step - loss: 2.0517 - accuracy: 0.2758 - val_loss: 1.9729 - val_accuracy: 0.3051\n",
      "Epoch 3/80\n",
      "310/310 [==============================] - 7s 23ms/step - loss: 1.9423 - accuracy: 0.3126 - val_loss: 1.9670 - val_accuracy: 0.3063\n",
      "Epoch 4/80\n",
      "310/310 [==============================] - 7s 21ms/step - loss: 1.8666 - accuracy: 0.3396 - val_loss: 1.9873 - val_accuracy: 0.3000\n",
      "Epoch 5/80\n",
      "310/310 [==============================] - 6s 21ms/step - loss: 1.7982 - accuracy: 0.3658 - val_loss: 1.9883 - val_accuracy: 0.3020\n",
      "Epoch 6/80\n",
      "310/310 [==============================] - 7s 21ms/step - loss: 1.7374 - accuracy: 0.3875 - val_loss: 2.0003 - val_accuracy: 0.3131\n",
      "Epoch 7/80\n",
      "310/310 [==============================] - 7s 21ms/step - loss: 1.6589 - accuracy: 0.4161 - val_loss: 2.0390 - val_accuracy: 0.2943\n"
     ]
    },
    {
     "name": "stdout",
     "output_type": "stream",
     "text": [
      "Epoch 8/80\n",
      "310/310 [==============================] - ETA: 0s - loss: 1.5977 - accuracy: 0.4363Restoring model weights from the end of the best epoch.\n",
      "310/310 [==============================] - 7s 21ms/step - loss: 1.5977 - accuracy: 0.4363 - val_loss: 2.0439 - val_accuracy: 0.3060\n",
      "Epoch 00008: early stopping\n",
      "CV Log Loss of Best Weights Model in Current Run:  1.9669869835116982\n",
      "i: 10\n",
      "Epoch 1/80\n",
      "  2/310 [..............................] - ETA: 16s - loss: 2.5582 - accuracy: 0.0703WARNING:tensorflow:Callbacks method `on_train_batch_end` is slow compared to the batch time (batch time: 0.0196s vs `on_train_batch_end` time: 0.0883s). Check your callbacks.\n",
      "310/310 [==============================] - 7s 23ms/step - loss: 2.2840 - accuracy: 0.1992 - val_loss: 2.0630 - val_accuracy: 0.2851\n",
      "Epoch 2/80\n",
      "310/310 [==============================] - 7s 21ms/step - loss: 2.0446 - accuracy: 0.2810 - val_loss: 1.9870 - val_accuracy: 0.3005\n",
      "Epoch 3/80\n",
      "310/310 [==============================] - 7s 21ms/step - loss: 1.9508 - accuracy: 0.3135 - val_loss: 1.9701 - val_accuracy: 0.3108\n",
      "Epoch 4/80\n",
      "310/310 [==============================] - 7s 21ms/step - loss: 1.8747 - accuracy: 0.3385 - val_loss: 1.9601 - val_accuracy: 0.3068\n",
      "Epoch 5/80\n",
      "310/310 [==============================] - 7s 21ms/step - loss: 1.8032 - accuracy: 0.3599 - val_loss: 1.9828 - val_accuracy: 0.3045\n",
      "Epoch 6/80\n",
      "310/310 [==============================] - 7s 21ms/step - loss: 1.7448 - accuracy: 0.3846 - val_loss: 1.9892 - val_accuracy: 0.3014\n",
      "Epoch 7/80\n",
      "310/310 [==============================] - 7s 22ms/step - loss: 1.6777 - accuracy: 0.4107 - val_loss: 2.0243 - val_accuracy: 0.3068\n",
      "Epoch 8/80\n",
      "310/310 [==============================] - 7s 22ms/step - loss: 1.6049 - accuracy: 0.4347 - val_loss: 2.0577 - val_accuracy: 0.3100\n",
      "Epoch 9/80\n",
      "310/310 [==============================] - ETA: 0s - loss: 1.5371 - accuracy: 0.4574Restoring model weights from the end of the best epoch.\n",
      "310/310 [==============================] - 7s 21ms/step - loss: 1.5371 - accuracy: 0.4574 - val_loss: 2.0818 - val_accuracy: 0.2994\n",
      "Epoch 00009: early stopping\n",
      "CV Log Loss of Best Weights Model in Current Run:  1.9600735136827367\n",
      "i: 11\n",
      "Epoch 1/80\n",
      "  2/310 [..............................] - ETA: 16s - loss: 2.5349 - accuracy: 0.1016WARNING:tensorflow:Callbacks method `on_train_batch_end` is slow compared to the batch time (batch time: 0.0191s vs `on_train_batch_end` time: 0.0894s). Check your callbacks.\n",
      "310/310 [==============================] - 7s 23ms/step - loss: 2.2881 - accuracy: 0.1937 - val_loss: 2.0582 - val_accuracy: 0.2762\n",
      "Epoch 2/80\n",
      "310/310 [==============================] - 7s 21ms/step - loss: 2.0420 - accuracy: 0.2773 - val_loss: 1.9679 - val_accuracy: 0.3077\n",
      "Epoch 3/80\n",
      "310/310 [==============================] - 7s 21ms/step - loss: 1.9441 - accuracy: 0.3120 - val_loss: 1.9473 - val_accuracy: 0.3137\n",
      "Epoch 4/80\n",
      "310/310 [==============================] - 7s 21ms/step - loss: 1.8668 - accuracy: 0.3405 - val_loss: 1.9646 - val_accuracy: 0.3037\n",
      "Epoch 5/80\n",
      "310/310 [==============================] - 7s 21ms/step - loss: 1.8008 - accuracy: 0.3648 - val_loss: 1.9644 - val_accuracy: 0.3137\n",
      "Epoch 6/80\n",
      "310/310 [==============================] - 7s 21ms/step - loss: 1.7359 - accuracy: 0.3868 - val_loss: 1.9878 - val_accuracy: 0.2905\n",
      "Epoch 7/80\n",
      "310/310 [==============================] - 7s 21ms/step - loss: 1.6729 - accuracy: 0.4105 - val_loss: 2.0134 - val_accuracy: 0.3048\n",
      "Epoch 8/80\n",
      "310/310 [==============================] - ETA: 0s - loss: 1.6058 - accuracy: 0.4365Restoring model weights from the end of the best epoch.\n",
      "310/310 [==============================] - 7s 21ms/step - loss: 1.6058 - accuracy: 0.4365 - val_loss: 2.0360 - val_accuracy: 0.3071\n",
      "Epoch 00008: early stopping\n",
      "CV Log Loss of Best Weights Model in Current Run:  1.9473162443351244\n",
      "i: 12\n",
      "Epoch 1/80\n",
      "  2/310 [..............................] - ETA: 19s - loss: 2.5858 - accuracy: 0.1016WARNING:tensorflow:Callbacks method `on_train_batch_end` is slow compared to the batch time (batch time: 0.0199s vs `on_train_batch_end` time: 0.1043s). Check your callbacks.\n",
      "310/310 [==============================] - 7s 24ms/step - loss: 2.2772 - accuracy: 0.2042 - val_loss: 2.0625 - val_accuracy: 0.2828\n",
      "Epoch 2/80\n",
      "310/310 [==============================] - 7s 22ms/step - loss: 2.0386 - accuracy: 0.2824 - val_loss: 1.9852 - val_accuracy: 0.3028\n",
      "Epoch 3/80\n",
      "310/310 [==============================] - 7s 22ms/step - loss: 1.9415 - accuracy: 0.3140 - val_loss: 1.9581 - val_accuracy: 0.3166\n",
      "Epoch 4/80\n",
      "310/310 [==============================] - 7s 22ms/step - loss: 1.8658 - accuracy: 0.3412 - val_loss: 1.9727 - val_accuracy: 0.3068\n",
      "Epoch 5/80\n",
      "310/310 [==============================] - 7s 22ms/step - loss: 1.8022 - accuracy: 0.3641 - val_loss: 2.0100 - val_accuracy: 0.3003\n",
      "Epoch 6/80\n",
      "310/310 [==============================] - 7s 21ms/step - loss: 1.7299 - accuracy: 0.3938 - val_loss: 2.0178 - val_accuracy: 0.3000\n",
      "Epoch 7/80\n",
      "310/310 [==============================] - 7s 22ms/step - loss: 1.6594 - accuracy: 0.4260 - val_loss: 2.0444 - val_accuracy: 0.2997\n",
      "Epoch 8/80\n",
      "310/310 [==============================] - ETA: 0s - loss: 1.5862 - accuracy: 0.4453Restoring model weights from the end of the best epoch.\n",
      "310/310 [==============================] - 7s 21ms/step - loss: 1.5862 - accuracy: 0.4453 - val_loss: 2.0455 - val_accuracy: 0.3108\n",
      "Epoch 00008: early stopping\n",
      "CV Log Loss of Best Weights Model in Current Run:  1.9581377897800412\n",
      "i: 13\n",
      "Epoch 1/80\n",
      "  2/310 [..............................] - ETA: 16s - loss: 2.6018 - accuracy: 0.0469WARNING:tensorflow:Callbacks method `on_train_batch_end` is slow compared to the batch time (batch time: 0.0187s vs `on_train_batch_end` time: 0.0886s). Check your callbacks.\n",
      "310/310 [==============================] - 7s 23ms/step - loss: 2.2872 - accuracy: 0.1953 - val_loss: 2.0615 - val_accuracy: 0.2768\n",
      "Epoch 2/80\n",
      "310/310 [==============================] - 7s 21ms/step - loss: 2.0377 - accuracy: 0.2832 - val_loss: 1.9812 - val_accuracy: 0.2974\n",
      "Epoch 3/80\n",
      "310/310 [==============================] - 7s 21ms/step - loss: 1.9430 - accuracy: 0.3158 - val_loss: 1.9509 - val_accuracy: 0.3148\n",
      "Epoch 4/80\n",
      "310/310 [==============================] - 7s 21ms/step - loss: 1.8682 - accuracy: 0.3422 - val_loss: 1.9560 - val_accuracy: 0.3025\n",
      "Epoch 5/80\n",
      "310/310 [==============================] - 7s 21ms/step - loss: 1.8035 - accuracy: 0.3638 - val_loss: 1.9541 - val_accuracy: 0.3163\n",
      "Epoch 6/80\n",
      "310/310 [==============================] - 7s 21ms/step - loss: 1.7296 - accuracy: 0.3924 - val_loss: 1.9910 - val_accuracy: 0.3068\n",
      "Epoch 7/80\n",
      "310/310 [==============================] - 7s 21ms/step - loss: 1.6631 - accuracy: 0.4118 - val_loss: 2.0202 - val_accuracy: 0.3200\n",
      "Epoch 8/80\n",
      "310/310 [==============================] - ETA: 0s - loss: 1.5960 - accuracy: 0.4382Restoring model weights from the end of the best epoch.\n",
      "310/310 [==============================] - 7s 21ms/step - loss: 1.5960 - accuracy: 0.4382 - val_loss: 2.0863 - val_accuracy: 0.3014\n",
      "Epoch 00008: early stopping\n",
      "CV Log Loss of Best Weights Model in Current Run:  1.9509250958744955\n",
      "i: 14\n",
      "Epoch 1/80\n",
      "  2/310 [..............................] - ETA: 16s - loss: 2.5276 - accuracy: 0.0859WARNING:tensorflow:Callbacks method `on_train_batch_end` is slow compared to the batch time (batch time: 0.0198s vs `on_train_batch_end` time: 0.0871s). Check your callbacks.\n",
      "310/310 [==============================] - 7s 23ms/step - loss: 2.2900 - accuracy: 0.1983 - val_loss: 2.0571 - val_accuracy: 0.2891\n",
      "Epoch 2/80\n",
      "310/310 [==============================] - 7s 21ms/step - loss: 2.0461 - accuracy: 0.2841 - val_loss: 1.9963 - val_accuracy: 0.2974\n",
      "Epoch 3/80\n",
      "310/310 [==============================] - 7s 21ms/step - loss: 1.9427 - accuracy: 0.3151 - val_loss: 1.9646 - val_accuracy: 0.3111\n",
      "Epoch 4/80\n",
      "310/310 [==============================] - 7s 22ms/step - loss: 1.8685 - accuracy: 0.3434 - val_loss: 1.9680 - val_accuracy: 0.3114\n",
      "Epoch 5/80\n",
      "310/310 [==============================] - 7s 23ms/step - loss: 1.7986 - accuracy: 0.3714 - val_loss: 1.9726 - val_accuracy: 0.3060\n",
      "Epoch 6/80\n",
      "310/310 [==============================] - 7s 21ms/step - loss: 1.7287 - accuracy: 0.3937 - val_loss: 1.9907 - val_accuracy: 0.3114\n"
     ]
    },
    {
     "name": "stdout",
     "output_type": "stream",
     "text": [
      "Epoch 7/80\n",
      "310/310 [==============================] - 7s 21ms/step - loss: 1.6472 - accuracy: 0.4255 - val_loss: 2.0333 - val_accuracy: 0.3017\n",
      "Epoch 8/80\n",
      "310/310 [==============================] - ETA: 0s - loss: 1.5759 - accuracy: 0.4517Restoring model weights from the end of the best epoch.\n",
      "310/310 [==============================] - 7s 21ms/step - loss: 1.5759 - accuracy: 0.4517 - val_loss: 2.0558 - val_accuracy: 0.2983\n",
      "Epoch 00008: early stopping\n",
      "CV Log Loss of Best Weights Model in Current Run:  1.9646177458970213\n",
      "i: 15\n",
      "Epoch 1/80\n",
      "  2/310 [..............................] - ETA: 16s - loss: 2.6295 - accuracy: 0.1094WARNING:tensorflow:Callbacks method `on_train_batch_end` is slow compared to the batch time (batch time: 0.0188s vs `on_train_batch_end` time: 0.0876s). Check your callbacks.\n",
      "310/310 [==============================] - 7s 23ms/step - loss: 2.2772 - accuracy: 0.2024 - val_loss: 2.0484 - val_accuracy: 0.2925\n",
      "Epoch 2/80\n",
      "310/310 [==============================] - 7s 21ms/step - loss: 2.0363 - accuracy: 0.2829 - val_loss: 1.9645 - val_accuracy: 0.3057\n",
      "Epoch 3/80\n",
      "310/310 [==============================] - 7s 21ms/step - loss: 1.9402 - accuracy: 0.3179 - val_loss: 1.9630 - val_accuracy: 0.3134\n",
      "Epoch 4/80\n",
      "310/310 [==============================] - 6s 21ms/step - loss: 1.8599 - accuracy: 0.3431 - val_loss: 1.9785 - val_accuracy: 0.3071\n",
      "Epoch 5/80\n",
      "310/310 [==============================] - 7s 21ms/step - loss: 1.7987 - accuracy: 0.3663 - val_loss: 1.9770 - val_accuracy: 0.3248\n",
      "Epoch 6/80\n",
      "310/310 [==============================] - 7s 21ms/step - loss: 1.7294 - accuracy: 0.3912 - val_loss: 1.9773 - val_accuracy: 0.3111\n",
      "Epoch 7/80\n",
      "310/310 [==============================] - 7s 21ms/step - loss: 1.6620 - accuracy: 0.4164 - val_loss: 2.0208 - val_accuracy: 0.3005\n",
      "Epoch 8/80\n",
      "310/310 [==============================] - ETA: 0s - loss: 1.5980 - accuracy: 0.4426Restoring model weights from the end of the best epoch.\n",
      "310/310 [==============================] - 7s 21ms/step - loss: 1.5980 - accuracy: 0.4426 - val_loss: 2.0359 - val_accuracy: 0.3060\n",
      "Epoch 00008: early stopping\n",
      "CV Log Loss of Best Weights Model in Current Run:  1.96300988564998\n",
      "i: 16\n",
      "Epoch 1/80\n",
      "  2/310 [..............................] - ETA: 16s - loss: 2.6091 - accuracy: 0.0625WARNING:tensorflow:Callbacks method `on_train_batch_end` is slow compared to the batch time (batch time: 0.0193s vs `on_train_batch_end` time: 0.0892s). Check your callbacks.\n",
      "310/310 [==============================] - 7s 23ms/step - loss: 2.2877 - accuracy: 0.2011 - val_loss: 2.0659 - val_accuracy: 0.2897\n",
      "Epoch 2/80\n",
      "310/310 [==============================] - 7s 21ms/step - loss: 2.0386 - accuracy: 0.2823 - val_loss: 1.9715 - val_accuracy: 0.3100\n",
      "Epoch 3/80\n",
      "310/310 [==============================] - 7s 21ms/step - loss: 1.9349 - accuracy: 0.3224 - val_loss: 1.9607 - val_accuracy: 0.3037\n",
      "Epoch 4/80\n",
      "310/310 [==============================] - 7s 21ms/step - loss: 1.8693 - accuracy: 0.3386 - val_loss: 1.9609 - val_accuracy: 0.3097\n",
      "Epoch 5/80\n",
      "310/310 [==============================] - 7s 21ms/step - loss: 1.7934 - accuracy: 0.3669 - val_loss: 1.9623 - val_accuracy: 0.3057\n",
      "Epoch 6/80\n",
      "310/310 [==============================] - 7s 21ms/step - loss: 1.7227 - accuracy: 0.3910 - val_loss: 1.9939 - val_accuracy: 0.3126\n",
      "Epoch 7/80\n",
      "310/310 [==============================] - 7s 21ms/step - loss: 1.6644 - accuracy: 0.4182 - val_loss: 2.0149 - val_accuracy: 0.3017\n",
      "Epoch 8/80\n",
      "310/310 [==============================] - ETA: 0s - loss: 1.5882 - accuracy: 0.4433Restoring model weights from the end of the best epoch.\n",
      "310/310 [==============================] - 7s 22ms/step - loss: 1.5882 - accuracy: 0.4433 - val_loss: 2.0603 - val_accuracy: 0.2951\n",
      "Epoch 00008: early stopping\n",
      "CV Log Loss of Best Weights Model in Current Run:  1.9606614697416713\n",
      "i: 17\n",
      "Epoch 1/80\n",
      "  2/310 [..............................] - ETA: 16s - loss: 2.5368 - accuracy: 0.1016WARNING:tensorflow:Callbacks method `on_train_batch_end` is slow compared to the batch time (batch time: 0.0197s vs `on_train_batch_end` time: 0.0885s). Check your callbacks.\n",
      "310/310 [==============================] - 8s 24ms/step - loss: 2.2787 - accuracy: 0.1986 - val_loss: 2.0606 - val_accuracy: 0.2920\n",
      "Epoch 2/80\n",
      "310/310 [==============================] - 7s 22ms/step - loss: 2.0429 - accuracy: 0.2849 - val_loss: 1.9837 - val_accuracy: 0.3000\n",
      "Epoch 3/80\n",
      "310/310 [==============================] - 7s 21ms/step - loss: 1.9435 - accuracy: 0.3144 - val_loss: 1.9699 - val_accuracy: 0.3088\n",
      "Epoch 4/80\n",
      "310/310 [==============================] - 7s 21ms/step - loss: 1.8691 - accuracy: 0.3399 - val_loss: 1.9815 - val_accuracy: 0.3020\n",
      "Epoch 5/80\n",
      "310/310 [==============================] - 7s 21ms/step - loss: 1.7949 - accuracy: 0.3690 - val_loss: 1.9700 - val_accuracy: 0.3108\n",
      "Epoch 6/80\n",
      "310/310 [==============================] - 7s 21ms/step - loss: 1.7263 - accuracy: 0.3881 - val_loss: 1.9831 - val_accuracy: 0.3174\n",
      "Epoch 7/80\n",
      "310/310 [==============================] - 7s 21ms/step - loss: 1.6595 - accuracy: 0.4147 - val_loss: 2.0019 - val_accuracy: 0.3103\n",
      "Epoch 8/80\n",
      "310/310 [==============================] - ETA: 0s - loss: 1.5878 - accuracy: 0.4432Restoring model weights from the end of the best epoch.\n",
      "310/310 [==============================] - 7s 21ms/step - loss: 1.5878 - accuracy: 0.4432 - val_loss: 2.0496 - val_accuracy: 0.3034\n",
      "Epoch 00008: early stopping\n",
      "CV Log Loss of Best Weights Model in Current Run:  1.9699485567247899\n",
      "i: 18\n",
      "Epoch 1/80\n",
      "  2/310 [..............................] - ETA: 16s - loss: 2.5723 - accuracy: 0.0703WARNING:tensorflow:Callbacks method `on_train_batch_end` is slow compared to the batch time (batch time: 0.0193s vs `on_train_batch_end` time: 0.0889s). Check your callbacks.\n",
      "310/310 [==============================] - 8s 25ms/step - loss: 2.2851 - accuracy: 0.2015 - val_loss: 2.0497 - val_accuracy: 0.2914\n",
      "Epoch 2/80\n",
      "310/310 [==============================] - 7s 21ms/step - loss: 2.0385 - accuracy: 0.2813 - val_loss: 1.9637 - val_accuracy: 0.3151\n",
      "Epoch 3/80\n",
      "310/310 [==============================] - 7s 21ms/step - loss: 1.9392 - accuracy: 0.3186 - val_loss: 1.9536 - val_accuracy: 0.3148\n",
      "Epoch 4/80\n",
      "310/310 [==============================] - 7s 21ms/step - loss: 1.8577 - accuracy: 0.3537 - val_loss: 1.9943 - val_accuracy: 0.2980\n",
      "Epoch 5/80\n",
      "310/310 [==============================] - 7s 21ms/step - loss: 1.7991 - accuracy: 0.3663 - val_loss: 1.9798 - val_accuracy: 0.3068\n",
      "Epoch 6/80\n",
      "310/310 [==============================] - 7s 21ms/step - loss: 1.7303 - accuracy: 0.3986 - val_loss: 2.0004 - val_accuracy: 0.2968\n",
      "Epoch 7/80\n",
      "310/310 [==============================] - 7s 21ms/step - loss: 1.6590 - accuracy: 0.4201 - val_loss: 2.0469 - val_accuracy: 0.3103\n",
      "Epoch 8/80\n",
      "310/310 [==============================] - ETA: 0s - loss: 1.5873 - accuracy: 0.4452Restoring model weights from the end of the best epoch.\n",
      "310/310 [==============================] - 7s 21ms/step - loss: 1.5873 - accuracy: 0.4452 - val_loss: 2.0776 - val_accuracy: 0.2871\n",
      "Epoch 00008: early stopping\n",
      "CV Log Loss of Best Weights Model in Current Run:  1.9536078691499588\n",
      "i: 19\n",
      "Epoch 1/80\n",
      "  2/310 [..............................] - ETA: 16s - loss: 2.5654 - accuracy: 0.0547WARNING:tensorflow:Callbacks method `on_train_batch_end` is slow compared to the batch time (batch time: 0.0187s vs `on_train_batch_end` time: 0.0870s). Check your callbacks.\n",
      "310/310 [==============================] - 7s 23ms/step - loss: 2.2901 - accuracy: 0.1948 - val_loss: 2.0595 - val_accuracy: 0.2840\n",
      "Epoch 2/80\n",
      "310/310 [==============================] - 7s 21ms/step - loss: 2.0451 - accuracy: 0.2828 - val_loss: 1.9890 - val_accuracy: 0.2968\n",
      "Epoch 3/80\n",
      "310/310 [==============================] - 7s 21ms/step - loss: 1.9472 - accuracy: 0.3165 - val_loss: 1.9757 - val_accuracy: 0.3045\n",
      "Epoch 4/80\n",
      "310/310 [==============================] - 7s 21ms/step - loss: 1.8753 - accuracy: 0.3378 - val_loss: 1.9799 - val_accuracy: 0.3117\n",
      "Epoch 5/80\n",
      "310/310 [==============================] - 7s 21ms/step - loss: 1.8051 - accuracy: 0.3618 - val_loss: 1.9599 - val_accuracy: 0.3106\n",
      "Epoch 6/80\n",
      "310/310 [==============================] - 7s 21ms/step - loss: 1.7352 - accuracy: 0.3915 - val_loss: 2.0075 - val_accuracy: 0.3028\n"
     ]
    },
    {
     "name": "stdout",
     "output_type": "stream",
     "text": [
      "Epoch 7/80\n",
      "310/310 [==============================] - 7s 22ms/step - loss: 1.6793 - accuracy: 0.4098 - val_loss: 2.0481 - val_accuracy: 0.3011\n",
      "Epoch 8/80\n",
      "310/310 [==============================] - 7s 23ms/step - loss: 1.6068 - accuracy: 0.4343 - val_loss: 2.0632 - val_accuracy: 0.2977\n",
      "Epoch 9/80\n",
      "310/310 [==============================] - 7s 21ms/step - loss: 1.5377 - accuracy: 0.4587 - val_loss: 2.1227 - val_accuracy: 0.2931\n",
      "Epoch 10/80\n",
      "310/310 [==============================] - ETA: 0s - loss: 1.4568 - accuracy: 0.4933Restoring model weights from the end of the best epoch.\n",
      "310/310 [==============================] - 7s 21ms/step - loss: 1.4568 - accuracy: 0.4933 - val_loss: 2.1679 - val_accuracy: 0.2885\n",
      "Epoch 00010: early stopping\n",
      "CV Log Loss of Best Weights Model in Current Run:  1.9599096784642467\n",
      "Average CV Loss of 20 Runs : 1.9597664297934148\n"
     ]
    }
   ],
   "source": [
    "\n",
    "\n",
    "random_seeds=[9]*10 \n",
    "model_list_wE_1=get_network_2_1_models(20)\n"
   ]
  },
  {
   "cell_type": "code",
   "execution_count": 132,
   "metadata": {},
   "outputs": [],
   "source": [
    "tensorboard_callback = TensorBoard(log_dir='modelwE2_graph',histogram_freq=1)\n",
    "early_stop_1=EarlyStopping(monitor='val_loss',patience=5,restore_best_weights=True,verbose=1)\n"
   ]
  },
  {
   "cell_type": "code",
   "execution_count": 133,
   "metadata": {},
   "outputs": [
    {
     "name": "stdout",
     "output_type": "stream",
     "text": [
      "i: 0\n",
      "Epoch 1/80\n",
      "  2/310 [..............................] - ETA: 23s - loss: 2.4845 - accuracy: 0.0859WARNING:tensorflow:Callbacks method `on_train_batch_end` is slow compared to the batch time (batch time: 0.0096s vs `on_train_batch_end` time: 0.1408s). Check your callbacks.\n",
      "310/310 [==============================] - 4s 12ms/step - loss: 2.2722 - accuracy: 0.1961 - val_loss: 2.0761 - val_accuracy: 0.2765\n",
      "Epoch 2/80\n",
      "310/310 [==============================] - 3s 10ms/step - loss: 2.0679 - accuracy: 0.2732 - val_loss: 1.9944 - val_accuracy: 0.3094\n",
      "Epoch 3/80\n",
      "310/310 [==============================] - 3s 10ms/step - loss: 1.9899 - accuracy: 0.2988 - val_loss: 1.9658 - val_accuracy: 0.3180\n",
      "Epoch 4/80\n",
      "310/310 [==============================] - 3s 10ms/step - loss: 1.9410 - accuracy: 0.3165 - val_loss: 1.9539 - val_accuracy: 0.3217\n",
      "Epoch 5/80\n",
      "310/310 [==============================] - 3s 10ms/step - loss: 1.9003 - accuracy: 0.3335 - val_loss: 1.9489 - val_accuracy: 0.3100\n",
      "Epoch 6/80\n",
      "310/310 [==============================] - 3s 10ms/step - loss: 1.8520 - accuracy: 0.3470 - val_loss: 1.9413 - val_accuracy: 0.3217\n",
      "Epoch 7/80\n",
      "310/310 [==============================] - 3s 10ms/step - loss: 1.8109 - accuracy: 0.3649 - val_loss: 1.9570 - val_accuracy: 0.3237\n",
      "Epoch 8/80\n",
      "310/310 [==============================] - 3s 10ms/step - loss: 1.7744 - accuracy: 0.3775 - val_loss: 1.9597 - val_accuracy: 0.3088\n",
      "Epoch 9/80\n",
      "310/310 [==============================] - 3s 10ms/step - loss: 1.7491 - accuracy: 0.3873 - val_loss: 1.9621 - val_accuracy: 0.3143\n",
      "Epoch 10/80\n",
      "310/310 [==============================] - 3s 10ms/step - loss: 1.7092 - accuracy: 0.3992 - val_loss: 1.9702 - val_accuracy: 0.3131\n",
      "Epoch 11/80\n",
      "307/310 [============================>.] - ETA: 0s - loss: 1.6763 - accuracy: 0.4146Restoring model weights from the end of the best epoch.\n",
      "310/310 [==============================] - 3s 10ms/step - loss: 1.6773 - accuracy: 0.4143 - val_loss: 1.9842 - val_accuracy: 0.3137\n",
      "Epoch 00011: early stopping\n",
      "CV Log Loss of Best Weights Model in Current Run:  1.9413415095679651\n",
      "i: 1\n",
      "Epoch 1/80\n",
      "  2/310 [..............................] - ETA: 14s - loss: 2.4812 - accuracy: 0.1094WARNING:tensorflow:Callbacks method `on_train_batch_end` is slow compared to the batch time (batch time: 0.0091s vs `on_train_batch_end` time: 0.0861s). Check your callbacks.\n",
      "310/310 [==============================] - 4s 12ms/step - loss: 2.2644 - accuracy: 0.2026 - val_loss: 2.0740 - val_accuracy: 0.2834\n",
      "Epoch 2/80\n",
      "310/310 [==============================] - 3s 10ms/step - loss: 2.0723 - accuracy: 0.2752 - val_loss: 1.9971 - val_accuracy: 0.3128\n",
      "Epoch 3/80\n",
      "310/310 [==============================] - 3s 10ms/step - loss: 2.0009 - accuracy: 0.2964 - val_loss: 1.9744 - val_accuracy: 0.3097\n",
      "Epoch 4/80\n",
      "310/310 [==============================] - 3s 10ms/step - loss: 1.9429 - accuracy: 0.3183 - val_loss: 1.9583 - val_accuracy: 0.3220\n",
      "Epoch 5/80\n",
      "310/310 [==============================] - 3s 10ms/step - loss: 1.8947 - accuracy: 0.3318 - val_loss: 1.9568 - val_accuracy: 0.3214\n",
      "Epoch 6/80\n",
      "310/310 [==============================] - 3s 11ms/step - loss: 1.8615 - accuracy: 0.3462 - val_loss: 1.9462 - val_accuracy: 0.3160\n",
      "Epoch 7/80\n",
      "310/310 [==============================] - 3s 10ms/step - loss: 1.8139 - accuracy: 0.3667 - val_loss: 1.9567 - val_accuracy: 0.3123\n",
      "Epoch 8/80\n",
      "310/310 [==============================] - 3s 10ms/step - loss: 1.7678 - accuracy: 0.3804 - val_loss: 1.9619 - val_accuracy: 0.3137\n",
      "Epoch 9/80\n",
      "310/310 [==============================] - 3s 10ms/step - loss: 1.7401 - accuracy: 0.3994 - val_loss: 1.9693 - val_accuracy: 0.3126\n",
      "Epoch 10/80\n",
      "310/310 [==============================] - 3s 10ms/step - loss: 1.6947 - accuracy: 0.4178 - val_loss: 1.9959 - val_accuracy: 0.3043\n",
      "Epoch 11/80\n",
      "307/310 [============================>.] - ETA: 0s - loss: 1.6503 - accuracy: 0.4276Restoring model weights from the end of the best epoch.\n",
      "310/310 [==============================] - 3s 10ms/step - loss: 1.6503 - accuracy: 0.4278 - val_loss: 1.9934 - val_accuracy: 0.3005\n",
      "Epoch 00011: early stopping\n",
      "CV Log Loss of Best Weights Model in Current Run:  1.9462467317397778\n",
      "i: 2\n",
      "Epoch 1/80\n",
      "  2/310 [..............................] - ETA: 11s - loss: 2.4813 - accuracy: 0.0781WARNING:tensorflow:Callbacks method `on_train_batch_end` is slow compared to the batch time (batch time: 0.0097s vs `on_train_batch_end` time: 0.0663s). Check your callbacks.\n",
      "310/310 [==============================] - 4s 12ms/step - loss: 2.2656 - accuracy: 0.1989 - val_loss: 2.0717 - val_accuracy: 0.2917\n",
      "Epoch 2/80\n",
      "310/310 [==============================] - 3s 10ms/step - loss: 2.0735 - accuracy: 0.2750 - val_loss: 2.0058 - val_accuracy: 0.3086\n",
      "Epoch 3/80\n",
      "310/310 [==============================] - 3s 10ms/step - loss: 1.9951 - accuracy: 0.2985 - val_loss: 1.9608 - val_accuracy: 0.3146\n",
      "Epoch 4/80\n",
      "310/310 [==============================] - 3s 10ms/step - loss: 1.9479 - accuracy: 0.3167 - val_loss: 1.9682 - val_accuracy: 0.3077\n",
      "Epoch 5/80\n",
      "310/310 [==============================] - 3s 10ms/step - loss: 1.9087 - accuracy: 0.3287 - val_loss: 1.9424 - val_accuracy: 0.3246\n",
      "Epoch 6/80\n",
      "310/310 [==============================] - 3s 10ms/step - loss: 1.8587 - accuracy: 0.3484 - val_loss: 1.9553 - val_accuracy: 0.3177\n",
      "Epoch 7/80\n",
      "310/310 [==============================] - 3s 10ms/step - loss: 1.8265 - accuracy: 0.3584 - val_loss: 1.9588 - val_accuracy: 0.3151\n",
      "Epoch 8/80\n",
      "310/310 [==============================] - 3s 10ms/step - loss: 1.7895 - accuracy: 0.3660 - val_loss: 1.9533 - val_accuracy: 0.3143\n",
      "Epoch 9/80\n",
      "310/310 [==============================] - 3s 10ms/step - loss: 1.7543 - accuracy: 0.3852 - val_loss: 1.9566 - val_accuracy: 0.3214\n",
      "Epoch 10/80\n",
      "310/310 [==============================] - ETA: 0s - loss: 1.7167 - accuracy: 0.3980Restoring model weights from the end of the best epoch.\n",
      "310/310 [==============================] - 3s 11ms/step - loss: 1.7167 - accuracy: 0.3980 - val_loss: 1.9808 - val_accuracy: 0.3180\n",
      "Epoch 00010: early stopping\n",
      "CV Log Loss of Best Weights Model in Current Run:  1.9423884471885333\n",
      "i: 3\n",
      "Epoch 1/80\n",
      "  2/310 [..............................] - ETA: 19s - loss: 2.4870 - accuracy: 0.1016WARNING:tensorflow:Callbacks method `on_train_batch_end` is slow compared to the batch time (batch time: 0.0100s vs `on_train_batch_end` time: 0.1135s). Check your callbacks.\n",
      "310/310 [==============================] - 4s 13ms/step - loss: 2.2702 - accuracy: 0.1985 - val_loss: 2.0642 - val_accuracy: 0.2808\n",
      "Epoch 2/80\n",
      "310/310 [==============================] - 3s 11ms/step - loss: 2.0698 - accuracy: 0.2714 - val_loss: 1.9956 - val_accuracy: 0.3031\n",
      "Epoch 3/80\n",
      "310/310 [==============================] - 3s 11ms/step - loss: 1.9911 - accuracy: 0.3006 - val_loss: 1.9538 - val_accuracy: 0.3131\n",
      "Epoch 4/80\n",
      "310/310 [==============================] - 3s 11ms/step - loss: 1.9382 - accuracy: 0.3230 - val_loss: 1.9491 - val_accuracy: 0.3154\n",
      "Epoch 5/80\n",
      "310/310 [==============================] - 3s 11ms/step - loss: 1.8971 - accuracy: 0.3346 - val_loss: 1.9448 - val_accuracy: 0.3171\n",
      "Epoch 6/80\n",
      "310/310 [==============================] - 3s 11ms/step - loss: 1.8493 - accuracy: 0.3528 - val_loss: 1.9468 - val_accuracy: 0.3231\n",
      "Epoch 7/80\n",
      "310/310 [==============================] - 3s 11ms/step - loss: 1.8127 - accuracy: 0.3718 - val_loss: 1.9522 - val_accuracy: 0.3163\n",
      "Epoch 8/80\n",
      "310/310 [==============================] - 3s 10ms/step - loss: 1.7770 - accuracy: 0.3806 - val_loss: 1.9586 - val_accuracy: 0.3140\n",
      "Epoch 9/80\n",
      "310/310 [==============================] - 3s 10ms/step - loss: 1.7443 - accuracy: 0.3931 - val_loss: 1.9730 - val_accuracy: 0.3148\n",
      "Epoch 10/80\n",
      "307/310 [============================>.] - ETA: 0s - loss: 1.7039 - accuracy: 0.4058Restoring model weights from the end of the best epoch.\n",
      "310/310 [==============================] - 3s 10ms/step - loss: 1.7045 - accuracy: 0.4059 - val_loss: 1.9731 - val_accuracy: 0.3080\n",
      "Epoch 00010: early stopping\n",
      "CV Log Loss of Best Weights Model in Current Run:  1.9447986999511173\n",
      "i: 4\n",
      "Epoch 1/80\n",
      "  1/310 [..............................] - ETA: 0s - loss: 2.4841 - accuracy: 0.0469WARNING:tensorflow:Callbacks method `on_train_batch_end` is slow compared to the batch time (batch time: 0.0097s vs `on_train_batch_end` time: 0.0378s). Check your callbacks.\n"
     ]
    },
    {
     "name": "stdout",
     "output_type": "stream",
     "text": [
      "310/310 [==============================] - 4s 12ms/step - loss: 2.2660 - accuracy: 0.1996 - val_loss: 2.0697 - val_accuracy: 0.2797\n",
      "Epoch 2/80\n",
      "310/310 [==============================] - 3s 11ms/step - loss: 2.0707 - accuracy: 0.2718 - val_loss: 2.0047 - val_accuracy: 0.3031\n",
      "Epoch 3/80\n",
      "310/310 [==============================] - 3s 10ms/step - loss: 1.9934 - accuracy: 0.3008 - val_loss: 1.9658 - val_accuracy: 0.3154\n",
      "Epoch 4/80\n",
      "310/310 [==============================] - 3s 10ms/step - loss: 1.9456 - accuracy: 0.3169 - val_loss: 1.9545 - val_accuracy: 0.3240\n",
      "Epoch 5/80\n",
      "310/310 [==============================] - 3s 10ms/step - loss: 1.8928 - accuracy: 0.3336 - val_loss: 1.9426 - val_accuracy: 0.3237\n",
      "Epoch 6/80\n",
      "310/310 [==============================] - 3s 10ms/step - loss: 1.8603 - accuracy: 0.3469 - val_loss: 1.9491 - val_accuracy: 0.3248\n",
      "Epoch 7/80\n",
      "310/310 [==============================] - 3s 10ms/step - loss: 1.8275 - accuracy: 0.3565 - val_loss: 1.9615 - val_accuracy: 0.3203\n",
      "Epoch 8/80\n",
      "310/310 [==============================] - 4s 11ms/step - loss: 1.7893 - accuracy: 0.3711 - val_loss: 1.9532 - val_accuracy: 0.3257\n",
      "Epoch 9/80\n",
      "310/310 [==============================] - 4s 12ms/step - loss: 1.7594 - accuracy: 0.3829 - val_loss: 1.9570 - val_accuracy: 0.3220\n",
      "Epoch 10/80\n",
      "306/310 [============================>.] - ETA: 0s - loss: 1.7249 - accuracy: 0.3919Restoring model weights from the end of the best epoch.\n",
      "310/310 [==============================] - 3s 10ms/step - loss: 1.7249 - accuracy: 0.3916 - val_loss: 1.9709 - val_accuracy: 0.3183\n",
      "Epoch 00010: early stopping\n",
      "CV Log Loss of Best Weights Model in Current Run:  1.9425861044145838\n",
      "i: 5\n",
      "Epoch 1/80\n",
      "  1/310 [..............................] - ETA: 0s - loss: 2.4963 - accuracy: 0.0625WARNING:tensorflow:Callbacks method `on_train_batch_end` is slow compared to the batch time (batch time: 0.0098s vs `on_train_batch_end` time: 0.0378s). Check your callbacks.\n",
      "310/310 [==============================] - 4s 12ms/step - loss: 2.2691 - accuracy: 0.1972 - val_loss: 2.0818 - val_accuracy: 0.2688\n",
      "Epoch 2/80\n",
      "310/310 [==============================] - 3s 10ms/step - loss: 2.0733 - accuracy: 0.2725 - val_loss: 1.9989 - val_accuracy: 0.3034\n",
      "Epoch 3/80\n",
      "310/310 [==============================] - 3s 10ms/step - loss: 1.9997 - accuracy: 0.2974 - val_loss: 1.9744 - val_accuracy: 0.3080\n",
      "Epoch 4/80\n",
      "310/310 [==============================] - 3s 10ms/step - loss: 1.9455 - accuracy: 0.3136 - val_loss: 1.9538 - val_accuracy: 0.3289\n",
      "Epoch 5/80\n",
      "310/310 [==============================] - 3s 10ms/step - loss: 1.9043 - accuracy: 0.3286 - val_loss: 1.9393 - val_accuracy: 0.3280\n",
      "Epoch 6/80\n",
      "310/310 [==============================] - 3s 10ms/step - loss: 1.8658 - accuracy: 0.3408 - val_loss: 1.9520 - val_accuracy: 0.3197\n",
      "Epoch 7/80\n",
      "310/310 [==============================] - 3s 10ms/step - loss: 1.8208 - accuracy: 0.3560 - val_loss: 1.9358 - val_accuracy: 0.3257\n",
      "Epoch 8/80\n",
      "310/310 [==============================] - 3s 10ms/step - loss: 1.7800 - accuracy: 0.3759 - val_loss: 1.9459 - val_accuracy: 0.3180\n",
      "Epoch 9/80\n",
      "310/310 [==============================] - 3s 10ms/step - loss: 1.7579 - accuracy: 0.3831 - val_loss: 1.9504 - val_accuracy: 0.3163\n",
      "Epoch 10/80\n",
      "310/310 [==============================] - 3s 10ms/step - loss: 1.7189 - accuracy: 0.4019 - val_loss: 1.9528 - val_accuracy: 0.3200\n",
      "Epoch 11/80\n",
      "310/310 [==============================] - 3s 10ms/step - loss: 1.6898 - accuracy: 0.4096 - val_loss: 1.9733 - val_accuracy: 0.3103\n",
      "Epoch 12/80\n",
      "306/310 [============================>.] - ETA: 0s - loss: 1.6509 - accuracy: 0.4266Restoring model weights from the end of the best epoch.\n",
      "310/310 [==============================] - 3s 10ms/step - loss: 1.6508 - accuracy: 0.4270 - val_loss: 1.9852 - val_accuracy: 0.3131\n",
      "Epoch 00012: early stopping\n",
      "CV Log Loss of Best Weights Model in Current Run:  1.9358115653958292\n",
      "i: 6\n",
      "Epoch 1/80\n",
      "  1/310 [..............................] - ETA: 0s - loss: 2.4890 - accuracy: 0.0469WARNING:tensorflow:Callbacks method `on_train_batch_end` is slow compared to the batch time (batch time: 0.0098s vs `on_train_batch_end` time: 0.0371s). Check your callbacks.\n",
      "310/310 [==============================] - 4s 12ms/step - loss: 2.2678 - accuracy: 0.1983 - val_loss: 2.0756 - val_accuracy: 0.2811\n",
      "Epoch 2/80\n",
      "310/310 [==============================] - 3s 10ms/step - loss: 2.0701 - accuracy: 0.2727 - val_loss: 1.9944 - val_accuracy: 0.3083\n",
      "Epoch 3/80\n",
      "310/310 [==============================] - 3s 10ms/step - loss: 2.0004 - accuracy: 0.2925 - val_loss: 1.9693 - val_accuracy: 0.3143\n",
      "Epoch 4/80\n",
      "310/310 [==============================] - 3s 10ms/step - loss: 1.9391 - accuracy: 0.3188 - val_loss: 1.9628 - val_accuracy: 0.3223\n",
      "Epoch 5/80\n",
      "310/310 [==============================] - 3s 10ms/step - loss: 1.8991 - accuracy: 0.3309 - val_loss: 1.9399 - val_accuracy: 0.3257\n",
      "Epoch 6/80\n",
      "310/310 [==============================] - 3s 10ms/step - loss: 1.8656 - accuracy: 0.3412 - val_loss: 1.9499 - val_accuracy: 0.3128\n",
      "Epoch 7/80\n",
      "310/310 [==============================] - 3s 10ms/step - loss: 1.8207 - accuracy: 0.3595 - val_loss: 1.9348 - val_accuracy: 0.3148\n",
      "Epoch 8/80\n",
      "310/310 [==============================] - 3s 10ms/step - loss: 1.7930 - accuracy: 0.3721 - val_loss: 1.9455 - val_accuracy: 0.3206\n",
      "Epoch 9/80\n",
      "310/310 [==============================] - 3s 10ms/step - loss: 1.7567 - accuracy: 0.3835 - val_loss: 1.9615 - val_accuracy: 0.3094\n",
      "Epoch 10/80\n",
      "310/310 [==============================] - 3s 10ms/step - loss: 1.7103 - accuracy: 0.3981 - val_loss: 1.9632 - val_accuracy: 0.3137\n",
      "Epoch 11/80\n",
      "310/310 [==============================] - 3s 10ms/step - loss: 1.6845 - accuracy: 0.4116 - val_loss: 2.0048 - val_accuracy: 0.2991\n",
      "Epoch 12/80\n",
      "307/310 [============================>.] - ETA: 0s - loss: 1.6483 - accuracy: 0.4271Restoring model weights from the end of the best epoch.\n",
      "310/310 [==============================] - 3s 10ms/step - loss: 1.6484 - accuracy: 0.4268 - val_loss: 1.9838 - val_accuracy: 0.3054\n",
      "Epoch 00012: early stopping\n",
      "CV Log Loss of Best Weights Model in Current Run:  1.9347590562089327\n",
      "i: 7\n",
      "Epoch 1/80\n",
      "  1/310 [..............................] - ETA: 0s - loss: 2.4832 - accuracy: 0.1406WARNING:tensorflow:Callbacks method `on_train_batch_end` is slow compared to the batch time (batch time: 0.0097s vs `on_train_batch_end` time: 0.0372s). Check your callbacks.\n",
      "310/310 [==============================] - 4s 12ms/step - loss: 2.2753 - accuracy: 0.1978 - val_loss: 2.0760 - val_accuracy: 0.2871\n",
      "Epoch 2/80\n",
      "310/310 [==============================] - 3s 10ms/step - loss: 2.0777 - accuracy: 0.2705 - val_loss: 1.9942 - val_accuracy: 0.3091\n",
      "Epoch 3/80\n",
      "310/310 [==============================] - 3s 11ms/step - loss: 1.9979 - accuracy: 0.2971 - val_loss: 1.9815 - val_accuracy: 0.3154\n",
      "Epoch 4/80\n",
      "310/310 [==============================] - 4s 12ms/step - loss: 1.9382 - accuracy: 0.3193 - val_loss: 1.9587 - val_accuracy: 0.3171\n",
      "Epoch 5/80\n",
      "310/310 [==============================] - 4s 12ms/step - loss: 1.9025 - accuracy: 0.3329 - val_loss: 1.9519 - val_accuracy: 0.3200\n",
      "Epoch 6/80\n",
      "310/310 [==============================] - 3s 11ms/step - loss: 1.8582 - accuracy: 0.3472 - val_loss: 1.9510 - val_accuracy: 0.3186\n",
      "Epoch 7/80\n",
      "310/310 [==============================] - 3s 10ms/step - loss: 1.8232 - accuracy: 0.3639 - val_loss: 1.9472 - val_accuracy: 0.3106\n",
      "Epoch 8/80\n",
      "310/310 [==============================] - 3s 10ms/step - loss: 1.7746 - accuracy: 0.3802 - val_loss: 1.9564 - val_accuracy: 0.3123\n",
      "Epoch 9/80\n",
      "310/310 [==============================] - 3s 10ms/step - loss: 1.7486 - accuracy: 0.3905 - val_loss: 1.9739 - val_accuracy: 0.3054\n",
      "Epoch 10/80\n",
      "310/310 [==============================] - 3s 10ms/step - loss: 1.7077 - accuracy: 0.4081 - val_loss: 1.9656 - val_accuracy: 0.3157\n",
      "Epoch 11/80\n",
      "310/310 [==============================] - 3s 10ms/step - loss: 1.6774 - accuracy: 0.4226 - val_loss: 1.9910 - val_accuracy: 0.3094\n",
      "Epoch 12/80\n",
      "307/310 [============================>.] - ETA: 0s - loss: 1.6415 - accuracy: 0.4334Restoring model weights from the end of the best epoch.\n",
      "310/310 [==============================] - 3s 10ms/step - loss: 1.6416 - accuracy: 0.4336 - val_loss: 1.9988 - val_accuracy: 0.3017\n"
     ]
    },
    {
     "name": "stdout",
     "output_type": "stream",
     "text": [
      "Epoch 00012: early stopping\n",
      "CV Log Loss of Best Weights Model in Current Run:  1.9472068249220538\n",
      "i: 8\n",
      "Epoch 1/80\n",
      "  1/310 [..............................] - ETA: 0s - loss: 2.4899 - accuracy: 0.0625WARNING:tensorflow:Callbacks method `on_train_batch_end` is slow compared to the batch time (batch time: 0.0103s vs `on_train_batch_end` time: 0.0374s). Check your callbacks.\n",
      "310/310 [==============================] - 4s 12ms/step - loss: 2.2648 - accuracy: 0.1993 - val_loss: 2.0625 - val_accuracy: 0.2842\n",
      "Epoch 2/80\n",
      "310/310 [==============================] - 3s 10ms/step - loss: 2.0684 - accuracy: 0.2775 - val_loss: 1.9854 - val_accuracy: 0.3134\n",
      "Epoch 3/80\n",
      "310/310 [==============================] - 3s 10ms/step - loss: 1.9913 - accuracy: 0.2988 - val_loss: 1.9568 - val_accuracy: 0.3197\n",
      "Epoch 4/80\n",
      "310/310 [==============================] - 3s 10ms/step - loss: 1.9431 - accuracy: 0.3207 - val_loss: 1.9532 - val_accuracy: 0.3100\n",
      "Epoch 5/80\n",
      "310/310 [==============================] - 3s 10ms/step - loss: 1.8923 - accuracy: 0.3359 - val_loss: 1.9479 - val_accuracy: 0.3234\n",
      "Epoch 6/80\n",
      "310/310 [==============================] - 3s 10ms/step - loss: 1.8475 - accuracy: 0.3479 - val_loss: 1.9372 - val_accuracy: 0.3197\n",
      "Epoch 7/80\n",
      "310/310 [==============================] - 3s 10ms/step - loss: 1.8241 - accuracy: 0.3590 - val_loss: 1.9579 - val_accuracy: 0.3177\n",
      "Epoch 8/80\n",
      "310/310 [==============================] - 3s 10ms/step - loss: 1.7767 - accuracy: 0.3772 - val_loss: 1.9580 - val_accuracy: 0.3148\n",
      "Epoch 9/80\n",
      "310/310 [==============================] - 3s 10ms/step - loss: 1.7465 - accuracy: 0.3868 - val_loss: 1.9730 - val_accuracy: 0.3146\n",
      "Epoch 10/80\n",
      "310/310 [==============================] - 3s 10ms/step - loss: 1.7220 - accuracy: 0.3957 - val_loss: 1.9786 - val_accuracy: 0.3177\n",
      "Epoch 11/80\n",
      "305/310 [============================>.] - ETA: 0s - loss: 1.6781 - accuracy: 0.4084Restoring model weights from the end of the best epoch.\n",
      "310/310 [==============================] - 3s 11ms/step - loss: 1.6779 - accuracy: 0.4088 - val_loss: 1.9966 - val_accuracy: 0.3086\n",
      "Epoch 00011: early stopping\n",
      "CV Log Loss of Best Weights Model in Current Run:  1.9372216462918543\n",
      "i: 9\n",
      "Epoch 1/80\n",
      "  1/310 [..............................] - ETA: 0s - loss: 2.4792 - accuracy: 0.1094WARNING:tensorflow:Callbacks method `on_train_batch_end` is slow compared to the batch time (batch time: 0.0093s vs `on_train_batch_end` time: 0.0382s). Check your callbacks.\n",
      "310/310 [==============================] - 4s 12ms/step - loss: 2.2731 - accuracy: 0.1977 - val_loss: 2.0863 - val_accuracy: 0.2762\n",
      "Epoch 2/80\n",
      "310/310 [==============================] - 3s 10ms/step - loss: 2.0727 - accuracy: 0.2745 - val_loss: 1.9994 - val_accuracy: 0.3048\n",
      "Epoch 3/80\n",
      "310/310 [==============================] - 3s 10ms/step - loss: 1.9931 - accuracy: 0.2974 - val_loss: 1.9598 - val_accuracy: 0.3137\n",
      "Epoch 4/80\n",
      "310/310 [==============================] - 3s 10ms/step - loss: 1.9381 - accuracy: 0.3203 - val_loss: 1.9526 - val_accuracy: 0.3117\n",
      "Epoch 5/80\n",
      "310/310 [==============================] - 3s 10ms/step - loss: 1.8913 - accuracy: 0.3381 - val_loss: 1.9502 - val_accuracy: 0.3231\n",
      "Epoch 6/80\n",
      "310/310 [==============================] - 3s 10ms/step - loss: 1.8567 - accuracy: 0.3484 - val_loss: 1.9445 - val_accuracy: 0.3237\n",
      "Epoch 7/80\n",
      "310/310 [==============================] - 3s 10ms/step - loss: 1.8179 - accuracy: 0.3602 - val_loss: 1.9419 - val_accuracy: 0.3206\n",
      "Epoch 8/80\n",
      "310/310 [==============================] - 3s 10ms/step - loss: 1.7742 - accuracy: 0.3775 - val_loss: 1.9556 - val_accuracy: 0.3220\n",
      "Epoch 9/80\n",
      "310/310 [==============================] - 3s 10ms/step - loss: 1.7412 - accuracy: 0.3903 - val_loss: 1.9772 - val_accuracy: 0.3120\n",
      "Epoch 10/80\n",
      "310/310 [==============================] - 3s 10ms/step - loss: 1.7100 - accuracy: 0.4050 - val_loss: 1.9718 - val_accuracy: 0.3094\n",
      "Epoch 11/80\n",
      "310/310 [==============================] - 3s 10ms/step - loss: 1.6650 - accuracy: 0.4158 - val_loss: 1.9956 - val_accuracy: 0.3025\n",
      "Epoch 12/80\n",
      "307/310 [============================>.] - ETA: 0s - loss: 1.6353 - accuracy: 0.4339Restoring model weights from the end of the best epoch.\n",
      "310/310 [==============================] - 3s 11ms/step - loss: 1.6355 - accuracy: 0.4336 - val_loss: 2.0012 - val_accuracy: 0.3057\n",
      "Epoch 00012: early stopping\n",
      "CV Log Loss of Best Weights Model in Current Run:  1.9419018188808386\n",
      "i: 10\n",
      "Epoch 1/80\n",
      "  1/310 [..............................] - ETA: 0s - loss: 2.4845 - accuracy: 0.1094WARNING:tensorflow:Callbacks method `on_train_batch_end` is slow compared to the batch time (batch time: 0.0103s vs `on_train_batch_end` time: 0.0379s). Check your callbacks.\n",
      "310/310 [==============================] - 4s 12ms/step - loss: 2.2692 - accuracy: 0.2008 - val_loss: 2.0851 - val_accuracy: 0.2860\n",
      "Epoch 2/80\n",
      "310/310 [==============================] - 3s 10ms/step - loss: 2.0759 - accuracy: 0.2722 - val_loss: 2.0013 - val_accuracy: 0.3014\n",
      "Epoch 3/80\n",
      "310/310 [==============================] - 3s 10ms/step - loss: 1.9975 - accuracy: 0.3005 - val_loss: 1.9633 - val_accuracy: 0.3223\n",
      "Epoch 4/80\n",
      "310/310 [==============================] - 3s 10ms/step - loss: 1.9506 - accuracy: 0.3133 - val_loss: 1.9557 - val_accuracy: 0.3143\n",
      "Epoch 5/80\n",
      "310/310 [==============================] - 3s 10ms/step - loss: 1.9075 - accuracy: 0.3297 - val_loss: 1.9463 - val_accuracy: 0.3286\n",
      "Epoch 6/80\n",
      "310/310 [==============================] - 3s 10ms/step - loss: 1.8707 - accuracy: 0.3437 - val_loss: 1.9638 - val_accuracy: 0.3100\n",
      "Epoch 7/80\n",
      "310/310 [==============================] - 3s 10ms/step - loss: 1.8261 - accuracy: 0.3587 - val_loss: 1.9503 - val_accuracy: 0.3220\n",
      "Epoch 8/80\n",
      "310/310 [==============================] - 3s 10ms/step - loss: 1.7880 - accuracy: 0.3771 - val_loss: 1.9461 - val_accuracy: 0.3240\n",
      "Epoch 9/80\n",
      "310/310 [==============================] - 3s 10ms/step - loss: 1.7579 - accuracy: 0.3845 - val_loss: 1.9590 - val_accuracy: 0.3251\n",
      "Epoch 10/80\n",
      "310/310 [==============================] - 3s 10ms/step - loss: 1.7179 - accuracy: 0.3980 - val_loss: 1.9677 - val_accuracy: 0.3106\n",
      "Epoch 11/80\n",
      "310/310 [==============================] - 3s 10ms/step - loss: 1.6822 - accuracy: 0.4177 - val_loss: 1.9813 - val_accuracy: 0.3117\n",
      "Epoch 12/80\n",
      "310/310 [==============================] - 3s 10ms/step - loss: 1.6339 - accuracy: 0.4314 - val_loss: 1.9920 - val_accuracy: 0.3108\n",
      "Epoch 13/80\n",
      "305/310 [============================>.] - ETA: 0s - loss: 1.6169 - accuracy: 0.4402Restoring model weights from the end of the best epoch.\n",
      "310/310 [==============================] - 3s 10ms/step - loss: 1.6168 - accuracy: 0.4404 - val_loss: 1.9877 - val_accuracy: 0.3111\n",
      "Epoch 00013: early stopping\n",
      "CV Log Loss of Best Weights Model in Current Run:  1.9460711820609815\n",
      "i: 11\n",
      "Epoch 1/80\n",
      "  1/310 [..............................] - ETA: 0s - loss: 2.4825 - accuracy: 0.0938WARNING:tensorflow:Callbacks method `on_train_batch_end` is slow compared to the batch time (batch time: 0.0097s vs `on_train_batch_end` time: 0.0375s). Check your callbacks.\n",
      "310/310 [==============================] - 4s 12ms/step - loss: 2.2718 - accuracy: 0.1964 - val_loss: 2.0832 - val_accuracy: 0.2808\n",
      "Epoch 2/80\n",
      "310/310 [==============================] - 3s 10ms/step - loss: 2.0695 - accuracy: 0.2722 - val_loss: 1.9949 - val_accuracy: 0.3094\n",
      "Epoch 3/80\n",
      "310/310 [==============================] - 3s 10ms/step - loss: 1.9929 - accuracy: 0.3001 - val_loss: 1.9608 - val_accuracy: 0.3203\n",
      "Epoch 4/80\n",
      "310/310 [==============================] - 3s 10ms/step - loss: 1.9468 - accuracy: 0.3143 - val_loss: 1.9563 - val_accuracy: 0.3151\n",
      "Epoch 5/80\n",
      "310/310 [==============================] - 3s 10ms/step - loss: 1.8955 - accuracy: 0.3315 - val_loss: 1.9540 - val_accuracy: 0.3197\n",
      "Epoch 6/80\n",
      "310/310 [==============================] - 3s 10ms/step - loss: 1.8628 - accuracy: 0.3478 - val_loss: 1.9486 - val_accuracy: 0.3191\n",
      "Epoch 7/80\n",
      "310/310 [==============================] - 3s 10ms/step - loss: 1.8114 - accuracy: 0.3621 - val_loss: 1.9435 - val_accuracy: 0.3303\n",
      "Epoch 8/80\n",
      "310/310 [==============================] - 3s 10ms/step - loss: 1.7691 - accuracy: 0.3761 - val_loss: 1.9501 - val_accuracy: 0.3194\n",
      "Epoch 9/80\n",
      "310/310 [==============================] - 3s 10ms/step - loss: 1.7370 - accuracy: 0.3940 - val_loss: 1.9674 - val_accuracy: 0.3157\n",
      "Epoch 10/80\n",
      "310/310 [==============================] - 3s 10ms/step - loss: 1.7044 - accuracy: 0.4032 - val_loss: 1.9807 - val_accuracy: 0.3168\n",
      "Epoch 11/80\n",
      "310/310 [==============================] - 3s 10ms/step - loss: 1.6585 - accuracy: 0.4240 - val_loss: 1.9992 - val_accuracy: 0.3088\n",
      "Epoch 12/80\n",
      "309/310 [============================>.] - ETA: 0s - loss: 1.6165 - accuracy: 0.4384Restoring model weights from the end of the best epoch.\n",
      "310/310 [==============================] - 4s 12ms/step - loss: 1.6162 - accuracy: 0.4384 - val_loss: 1.9995 - val_accuracy: 0.3126\n",
      "Epoch 00012: early stopping\n",
      "CV Log Loss of Best Weights Model in Current Run:  1.943495479285342\n",
      "i: 12\n",
      "Epoch 1/80\n",
      "  1/310 [..............................] - ETA: 0s - loss: 2.5005 - accuracy: 0.1250WARNING:tensorflow:Callbacks method `on_train_batch_end` is slow compared to the batch time (batch time: 0.0098s vs `on_train_batch_end` time: 0.0369s). Check your callbacks.\n",
      "310/310 [==============================] - 4s 12ms/step - loss: 2.2789 - accuracy: 0.1956 - val_loss: 2.0843 - val_accuracy: 0.2828\n",
      "Epoch 2/80\n",
      "310/310 [==============================] - 3s 10ms/step - loss: 2.0756 - accuracy: 0.2702 - val_loss: 2.0077 - val_accuracy: 0.3045\n",
      "Epoch 3/80\n",
      "310/310 [==============================] - 3s 10ms/step - loss: 1.9952 - accuracy: 0.2987 - val_loss: 1.9653 - val_accuracy: 0.3166\n",
      "Epoch 4/80\n",
      "310/310 [==============================] - 3s 10ms/step - loss: 1.9382 - accuracy: 0.3155 - val_loss: 1.9491 - val_accuracy: 0.3174\n",
      "Epoch 5/80\n",
      "310/310 [==============================] - 3s 10ms/step - loss: 1.8989 - accuracy: 0.3331 - val_loss: 1.9518 - val_accuracy: 0.3217\n",
      "Epoch 6/80\n",
      "310/310 [==============================] - 3s 10ms/step - loss: 1.8522 - accuracy: 0.3487 - val_loss: 1.9448 - val_accuracy: 0.3197\n",
      "Epoch 7/80\n",
      "310/310 [==============================] - 3s 10ms/step - loss: 1.8210 - accuracy: 0.3591 - val_loss: 1.9517 - val_accuracy: 0.3151\n",
      "Epoch 8/80\n",
      "310/310 [==============================] - 3s 10ms/step - loss: 1.7808 - accuracy: 0.3755 - val_loss: 1.9613 - val_accuracy: 0.3163\n",
      "Epoch 9/80\n",
      "310/310 [==============================] - 3s 10ms/step - loss: 1.7498 - accuracy: 0.3892 - val_loss: 1.9595 - val_accuracy: 0.3228\n",
      "Epoch 10/80\n",
      "310/310 [==============================] - 3s 10ms/step - loss: 1.7103 - accuracy: 0.4023 - val_loss: 1.9708 - val_accuracy: 0.3083\n",
      "Epoch 11/80\n",
      "306/310 [============================>.] - ETA: 0s - loss: 1.6814 - accuracy: 0.4169Restoring model weights from the end of the best epoch.\n",
      "310/310 [==============================] - 3s 10ms/step - loss: 1.6812 - accuracy: 0.4168 - val_loss: 1.9831 - val_accuracy: 0.3025\n",
      "Epoch 00011: early stopping\n",
      "CV Log Loss of Best Weights Model in Current Run:  1.944769772433846\n",
      "i: 13\n",
      "Epoch 1/80\n",
      "  1/310 [..............................] - ETA: 0s - loss: 2.4913 - accuracy: 0.0781WARNING:tensorflow:Callbacks method `on_train_batch_end` is slow compared to the batch time (batch time: 0.0102s vs `on_train_batch_end` time: 0.0370s). Check your callbacks.\n",
      "310/310 [==============================] - 4s 12ms/step - loss: 2.2716 - accuracy: 0.1954 - val_loss: 2.0788 - val_accuracy: 0.2685\n",
      "Epoch 2/80\n",
      "310/310 [==============================] - 3s 10ms/step - loss: 2.0710 - accuracy: 0.2725 - val_loss: 2.0002 - val_accuracy: 0.3028\n",
      "Epoch 3/80\n",
      "310/310 [==============================] - 3s 10ms/step - loss: 2.0008 - accuracy: 0.2996 - val_loss: 1.9717 - val_accuracy: 0.3057\n",
      "Epoch 4/80\n",
      "310/310 [==============================] - 3s 10ms/step - loss: 1.9421 - accuracy: 0.3176 - val_loss: 1.9571 - val_accuracy: 0.3166\n",
      "Epoch 5/80\n",
      "310/310 [==============================] - 3s 10ms/step - loss: 1.8981 - accuracy: 0.3305 - val_loss: 1.9451 - val_accuracy: 0.3254\n",
      "Epoch 6/80\n",
      "310/310 [==============================] - 3s 10ms/step - loss: 1.8602 - accuracy: 0.3443 - val_loss: 1.9507 - val_accuracy: 0.3166\n",
      "Epoch 7/80\n",
      "310/310 [==============================] - 3s 10ms/step - loss: 1.8263 - accuracy: 0.3570 - val_loss: 1.9534 - val_accuracy: 0.3160\n",
      "Epoch 8/80\n",
      "310/310 [==============================] - 3s 10ms/step - loss: 1.7852 - accuracy: 0.3755 - val_loss: 1.9444 - val_accuracy: 0.3283\n",
      "Epoch 9/80\n",
      "310/310 [==============================] - 3s 10ms/step - loss: 1.7546 - accuracy: 0.3823 - val_loss: 1.9523 - val_accuracy: 0.3194\n",
      "Epoch 10/80\n",
      "310/310 [==============================] - 3s 10ms/step - loss: 1.7198 - accuracy: 0.3941 - val_loss: 1.9705 - val_accuracy: 0.3171\n",
      "Epoch 11/80\n",
      "310/310 [==============================] - 3s 10ms/step - loss: 1.6864 - accuracy: 0.4107 - val_loss: 1.9798 - val_accuracy: 0.3200\n",
      "Epoch 12/80\n",
      "310/310 [==============================] - 3s 10ms/step - loss: 1.6500 - accuracy: 0.4221 - val_loss: 1.9874 - val_accuracy: 0.3146\n",
      "Epoch 13/80\n",
      "310/310 [==============================] - ETA: 0s - loss: 1.6163 - accuracy: 0.4347Restoring model weights from the end of the best epoch.\n",
      "310/310 [==============================] - 3s 10ms/step - loss: 1.6163 - accuracy: 0.4347 - val_loss: 2.0021 - val_accuracy: 0.3197\n",
      "Epoch 00013: early stopping\n",
      "CV Log Loss of Best Weights Model in Current Run:  1.9444291181106004\n",
      "i: 14\n",
      "Epoch 1/80\n",
      "  2/310 [..............................] - ETA: 8s - loss: 2.4817 - accuracy: 0.1094WARNING:tensorflow:Callbacks method `on_train_batch_end` is slow compared to the batch time (batch time: 0.0099s vs `on_train_batch_end` time: 0.0416s). Check your callbacks.\n",
      "310/310 [==============================] - 4s 12ms/step - loss: 2.2675 - accuracy: 0.1978 - val_loss: 2.0785 - val_accuracy: 0.2845\n",
      "Epoch 2/80\n",
      "310/310 [==============================] - 3s 10ms/step - loss: 2.0740 - accuracy: 0.2708 - val_loss: 1.9935 - val_accuracy: 0.3054\n",
      "Epoch 3/80\n",
      "310/310 [==============================] - 3s 10ms/step - loss: 1.9928 - accuracy: 0.2960 - val_loss: 1.9581 - val_accuracy: 0.3148\n",
      "Epoch 4/80\n",
      "310/310 [==============================] - 3s 10ms/step - loss: 1.9438 - accuracy: 0.3155 - val_loss: 1.9591 - val_accuracy: 0.3143\n",
      "Epoch 5/80\n",
      "310/310 [==============================] - 3s 10ms/step - loss: 1.9020 - accuracy: 0.3297 - val_loss: 1.9511 - val_accuracy: 0.3211\n",
      "Epoch 6/80\n",
      "310/310 [==============================] - 4s 12ms/step - loss: 1.8558 - accuracy: 0.3524 - val_loss: 1.9582 - val_accuracy: 0.3108\n",
      "Epoch 7/80\n",
      "310/310 [==============================] - 4s 12ms/step - loss: 1.8207 - accuracy: 0.3631 - val_loss: 1.9422 - val_accuracy: 0.3280\n",
      "Epoch 8/80\n",
      "310/310 [==============================] - 4s 12ms/step - loss: 1.7881 - accuracy: 0.3738 - val_loss: 1.9623 - val_accuracy: 0.3183\n",
      "Epoch 9/80\n",
      "310/310 [==============================] - 3s 10ms/step - loss: 1.7395 - accuracy: 0.3888 - val_loss: 1.9598 - val_accuracy: 0.3180\n",
      "Epoch 10/80\n",
      "310/310 [==============================] - 3s 10ms/step - loss: 1.7011 - accuracy: 0.4091 - val_loss: 1.9792 - val_accuracy: 0.3117\n",
      "Epoch 11/80\n",
      "310/310 [==============================] - 3s 10ms/step - loss: 1.6692 - accuracy: 0.4160 - val_loss: 1.9919 - val_accuracy: 0.3186\n",
      "Epoch 12/80\n",
      "306/310 [============================>.] - ETA: 0s - loss: 1.6403 - accuracy: 0.4304Restoring model weights from the end of the best epoch.\n",
      "310/310 [==============================] - 3s 10ms/step - loss: 1.6392 - accuracy: 0.4308 - val_loss: 1.9964 - val_accuracy: 0.3025\n",
      "Epoch 00012: early stopping\n",
      "CV Log Loss of Best Weights Model in Current Run:  1.9421757341032033\n",
      "i: 15\n",
      "Epoch 1/80\n",
      "  1/310 [..............................] - ETA: 0s - loss: 2.4898 - accuracy: 0.0938WARNING:tensorflow:Callbacks method `on_train_batch_end` is slow compared to the batch time (batch time: 0.0093s vs `on_train_batch_end` time: 0.0374s). Check your callbacks.\n",
      "310/310 [==============================] - 4s 12ms/step - loss: 2.2633 - accuracy: 0.1999 - val_loss: 2.0578 - val_accuracy: 0.2900\n",
      "Epoch 2/80\n",
      "310/310 [==============================] - 3s 10ms/step - loss: 2.0700 - accuracy: 0.2697 - val_loss: 1.9957 - val_accuracy: 0.3057\n",
      "Epoch 3/80\n",
      "310/310 [==============================] - 3s 10ms/step - loss: 2.0001 - accuracy: 0.2968 - val_loss: 1.9663 - val_accuracy: 0.3183\n",
      "Epoch 4/80\n"
     ]
    },
    {
     "name": "stdout",
     "output_type": "stream",
     "text": [
      "310/310 [==============================] - 3s 10ms/step - loss: 1.9405 - accuracy: 0.3158 - val_loss: 1.9630 - val_accuracy: 0.3103\n",
      "Epoch 5/80\n",
      "310/310 [==============================] - 3s 10ms/step - loss: 1.9021 - accuracy: 0.3319 - val_loss: 1.9498 - val_accuracy: 0.3171\n",
      "Epoch 6/80\n",
      "310/310 [==============================] - 3s 10ms/step - loss: 1.8606 - accuracy: 0.3428 - val_loss: 1.9443 - val_accuracy: 0.3269\n",
      "Epoch 7/80\n",
      "310/310 [==============================] - 3s 10ms/step - loss: 1.8280 - accuracy: 0.3537 - val_loss: 1.9540 - val_accuracy: 0.3174\n",
      "Epoch 8/80\n",
      "310/310 [==============================] - 3s 10ms/step - loss: 1.7987 - accuracy: 0.3728 - val_loss: 1.9571 - val_accuracy: 0.3100\n",
      "Epoch 9/80\n",
      "310/310 [==============================] - 3s 10ms/step - loss: 1.7582 - accuracy: 0.3832 - val_loss: 1.9712 - val_accuracy: 0.3083\n",
      "Epoch 10/80\n",
      "310/310 [==============================] - 3s 10ms/step - loss: 1.7319 - accuracy: 0.3915 - val_loss: 1.9973 - val_accuracy: 0.3063\n",
      "Epoch 11/80\n",
      "306/310 [============================>.] - ETA: 0s - loss: 1.6876 - accuracy: 0.4086Restoring model weights from the end of the best epoch.\n",
      "310/310 [==============================] - 3s 10ms/step - loss: 1.6883 - accuracy: 0.4084 - val_loss: 1.9869 - val_accuracy: 0.3166\n",
      "Epoch 00011: early stopping\n",
      "CV Log Loss of Best Weights Model in Current Run:  1.9443017050031597\n",
      "i: 16\n",
      "Epoch 1/80\n",
      "  1/310 [..............................] - ETA: 0s - loss: 2.4781 - accuracy: 0.1875WARNING:tensorflow:Callbacks method `on_train_batch_end` is slow compared to the batch time (batch time: 0.0101s vs `on_train_batch_end` time: 0.0380s). Check your callbacks.\n",
      "310/310 [==============================] - 4s 12ms/step - loss: 2.2653 - accuracy: 0.1997 - val_loss: 2.0770 - val_accuracy: 0.2865\n",
      "Epoch 2/80\n",
      "310/310 [==============================] - 3s 10ms/step - loss: 2.0653 - accuracy: 0.2761 - val_loss: 1.9944 - val_accuracy: 0.3077\n",
      "Epoch 3/80\n",
      "310/310 [==============================] - 3s 10ms/step - loss: 1.9936 - accuracy: 0.2992 - val_loss: 1.9618 - val_accuracy: 0.3203\n",
      "Epoch 4/80\n",
      "310/310 [==============================] - 3s 10ms/step - loss: 1.9386 - accuracy: 0.3203 - val_loss: 1.9637 - val_accuracy: 0.3131\n",
      "Epoch 5/80\n",
      "310/310 [==============================] - 3s 10ms/step - loss: 1.8982 - accuracy: 0.3316 - val_loss: 1.9451 - val_accuracy: 0.3248\n",
      "Epoch 6/80\n",
      "310/310 [==============================] - 3s 10ms/step - loss: 1.8481 - accuracy: 0.3499 - val_loss: 1.9517 - val_accuracy: 0.3148\n",
      "Epoch 7/80\n",
      "310/310 [==============================] - 3s 10ms/step - loss: 1.8184 - accuracy: 0.3633 - val_loss: 1.9503 - val_accuracy: 0.3200\n",
      "Epoch 8/80\n",
      "310/310 [==============================] - 3s 10ms/step - loss: 1.7761 - accuracy: 0.3766 - val_loss: 1.9577 - val_accuracy: 0.3126\n",
      "Epoch 9/80\n",
      "310/310 [==============================] - 3s 10ms/step - loss: 1.7342 - accuracy: 0.3965 - val_loss: 1.9699 - val_accuracy: 0.3177\n",
      "Epoch 10/80\n",
      "306/310 [============================>.] - ETA: 0s - loss: 1.6973 - accuracy: 0.4101Restoring model weights from the end of the best epoch.\n",
      "310/310 [==============================] - 3s 10ms/step - loss: 1.6978 - accuracy: 0.4093 - val_loss: 1.9822 - val_accuracy: 0.3123\n",
      "Epoch 00010: early stopping\n",
      "CV Log Loss of Best Weights Model in Current Run:  1.9451001438458442\n",
      "i: 17\n",
      "Epoch 1/80\n",
      "  2/310 [..............................] - ETA: 7s - loss: 2.4832 - accuracy: 0.1016WARNING:tensorflow:Callbacks method `on_train_batch_end` is slow compared to the batch time (batch time: 0.0098s vs `on_train_batch_end` time: 0.0403s). Check your callbacks.\n",
      "310/310 [==============================] - 4s 12ms/step - loss: 2.2589 - accuracy: 0.2042 - val_loss: 2.0648 - val_accuracy: 0.2831\n",
      "Epoch 2/80\n",
      "310/310 [==============================] - 3s 10ms/step - loss: 2.0614 - accuracy: 0.2809 - val_loss: 1.9879 - val_accuracy: 0.3131\n",
      "Epoch 3/80\n",
      "310/310 [==============================] - 3s 10ms/step - loss: 1.9886 - accuracy: 0.3016 - val_loss: 1.9569 - val_accuracy: 0.3146\n",
      "Epoch 4/80\n",
      "310/310 [==============================] - 3s 11ms/step - loss: 1.9416 - accuracy: 0.3179 - val_loss: 1.9526 - val_accuracy: 0.3177\n",
      "Epoch 5/80\n",
      "310/310 [==============================] - 3s 11ms/step - loss: 1.8943 - accuracy: 0.3305 - val_loss: 1.9387 - val_accuracy: 0.3208\n",
      "Epoch 6/80\n",
      "310/310 [==============================] - 3s 11ms/step - loss: 1.8586 - accuracy: 0.3489 - val_loss: 1.9371 - val_accuracy: 0.3214\n",
      "Epoch 7/80\n",
      "310/310 [==============================] - 3s 11ms/step - loss: 1.8171 - accuracy: 0.3601 - val_loss: 1.9534 - val_accuracy: 0.3177\n",
      "Epoch 8/80\n",
      "310/310 [==============================] - 3s 11ms/step - loss: 1.7822 - accuracy: 0.3764 - val_loss: 1.9554 - val_accuracy: 0.3174\n",
      "Epoch 9/80\n",
      "310/310 [==============================] - 3s 10ms/step - loss: 1.7507 - accuracy: 0.3838 - val_loss: 1.9503 - val_accuracy: 0.3194\n",
      "Epoch 10/80\n",
      "310/310 [==============================] - 3s 10ms/step - loss: 1.7054 - accuracy: 0.4014 - val_loss: 1.9668 - val_accuracy: 0.3188\n",
      "Epoch 11/80\n",
      "306/310 [============================>.] - ETA: 0s - loss: 1.6742 - accuracy: 0.4132Restoring model weights from the end of the best epoch.\n",
      "310/310 [==============================] - 3s 10ms/step - loss: 1.6753 - accuracy: 0.4125 - val_loss: 1.9842 - val_accuracy: 0.3057\n",
      "Epoch 00011: early stopping\n",
      "CV Log Loss of Best Weights Model in Current Run:  1.9370881085152758\n",
      "i: 18\n",
      "Epoch 1/80\n",
      "  1/310 [..............................] - ETA: 0s - loss: 2.4821 - accuracy: 0.1094WARNING:tensorflow:Callbacks method `on_train_batch_end` is slow compared to the batch time (batch time: 0.0098s vs `on_train_batch_end` time: 0.0378s). Check your callbacks.\n",
      "310/310 [==============================] - 4s 12ms/step - loss: 2.2757 - accuracy: 0.1932 - val_loss: 2.0720 - val_accuracy: 0.2822\n",
      "Epoch 2/80\n",
      "310/310 [==============================] - 3s 10ms/step - loss: 2.0747 - accuracy: 0.2723 - val_loss: 1.9967 - val_accuracy: 0.3011\n",
      "Epoch 3/80\n",
      "310/310 [==============================] - 3s 10ms/step - loss: 1.9936 - accuracy: 0.2981 - val_loss: 1.9702 - val_accuracy: 0.3086\n",
      "Epoch 4/80\n",
      "310/310 [==============================] - 3s 10ms/step - loss: 1.9397 - accuracy: 0.3134 - val_loss: 1.9552 - val_accuracy: 0.3134\n",
      "Epoch 5/80\n",
      "310/310 [==============================] - 3s 10ms/step - loss: 1.9019 - accuracy: 0.3336 - val_loss: 1.9555 - val_accuracy: 0.3157\n",
      "Epoch 6/80\n",
      "310/310 [==============================] - 3s 10ms/step - loss: 1.8694 - accuracy: 0.3395 - val_loss: 1.9486 - val_accuracy: 0.3171\n",
      "Epoch 7/80\n",
      "310/310 [==============================] - 3s 10ms/step - loss: 1.8239 - accuracy: 0.3571 - val_loss: 1.9474 - val_accuracy: 0.3200\n",
      "Epoch 8/80\n",
      "310/310 [==============================] - 3s 10ms/step - loss: 1.7911 - accuracy: 0.3752 - val_loss: 1.9538 - val_accuracy: 0.3157\n",
      "Epoch 9/80\n",
      "310/310 [==============================] - 3s 10ms/step - loss: 1.7566 - accuracy: 0.3865 - val_loss: 1.9566 - val_accuracy: 0.3140\n",
      "Epoch 10/80\n",
      "310/310 [==============================] - 3s 10ms/step - loss: 1.7132 - accuracy: 0.4044 - val_loss: 1.9685 - val_accuracy: 0.3088\n",
      "Epoch 11/80\n",
      "310/310 [==============================] - 3s 10ms/step - loss: 1.6784 - accuracy: 0.4193 - val_loss: 1.9759 - val_accuracy: 0.3160\n",
      "Epoch 12/80\n",
      "306/310 [============================>.] - ETA: 0s - loss: 1.6404 - accuracy: 0.4240Restoring model weights from the end of the best epoch.\n",
      "310/310 [==============================] - 3s 10ms/step - loss: 1.6411 - accuracy: 0.4231 - val_loss: 1.9941 - val_accuracy: 0.3183\n",
      "Epoch 00012: early stopping\n",
      "CV Log Loss of Best Weights Model in Current Run:  1.947393637452001\n",
      "i: 19\n",
      "Epoch 1/80\n",
      "  2/310 [..............................] - ETA: 9s - loss: 2.4889 - accuracy: 0.0391WARNING:tensorflow:Callbacks method `on_train_batch_end` is slow compared to the batch time (batch time: 0.0100s vs `on_train_batch_end` time: 0.0493s). Check your callbacks.\n",
      "310/310 [==============================] - 4s 12ms/step - loss: 2.2738 - accuracy: 0.2003 - val_loss: 2.0713 - val_accuracy: 0.2780\n",
      "Epoch 2/80\n",
      "310/310 [==============================] - 3s 11ms/step - loss: 2.0746 - accuracy: 0.2688 - val_loss: 1.9940 - val_accuracy: 0.2945\n",
      "Epoch 3/80\n",
      "310/310 [==============================] - 4s 12ms/step - loss: 1.9911 - accuracy: 0.3000 - val_loss: 1.9646 - val_accuracy: 0.3146\n",
      "Epoch 4/80\n",
      "310/310 [==============================] - 3s 10ms/step - loss: 1.9467 - accuracy: 0.3153 - val_loss: 1.9524 - val_accuracy: 0.3243\n",
      "Epoch 5/80\n",
      "310/310 [==============================] - 3s 10ms/step - loss: 1.9000 - accuracy: 0.3299 - val_loss: 1.9685 - val_accuracy: 0.3208\n",
      "Epoch 6/80\n",
      "310/310 [==============================] - 3s 10ms/step - loss: 1.8674 - accuracy: 0.3457 - val_loss: 1.9485 - val_accuracy: 0.3208\n",
      "Epoch 7/80\n",
      "310/310 [==============================] - 3s 10ms/step - loss: 1.8271 - accuracy: 0.3609 - val_loss: 1.9494 - val_accuracy: 0.3143\n",
      "Epoch 8/80\n",
      "310/310 [==============================] - 3s 10ms/step - loss: 1.7945 - accuracy: 0.3701 - val_loss: 1.9524 - val_accuracy: 0.3137\n",
      "Epoch 9/80\n",
      "310/310 [==============================] - 3s 10ms/step - loss: 1.7559 - accuracy: 0.3849 - val_loss: 1.9691 - val_accuracy: 0.3065\n",
      "Epoch 10/80\n",
      "310/310 [==============================] - 3s 10ms/step - loss: 1.7189 - accuracy: 0.3973 - val_loss: 1.9753 - val_accuracy: 0.3048\n",
      "Epoch 11/80\n",
      "307/310 [============================>.] - ETA: 0s - loss: 1.6866 - accuracy: 0.4085Restoring model weights from the end of the best epoch.\n",
      "310/310 [==============================] - 3s 10ms/step - loss: 1.6865 - accuracy: 0.4086 - val_loss: 1.9880 - val_accuracy: 0.3068\n",
      "Epoch 00011: early stopping\n",
      "CV Log Loss of Best Weights Model in Current Run:  1.9484971646482616\n",
      "Average CV Loss of 20 Runs : 1.9428792225010003\n"
     ]
    }
   ],
   "source": [
    "\n",
    "random_seeds=[9]*10\n",
    "model_list_wE_2=get_network_2_2_models(20)\n"
   ]
  },
  {
   "cell_type": "code",
   "execution_count": 134,
   "metadata": {},
   "outputs": [],
   "source": [
    "train, cv,y_train_w_1, y_cv_w_1 = train_test_split(X_train_w_events.todense(), labels_wE_pd['label'],stratify= labels_wE_pd['label'],test_size=0.15,random_state=1330)\n",
    "y_train=np_utils.to_categorical(y_train_w_1)\n",
    "y_cv=np_utils.to_categorical(y_cv_w_1)"
   ]
  },
  {
   "cell_type": "code",
   "execution_count": 135,
   "metadata": {},
   "outputs": [],
   "source": [
    "wE_1=0.5\n",
    "wE_2=0.5"
   ]
  },
  {
   "cell_type": "code",
   "execution_count": 136,
   "metadata": {},
   "outputs": [],
   "source": [
    "X_train_w_pred_1=np.zeros((train.shape[0],12))\n",
    "X_train_w_pred_2=np.zeros((train.shape[0],12))\n",
    "\n",
    "\n",
    "for i in range(len(model_list_wE_1)):\n",
    "    train_pred_1=model_list_wE_1[i].predict_proba(train)\n",
    "    X_train_w_pred_1+=train_pred_1\n",
    "X_train_w_pred_1/=len(model_list_wE_1)\n",
    "\n",
    "for i in range(len(model_list_wE_2)):\n",
    "    train_pred_2=model_list_wE_2[i].predict_proba(train)\n",
    "    X_train_w_pred_2+=train_pred_2\n",
    "X_train_w_pred_2/=len(model_list_wE_2)\n",
    "\n",
    "\n"
   ]
  },
  {
   "cell_type": "code",
   "execution_count": 137,
   "metadata": {},
   "outputs": [
    {
     "name": "stdout",
     "output_type": "stream",
     "text": [
      "train Average Log-Loss:  1.6717046694557494\n"
     ]
    }
   ],
   "source": [
    "final_train_wE_prediction=wE_1*X_train_w_pred_1+wE_2*X_train_w_pred_2\n",
    "\n",
    "print(\"train Average Log-Loss: \",log_loss(y_train, final_train_wE_prediction))\n",
    "train_predicted_classes_wE=np.argmax(final_train_wE_prediction, axis=1)\n",
    "#plot_confusion_matrix(y_train,train_predicted_classes_wE)"
   ]
  },
  {
   "cell_type": "code",
   "execution_count": 138,
   "metadata": {},
   "outputs": [],
   "source": [
    "X_cv_w_pred_1=np.zeros((cv.shape[0],12))\n",
    "X_cv_w_pred_2=np.zeros((cv.shape[0],12))\n",
    "\n",
    "\n",
    "for i in range(len(model_list_wE_1)):\n",
    "    cv_pred_1=model_list_wE_1[i].predict_proba(cv)\n",
    "    X_cv_w_pred_1+=cv_pred_1\n",
    "X_cv_w_pred_1/=len(model_list_wE_1)\n",
    "\n",
    "for i in range(len(model_list_wE_2)):\n",
    "    cv_pred_2=model_list_wE_2[i].predict_proba(cv)\n",
    "    X_cv_w_pred_2+=cv_pred_2\n",
    "X_cv_w_pred_2/=len(model_list_wE_2)\n",
    "\n",
    "\n"
   ]
  },
  {
   "cell_type": "code",
   "execution_count": 139,
   "metadata": {},
   "outputs": [
    {
     "name": "stdout",
     "output_type": "stream",
     "text": [
      "cv Average Log-Loss:  1.6851474252330876\n"
     ]
    }
   ],
   "source": [
    "final_cv_wE_prediction=wE_1*X_cv_w_pred_1+wE_2*X_cv_w_pred_2\n",
    "\n",
    "print(\"cv Average Log-Loss: \",log_loss(y_cv, final_cv_wE_prediction))\n",
    "cv_predicted_classes_wE=np.argmax(final_cv_wE_prediction, axis=1)\n",
    "#plot_confusion_matrix(y_cv,cv_predicted_classes_wE)"
   ]
  },
  {
   "cell_type": "code",
   "execution_count": 140,
   "metadata": {},
   "outputs": [],
   "source": [
    "X_test_w_pred_1=np.zeros((X_test_w_events.shape[0],12))\n",
    "X_test_w_pred_2=np.zeros((X_test_w_events.shape[0],12))\n",
    "\n",
    "\n",
    "for i in range(len(model_list_wE_1)):\n",
    "    test_pred_1=model_list_wE_1[i].predict_proba(X_test_w_events)\n",
    "    X_test_w_pred_1+=test_pred_1\n",
    "X_test_w_pred_1/=len(model_list_wE_1)\n",
    "\n",
    "for i in range(len(model_list_wE_2)):\n",
    "    test_pred_2=model_list_wE_2[i].predict_proba(X_test_w_events)\n",
    "    X_test_w_pred_2+=test_pred_2\n",
    "X_test_w_pred_2/=len(model_list_wE_2)\n",
    "\n",
    "\n",
    "\n"
   ]
  },
  {
   "cell_type": "code",
   "execution_count": 141,
   "metadata": {},
   "outputs": [],
   "source": [
    "final_test_wE_prediction=wE_1*X_test_w_pred_1+wE_2*X_test_w_pred_2\n"
   ]
  },
  {
   "cell_type": "code",
   "execution_count": 142,
   "metadata": {},
   "outputs": [],
   "source": [
    "np.save('events_avg_test_prediction_kag',final_test_wE_prediction)\n"
   ]
  },
  {
   "cell_type": "code",
   "execution_count": 143,
   "metadata": {},
   "outputs": [],
   "source": [
    "\n",
    "targetencoder = LabelEncoder().fit(gender_age_train.group)\n",
    "Y_woE_labels = targetencoder.transform(gender_age_train.group)\n",
    "targetencoder.classes_"
   ]
  },
  {
   "cell_type": "code",
   "execution_count": 144,
   "metadata": {},
   "outputs": [
    {
     "data": {
      "text/plain": [
       "array(['F23-', 'F24-26', 'F27-28', 'F29-32', 'F33-42', 'F43+', 'M22-',\n",
       "       'M23-26', 'M27-28', 'M29-31', 'M32-38', 'M39+'], dtype=object)"
      ]
     },
     "execution_count": 144,
     "metadata": {},
     "output_type": "execute_result"
    }
   ],
   "source": [
    "targetencoder.classes_"
   ]
  },
  {
   "cell_type": "code",
   "execution_count": 145,
   "metadata": {},
   "outputs": [
    {
     "data": {
      "text/html": [
       "<div>\n",
       "<style scoped>\n",
       "    .dataframe tbody tr th:only-of-type {\n",
       "        vertical-align: middle;\n",
       "    }\n",
       "\n",
       "    .dataframe tbody tr th {\n",
       "        vertical-align: top;\n",
       "    }\n",
       "\n",
       "    .dataframe thead th {\n",
       "        text-align: right;\n",
       "    }\n",
       "</style>\n",
       "<table border=\"1\" class=\"dataframe\">\n",
       "  <thead>\n",
       "    <tr style=\"text-align: right;\">\n",
       "      <th></th>\n",
       "      <th>F23-</th>\n",
       "      <th>F24-26</th>\n",
       "      <th>F27-28</th>\n",
       "      <th>F29-32</th>\n",
       "      <th>F33-42</th>\n",
       "      <th>F43+</th>\n",
       "      <th>M22-</th>\n",
       "      <th>M23-26</th>\n",
       "      <th>M27-28</th>\n",
       "      <th>M29-31</th>\n",
       "      <th>M32-38</th>\n",
       "      <th>M39+</th>\n",
       "    </tr>\n",
       "    <tr>\n",
       "      <th>device_id</th>\n",
       "      <th></th>\n",
       "      <th></th>\n",
       "      <th></th>\n",
       "      <th></th>\n",
       "      <th></th>\n",
       "      <th></th>\n",
       "      <th></th>\n",
       "      <th></th>\n",
       "      <th></th>\n",
       "      <th></th>\n",
       "      <th></th>\n",
       "      <th></th>\n",
       "    </tr>\n",
       "  </thead>\n",
       "  <tbody>\n",
       "    <tr>\n",
       "      <th>1002079943728939269</th>\n",
       "      <td>0.001875</td>\n",
       "      <td>0.002835</td>\n",
       "      <td>0.004289</td>\n",
       "      <td>0.010833</td>\n",
       "      <td>0.037011</td>\n",
       "      <td>0.051926</td>\n",
       "      <td>0.006140</td>\n",
       "      <td>0.031122</td>\n",
       "      <td>0.042656</td>\n",
       "      <td>0.110625</td>\n",
       "      <td>0.272853</td>\n",
       "      <td>0.427837</td>\n",
       "    </tr>\n",
       "    <tr>\n",
       "      <th>-1547860181818787117</th>\n",
       "      <td>0.004546</td>\n",
       "      <td>0.007698</td>\n",
       "      <td>0.011314</td>\n",
       "      <td>0.027318</td>\n",
       "      <td>0.075584</td>\n",
       "      <td>0.086769</td>\n",
       "      <td>0.009452</td>\n",
       "      <td>0.041660</td>\n",
       "      <td>0.049207</td>\n",
       "      <td>0.110444</td>\n",
       "      <td>0.252062</td>\n",
       "      <td>0.323946</td>\n",
       "    </tr>\n",
       "    <tr>\n",
       "      <th>7374582448058474277</th>\n",
       "      <td>0.025934</td>\n",
       "      <td>0.045844</td>\n",
       "      <td>0.054180</td>\n",
       "      <td>0.112433</td>\n",
       "      <td>0.142190</td>\n",
       "      <td>0.068098</td>\n",
       "      <td>0.022447</td>\n",
       "      <td>0.055782</td>\n",
       "      <td>0.062693</td>\n",
       "      <td>0.107740</td>\n",
       "      <td>0.191604</td>\n",
       "      <td>0.111055</td>\n",
       "    </tr>\n",
       "    <tr>\n",
       "      <th>-6220210354783429585</th>\n",
       "      <td>0.005893</td>\n",
       "      <td>0.008417</td>\n",
       "      <td>0.008569</td>\n",
       "      <td>0.015109</td>\n",
       "      <td>0.030579</td>\n",
       "      <td>0.053670</td>\n",
       "      <td>0.046596</td>\n",
       "      <td>0.134732</td>\n",
       "      <td>0.088669</td>\n",
       "      <td>0.152324</td>\n",
       "      <td>0.215122</td>\n",
       "      <td>0.240321</td>\n",
       "    </tr>\n",
       "    <tr>\n",
       "      <th>6873889408535437611</th>\n",
       "      <td>0.008762</td>\n",
       "      <td>0.026233</td>\n",
       "      <td>0.031258</td>\n",
       "      <td>0.049995</td>\n",
       "      <td>0.047091</td>\n",
       "      <td>0.034271</td>\n",
       "      <td>0.019393</td>\n",
       "      <td>0.123866</td>\n",
       "      <td>0.132189</td>\n",
       "      <td>0.206831</td>\n",
       "      <td>0.214018</td>\n",
       "      <td>0.106092</td>\n",
       "    </tr>\n",
       "  </tbody>\n",
       "</table>\n",
       "</div>"
      ],
      "text/plain": [
       "                          F23-    F24-26    F27-28    F29-32    F33-42  \\\n",
       "device_id                                                                \n",
       " 1002079943728939269  0.001875  0.002835  0.004289  0.010833  0.037011   \n",
       "-1547860181818787117  0.004546  0.007698  0.011314  0.027318  0.075584   \n",
       " 7374582448058474277  0.025934  0.045844  0.054180  0.112433  0.142190   \n",
       "-6220210354783429585  0.005893  0.008417  0.008569  0.015109  0.030579   \n",
       " 6873889408535437611  0.008762  0.026233  0.031258  0.049995  0.047091   \n",
       "\n",
       "                          F43+      M22-    M23-26    M27-28    M29-31  \\\n",
       "device_id                                                                \n",
       " 1002079943728939269  0.051926  0.006140  0.031122  0.042656  0.110625   \n",
       "-1547860181818787117  0.086769  0.009452  0.041660  0.049207  0.110444   \n",
       " 7374582448058474277  0.068098  0.022447  0.055782  0.062693  0.107740   \n",
       "-6220210354783429585  0.053670  0.046596  0.134732  0.088669  0.152324   \n",
       " 6873889408535437611  0.034271  0.019393  0.123866  0.132189  0.206831   \n",
       "\n",
       "                        M32-38      M39+  \n",
       "device_id                                 \n",
       " 1002079943728939269  0.272853  0.427837  \n",
       "-1547860181818787117  0.252062  0.323946  \n",
       " 7374582448058474277  0.191604  0.111055  \n",
       "-6220210354783429585  0.215122  0.240321  \n",
       " 6873889408535437611  0.214018  0.106092  "
      ]
     },
     "execution_count": 145,
     "metadata": {},
     "output_type": "execute_result"
    }
   ],
   "source": [
    "pred_wE = pd.DataFrame(final_test_wE_prediction, index = test_wE_deviceids['device_id'], columns=targetencoder.classes_)\n",
    "pred_wE.index.name='device_id'\n",
    "pred_wE.head()\n"
   ]
  },
  {
   "cell_type": "code",
   "execution_count": 146,
   "metadata": {},
   "outputs": [],
   "source": [
    "pred_wE.to_csv('pred_wE.csv',index=True)\n"
   ]
  },
  {
   "cell_type": "markdown",
   "metadata": {},
   "source": [
    "# Combining Results:"
   ]
  },
  {
   "cell_type": "code",
   "execution_count": null,
   "metadata": {},
   "outputs": [],
   "source": [
    "pred_woE=pd.read_csv(\"pred_woE.csv\") \n",
    "pred_wE=pd.read_csv(\"pred_wE.csv\") \n"
   ]
  },
  {
   "cell_type": "code",
   "execution_count": null,
   "metadata": {},
   "outputs": [],
   "source": [
    "pred_woE"
   ]
  },
  {
   "cell_type": "code",
   "execution_count": 147,
   "metadata": {},
   "outputs": [
    {
     "data": {
      "text/html": [
       "<div>\n",
       "<style scoped>\n",
       "    .dataframe tbody tr th:only-of-type {\n",
       "        vertical-align: middle;\n",
       "    }\n",
       "\n",
       "    .dataframe tbody tr th {\n",
       "        vertical-align: top;\n",
       "    }\n",
       "\n",
       "    .dataframe thead th {\n",
       "        text-align: right;\n",
       "    }\n",
       "</style>\n",
       "<table border=\"1\" class=\"dataframe\">\n",
       "  <thead>\n",
       "    <tr style=\"text-align: right;\">\n",
       "      <th></th>\n",
       "      <th>F23-</th>\n",
       "      <th>F24-26</th>\n",
       "      <th>F27-28</th>\n",
       "      <th>F29-32</th>\n",
       "      <th>F33-42</th>\n",
       "      <th>F43+</th>\n",
       "      <th>M22-</th>\n",
       "      <th>M23-26</th>\n",
       "      <th>M27-28</th>\n",
       "      <th>M29-31</th>\n",
       "      <th>M32-38</th>\n",
       "      <th>M39+</th>\n",
       "    </tr>\n",
       "    <tr>\n",
       "      <th>device_id</th>\n",
       "      <th></th>\n",
       "      <th></th>\n",
       "      <th></th>\n",
       "      <th></th>\n",
       "      <th></th>\n",
       "      <th></th>\n",
       "      <th></th>\n",
       "      <th></th>\n",
       "      <th></th>\n",
       "      <th></th>\n",
       "      <th></th>\n",
       "      <th></th>\n",
       "    </tr>\n",
       "  </thead>\n",
       "  <tbody>\n",
       "    <tr>\n",
       "      <th>1002079943728939269</th>\n",
       "      <td>0.001875</td>\n",
       "      <td>0.002835</td>\n",
       "      <td>0.004289</td>\n",
       "      <td>0.010833</td>\n",
       "      <td>0.037011</td>\n",
       "      <td>0.051926</td>\n",
       "      <td>0.006140</td>\n",
       "      <td>0.031122</td>\n",
       "      <td>0.042656</td>\n",
       "      <td>0.110625</td>\n",
       "      <td>0.272853</td>\n",
       "      <td>0.427837</td>\n",
       "    </tr>\n",
       "    <tr>\n",
       "      <th>-1547860181818787117</th>\n",
       "      <td>0.004546</td>\n",
       "      <td>0.007698</td>\n",
       "      <td>0.011314</td>\n",
       "      <td>0.027318</td>\n",
       "      <td>0.075584</td>\n",
       "      <td>0.086769</td>\n",
       "      <td>0.009452</td>\n",
       "      <td>0.041660</td>\n",
       "      <td>0.049207</td>\n",
       "      <td>0.110444</td>\n",
       "      <td>0.252062</td>\n",
       "      <td>0.323946</td>\n",
       "    </tr>\n",
       "    <tr>\n",
       "      <th>7374582448058474277</th>\n",
       "      <td>0.025934</td>\n",
       "      <td>0.045844</td>\n",
       "      <td>0.054180</td>\n",
       "      <td>0.112433</td>\n",
       "      <td>0.142190</td>\n",
       "      <td>0.068098</td>\n",
       "      <td>0.022447</td>\n",
       "      <td>0.055782</td>\n",
       "      <td>0.062693</td>\n",
       "      <td>0.107740</td>\n",
       "      <td>0.191604</td>\n",
       "      <td>0.111055</td>\n",
       "    </tr>\n",
       "    <tr>\n",
       "      <th>-6220210354783429585</th>\n",
       "      <td>0.005893</td>\n",
       "      <td>0.008417</td>\n",
       "      <td>0.008569</td>\n",
       "      <td>0.015109</td>\n",
       "      <td>0.030579</td>\n",
       "      <td>0.053670</td>\n",
       "      <td>0.046596</td>\n",
       "      <td>0.134732</td>\n",
       "      <td>0.088669</td>\n",
       "      <td>0.152324</td>\n",
       "      <td>0.215122</td>\n",
       "      <td>0.240321</td>\n",
       "    </tr>\n",
       "    <tr>\n",
       "      <th>6873889408535437611</th>\n",
       "      <td>0.008762</td>\n",
       "      <td>0.026233</td>\n",
       "      <td>0.031258</td>\n",
       "      <td>0.049995</td>\n",
       "      <td>0.047091</td>\n",
       "      <td>0.034271</td>\n",
       "      <td>0.019393</td>\n",
       "      <td>0.123866</td>\n",
       "      <td>0.132189</td>\n",
       "      <td>0.206831</td>\n",
       "      <td>0.214018</td>\n",
       "      <td>0.106092</td>\n",
       "    </tr>\n",
       "  </tbody>\n",
       "</table>\n",
       "</div>"
      ],
      "text/plain": [
       "                          F23-    F24-26    F27-28    F29-32    F33-42  \\\n",
       "device_id                                                                \n",
       " 1002079943728939269  0.001875  0.002835  0.004289  0.010833  0.037011   \n",
       "-1547860181818787117  0.004546  0.007698  0.011314  0.027318  0.075584   \n",
       " 7374582448058474277  0.025934  0.045844  0.054180  0.112433  0.142190   \n",
       "-6220210354783429585  0.005893  0.008417  0.008569  0.015109  0.030579   \n",
       " 6873889408535437611  0.008762  0.026233  0.031258  0.049995  0.047091   \n",
       "\n",
       "                          F43+      M22-    M23-26    M27-28    M29-31  \\\n",
       "device_id                                                                \n",
       " 1002079943728939269  0.051926  0.006140  0.031122  0.042656  0.110625   \n",
       "-1547860181818787117  0.086769  0.009452  0.041660  0.049207  0.110444   \n",
       " 7374582448058474277  0.068098  0.022447  0.055782  0.062693  0.107740   \n",
       "-6220210354783429585  0.053670  0.046596  0.134732  0.088669  0.152324   \n",
       " 6873889408535437611  0.034271  0.019393  0.123866  0.132189  0.206831   \n",
       "\n",
       "                        M32-38      M39+  \n",
       "device_id                                 \n",
       " 1002079943728939269  0.272853  0.427837  \n",
       "-1547860181818787117  0.252062  0.323946  \n",
       " 7374582448058474277  0.191604  0.111055  \n",
       "-6220210354783429585  0.215122  0.240321  \n",
       " 6873889408535437611  0.214018  0.106092  "
      ]
     },
     "execution_count": 147,
     "metadata": {},
     "output_type": "execute_result"
    }
   ],
   "source": [
    "final_pred=pd.concat([pred_wE,pred_woE], axis=0)\n",
    "final_pred.head()"
   ]
  },
  {
   "cell_type": "code",
   "execution_count": 148,
   "metadata": {},
   "outputs": [
    {
     "data": {
      "text/plain": [
       "(112071, 12)"
      ]
     },
     "execution_count": 148,
     "metadata": {},
     "output_type": "execute_result"
    }
   ],
   "source": [
    "final_pred.shape"
   ]
  },
  {
   "cell_type": "code",
   "execution_count": 149,
   "metadata": {},
   "outputs": [],
   "source": [
    "final_pred.to_csv('final_submission_dl.csv',index=True)\n"
   ]
  },
  {
   "cell_type": "markdown",
   "metadata": {},
   "source": [
    "# Kaggle Ranking and Score"
   ]
  },
  {
   "cell_type": "code",
   "execution_count": 2,
   "metadata": {},
   "outputs": [],
   "source": [
    "from IPython.display import Image\n"
   ]
  },
  {
   "cell_type": "markdown",
   "metadata": {},
   "source": [
    "| LB Category  | Rank-top 10th%    |  My Rank   | Score |\n",
    "|:-------------|:-----------|:------|:------|\n",
    "|Public  | 168       | 155  |2.23523|\n",
    "|Private | 168    | 178   |2.24054|\n"
   ]
  },
  {
   "cell_type": "code",
   "execution_count": 3,
   "metadata": {},
   "outputs": [
    {
     "data": {
      "image/png": "[encoded data removed]",
      "text/plain": [
       "<IPython.core.display.Image object>"
      ]
     },
     "execution_count": 3,
     "metadata": {},
     "output_type": "execute_result"
    }
   ],
   "source": [
    "Image('Leaderboard.png')\n"
   ]
  },
  {
   "cell_type": "code",
   "execution_count": 4,
   "metadata": {},
   "outputs": [
    {
     "data": {
      "image/png": "[encoded data removed]",
      "text/plain": [
       "<IPython.core.display.Image object>"
      ]
     },
     "execution_count": 4,
     "metadata": {},
     "output_type": "execute_result"
    }
   ],
   "source": [
    "Image('Leaderboard_1.png')\n"
   ]
  },
  {
   "cell_type": "code",
   "execution_count": 10,
   "metadata": {},
   "outputs": [
    {
     "data": {
      "image/png": "[encoded data removed]",
      "text/plain": [
       "<IPython.core.display.Image object>"
      ]
     },
     "execution_count": 10,
     "metadata": {},
     "output_type": "execute_result"
    }
   ],
   "source": [
    "Image('Leaderboard_public.png')\n"
   ]
  },
  {
   "cell_type": "code",
   "execution_count": 11,
   "metadata": {},
   "outputs": [
    {
     "data": {
      "image/png": "[encoded data removed]",
      "text/plain": [
       "<IPython.core.display.Image object>"
      ]
     },
     "execution_count": 11,
     "metadata": {},
     "output_type": "execute_result"
    }
   ],
   "source": [
    "Image('Leaderboard_private.png')\n"
   ]
  },
  {
   "cell_type": "code",
   "execution_count": null,
   "metadata": {},
   "outputs": [],
   "source": []
  }
 ],
 "metadata": {
  "kernelspec": {
   "display_name": "Python 3",
   "language": "python",
   "name": "python3"
  },
  "language_info": {
   "codemirror_mode": {
    "name": "ipython",
    "version": 3
   },
   "file_extension": ".py",
   "mimetype": "text/x-python",
   "name": "python",
   "nbconvert_exporter": "python",
   "pygments_lexer": "ipython3",
   "version": "3.7.3"
  }
 },
 "nbformat": 4,
 "nbformat_minor": 2
}
